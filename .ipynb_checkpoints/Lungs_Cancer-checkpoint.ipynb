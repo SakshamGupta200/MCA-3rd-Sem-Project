{
 "cells": [
  {
   "cell_type": "code",
   "execution_count": 26,
   "id": "8e3a9fda-b043-4af4-9b54-842d6812f54e",
   "metadata": {},
   "outputs": [],
   "source": [
    "import numpy as np\n",
    "import pandas as pd\n",
    "import seaborn as sns\n",
    "import matplotlib.pyplot as plt\n",
    "import warnings\n",
    "warnings.filterwarnings('ignore')\n",
    "import plotly.figure_factory as ff\n",
    "import plotly.express as px\n",
    "from sklearn import preprocessing\n",
    "from sklearn.model_selection import train_test_split\n",
    "from sklearn.metrics import confusion_matrix, accuracy_score, classification_report"
   ]
  },
  {
   "cell_type": "code",
   "execution_count": 27,
   "id": "daa75a2a-932d-43a2-b646-2892ce2a6f59",
   "metadata": {},
   "outputs": [
    {
     "data": {
      "text/html": [
       "<div>\n",
       "<style scoped>\n",
       "    .dataframe tbody tr th:only-of-type {\n",
       "        vertical-align: middle;\n",
       "    }\n",
       "\n",
       "    .dataframe tbody tr th {\n",
       "        vertical-align: top;\n",
       "    }\n",
       "\n",
       "    .dataframe thead th {\n",
       "        text-align: right;\n",
       "    }\n",
       "</style>\n",
       "<table border=\"1\" class=\"dataframe\">\n",
       "  <thead>\n",
       "    <tr style=\"text-align: right;\">\n",
       "      <th></th>\n",
       "      <th>GENDER</th>\n",
       "      <th>AGE</th>\n",
       "      <th>SMOKING</th>\n",
       "      <th>YELLOW_FINGERS</th>\n",
       "      <th>ANXIETY</th>\n",
       "      <th>PEER_PRESSURE</th>\n",
       "      <th>CHRONIC DISEASE</th>\n",
       "      <th>FATIGUE</th>\n",
       "      <th>ALLERGY</th>\n",
       "      <th>WHEEZING</th>\n",
       "      <th>ALCOHOL CONSUMING</th>\n",
       "      <th>COUGHING</th>\n",
       "      <th>SHORTNESS OF BREATH</th>\n",
       "      <th>SWALLOWING DIFFICULTY</th>\n",
       "      <th>CHEST PAIN</th>\n",
       "      <th>LUNG_CANCER</th>\n",
       "    </tr>\n",
       "  </thead>\n",
       "  <tbody>\n",
       "    <tr>\n",
       "      <th>0</th>\n",
       "      <td>M</td>\n",
       "      <td>69</td>\n",
       "      <td>1</td>\n",
       "      <td>2</td>\n",
       "      <td>2</td>\n",
       "      <td>1</td>\n",
       "      <td>1</td>\n",
       "      <td>2</td>\n",
       "      <td>1</td>\n",
       "      <td>2</td>\n",
       "      <td>2</td>\n",
       "      <td>2</td>\n",
       "      <td>2</td>\n",
       "      <td>2</td>\n",
       "      <td>2</td>\n",
       "      <td>YES</td>\n",
       "    </tr>\n",
       "    <tr>\n",
       "      <th>1</th>\n",
       "      <td>M</td>\n",
       "      <td>74</td>\n",
       "      <td>2</td>\n",
       "      <td>1</td>\n",
       "      <td>1</td>\n",
       "      <td>1</td>\n",
       "      <td>2</td>\n",
       "      <td>2</td>\n",
       "      <td>2</td>\n",
       "      <td>1</td>\n",
       "      <td>1</td>\n",
       "      <td>1</td>\n",
       "      <td>2</td>\n",
       "      <td>2</td>\n",
       "      <td>2</td>\n",
       "      <td>YES</td>\n",
       "    </tr>\n",
       "    <tr>\n",
       "      <th>2</th>\n",
       "      <td>F</td>\n",
       "      <td>59</td>\n",
       "      <td>1</td>\n",
       "      <td>1</td>\n",
       "      <td>1</td>\n",
       "      <td>2</td>\n",
       "      <td>1</td>\n",
       "      <td>2</td>\n",
       "      <td>1</td>\n",
       "      <td>2</td>\n",
       "      <td>1</td>\n",
       "      <td>2</td>\n",
       "      <td>2</td>\n",
       "      <td>1</td>\n",
       "      <td>2</td>\n",
       "      <td>NO</td>\n",
       "    </tr>\n",
       "    <tr>\n",
       "      <th>3</th>\n",
       "      <td>M</td>\n",
       "      <td>63</td>\n",
       "      <td>2</td>\n",
       "      <td>2</td>\n",
       "      <td>2</td>\n",
       "      <td>1</td>\n",
       "      <td>1</td>\n",
       "      <td>1</td>\n",
       "      <td>1</td>\n",
       "      <td>1</td>\n",
       "      <td>2</td>\n",
       "      <td>1</td>\n",
       "      <td>1</td>\n",
       "      <td>2</td>\n",
       "      <td>2</td>\n",
       "      <td>NO</td>\n",
       "    </tr>\n",
       "    <tr>\n",
       "      <th>4</th>\n",
       "      <td>F</td>\n",
       "      <td>63</td>\n",
       "      <td>1</td>\n",
       "      <td>2</td>\n",
       "      <td>1</td>\n",
       "      <td>1</td>\n",
       "      <td>1</td>\n",
       "      <td>1</td>\n",
       "      <td>1</td>\n",
       "      <td>2</td>\n",
       "      <td>1</td>\n",
       "      <td>2</td>\n",
       "      <td>2</td>\n",
       "      <td>1</td>\n",
       "      <td>1</td>\n",
       "      <td>NO</td>\n",
       "    </tr>\n",
       "    <tr>\n",
       "      <th>...</th>\n",
       "      <td>...</td>\n",
       "      <td>...</td>\n",
       "      <td>...</td>\n",
       "      <td>...</td>\n",
       "      <td>...</td>\n",
       "      <td>...</td>\n",
       "      <td>...</td>\n",
       "      <td>...</td>\n",
       "      <td>...</td>\n",
       "      <td>...</td>\n",
       "      <td>...</td>\n",
       "      <td>...</td>\n",
       "      <td>...</td>\n",
       "      <td>...</td>\n",
       "      <td>...</td>\n",
       "      <td>...</td>\n",
       "    </tr>\n",
       "    <tr>\n",
       "      <th>304</th>\n",
       "      <td>F</td>\n",
       "      <td>56</td>\n",
       "      <td>1</td>\n",
       "      <td>1</td>\n",
       "      <td>1</td>\n",
       "      <td>2</td>\n",
       "      <td>2</td>\n",
       "      <td>2</td>\n",
       "      <td>1</td>\n",
       "      <td>1</td>\n",
       "      <td>2</td>\n",
       "      <td>2</td>\n",
       "      <td>2</td>\n",
       "      <td>2</td>\n",
       "      <td>1</td>\n",
       "      <td>YES</td>\n",
       "    </tr>\n",
       "    <tr>\n",
       "      <th>305</th>\n",
       "      <td>M</td>\n",
       "      <td>70</td>\n",
       "      <td>2</td>\n",
       "      <td>1</td>\n",
       "      <td>1</td>\n",
       "      <td>1</td>\n",
       "      <td>1</td>\n",
       "      <td>2</td>\n",
       "      <td>2</td>\n",
       "      <td>2</td>\n",
       "      <td>2</td>\n",
       "      <td>2</td>\n",
       "      <td>2</td>\n",
       "      <td>1</td>\n",
       "      <td>2</td>\n",
       "      <td>YES</td>\n",
       "    </tr>\n",
       "    <tr>\n",
       "      <th>306</th>\n",
       "      <td>M</td>\n",
       "      <td>58</td>\n",
       "      <td>2</td>\n",
       "      <td>1</td>\n",
       "      <td>1</td>\n",
       "      <td>1</td>\n",
       "      <td>1</td>\n",
       "      <td>1</td>\n",
       "      <td>2</td>\n",
       "      <td>2</td>\n",
       "      <td>2</td>\n",
       "      <td>2</td>\n",
       "      <td>1</td>\n",
       "      <td>1</td>\n",
       "      <td>2</td>\n",
       "      <td>YES</td>\n",
       "    </tr>\n",
       "    <tr>\n",
       "      <th>307</th>\n",
       "      <td>M</td>\n",
       "      <td>67</td>\n",
       "      <td>2</td>\n",
       "      <td>1</td>\n",
       "      <td>2</td>\n",
       "      <td>1</td>\n",
       "      <td>1</td>\n",
       "      <td>2</td>\n",
       "      <td>2</td>\n",
       "      <td>1</td>\n",
       "      <td>2</td>\n",
       "      <td>2</td>\n",
       "      <td>2</td>\n",
       "      <td>1</td>\n",
       "      <td>2</td>\n",
       "      <td>YES</td>\n",
       "    </tr>\n",
       "    <tr>\n",
       "      <th>308</th>\n",
       "      <td>M</td>\n",
       "      <td>62</td>\n",
       "      <td>1</td>\n",
       "      <td>1</td>\n",
       "      <td>1</td>\n",
       "      <td>2</td>\n",
       "      <td>1</td>\n",
       "      <td>2</td>\n",
       "      <td>2</td>\n",
       "      <td>2</td>\n",
       "      <td>2</td>\n",
       "      <td>1</td>\n",
       "      <td>1</td>\n",
       "      <td>2</td>\n",
       "      <td>1</td>\n",
       "      <td>YES</td>\n",
       "    </tr>\n",
       "  </tbody>\n",
       "</table>\n",
       "<p>309 rows × 16 columns</p>\n",
       "</div>"
      ],
      "text/plain": [
       "    GENDER  AGE  SMOKING  YELLOW_FINGERS  ANXIETY  PEER_PRESSURE  \\\n",
       "0        M   69        1               2        2              1   \n",
       "1        M   74        2               1        1              1   \n",
       "2        F   59        1               1        1              2   \n",
       "3        M   63        2               2        2              1   \n",
       "4        F   63        1               2        1              1   \n",
       "..     ...  ...      ...             ...      ...            ...   \n",
       "304      F   56        1               1        1              2   \n",
       "305      M   70        2               1        1              1   \n",
       "306      M   58        2               1        1              1   \n",
       "307      M   67        2               1        2              1   \n",
       "308      M   62        1               1        1              2   \n",
       "\n",
       "     CHRONIC DISEASE  FATIGUE   ALLERGY   WHEEZING  ALCOHOL CONSUMING  \\\n",
       "0                  1         2         1         2                  2   \n",
       "1                  2         2         2         1                  1   \n",
       "2                  1         2         1         2                  1   \n",
       "3                  1         1         1         1                  2   \n",
       "4                  1         1         1         2                  1   \n",
       "..               ...       ...       ...       ...                ...   \n",
       "304                2         2         1         1                  2   \n",
       "305                1         2         2         2                  2   \n",
       "306                1         1         2         2                  2   \n",
       "307                1         2         2         1                  2   \n",
       "308                1         2         2         2                  2   \n",
       "\n",
       "     COUGHING  SHORTNESS OF BREATH  SWALLOWING DIFFICULTY  CHEST PAIN  \\\n",
       "0           2                    2                      2           2   \n",
       "1           1                    2                      2           2   \n",
       "2           2                    2                      1           2   \n",
       "3           1                    1                      2           2   \n",
       "4           2                    2                      1           1   \n",
       "..        ...                  ...                    ...         ...   \n",
       "304         2                    2                      2           1   \n",
       "305         2                    2                      1           2   \n",
       "306         2                    1                      1           2   \n",
       "307         2                    2                      1           2   \n",
       "308         1                    1                      2           1   \n",
       "\n",
       "    LUNG_CANCER  \n",
       "0           YES  \n",
       "1           YES  \n",
       "2            NO  \n",
       "3            NO  \n",
       "4            NO  \n",
       "..          ...  \n",
       "304         YES  \n",
       "305         YES  \n",
       "306         YES  \n",
       "307         YES  \n",
       "308         YES  \n",
       "\n",
       "[309 rows x 16 columns]"
      ]
     },
     "execution_count": 27,
     "metadata": {},
     "output_type": "execute_result"
    }
   ],
   "source": [
    "df = pd.read_csv(\"survey lung cancer.csv\")\n",
    "df"
   ]
  },
  {
   "cell_type": "markdown",
   "id": "3295eadb-19d5-4dd9-af26-5526a92f1d8b",
   "metadata": {},
   "source": [
    "# EDA"
   ]
  },
  {
   "cell_type": "markdown",
   "id": "5268d6d1-8d32-417b-ae79-62eec80b92e3",
   "metadata": {},
   "source": [
    "### Exploring data analysis"
   ]
  },
  {
   "cell_type": "code",
   "execution_count": 28,
   "id": "59383ee1-ae2d-4e73-856d-b4bf93edb985",
   "metadata": {},
   "outputs": [
    {
     "name": "stdout",
     "output_type": "stream",
     "text": [
      "<class 'pandas.core.frame.DataFrame'>\n",
      "RangeIndex: 309 entries, 0 to 308\n",
      "Data columns (total 16 columns):\n",
      " #   Column                 Non-Null Count  Dtype \n",
      "---  ------                 --------------  ----- \n",
      " 0   GENDER                 309 non-null    object\n",
      " 1   AGE                    309 non-null    int64 \n",
      " 2   SMOKING                309 non-null    int64 \n",
      " 3   YELLOW_FINGERS         309 non-null    int64 \n",
      " 4   ANXIETY                309 non-null    int64 \n",
      " 5   PEER_PRESSURE          309 non-null    int64 \n",
      " 6   CHRONIC DISEASE        309 non-null    int64 \n",
      " 7   FATIGUE                309 non-null    int64 \n",
      " 8   ALLERGY                309 non-null    int64 \n",
      " 9   WHEEZING               309 non-null    int64 \n",
      " 10  ALCOHOL CONSUMING      309 non-null    int64 \n",
      " 11  COUGHING               309 non-null    int64 \n",
      " 12  SHORTNESS OF BREATH    309 non-null    int64 \n",
      " 13  SWALLOWING DIFFICULTY  309 non-null    int64 \n",
      " 14  CHEST PAIN             309 non-null    int64 \n",
      " 15  LUNG_CANCER            309 non-null    object\n",
      "dtypes: int64(14), object(2)\n",
      "memory usage: 38.8+ KB\n"
     ]
    }
   ],
   "source": [
    "df.info()"
   ]
  },
  {
   "cell_type": "code",
   "execution_count": 29,
   "id": "2bcb49a1-17eb-4f54-b075-c909898eab40",
   "metadata": {},
   "outputs": [
    {
     "data": {
      "text/plain": [
       "GENDER                   0\n",
       "AGE                      0\n",
       "SMOKING                  0\n",
       "YELLOW_FINGERS           0\n",
       "ANXIETY                  0\n",
       "PEER_PRESSURE            0\n",
       "CHRONIC DISEASE          0\n",
       "FATIGUE                  0\n",
       "ALLERGY                  0\n",
       "WHEEZING                 0\n",
       "ALCOHOL CONSUMING        0\n",
       "COUGHING                 0\n",
       "SHORTNESS OF BREATH      0\n",
       "SWALLOWING DIFFICULTY    0\n",
       "CHEST PAIN               0\n",
       "LUNG_CANCER              0\n",
       "dtype: int64"
      ]
     },
     "execution_count": 29,
     "metadata": {},
     "output_type": "execute_result"
    }
   ],
   "source": [
    "df.isnull().sum()"
   ]
  },
  {
   "cell_type": "code",
   "execution_count": 30,
   "id": "c471c485-2cce-435c-8ae9-a6cece1cbe16",
   "metadata": {},
   "outputs": [
    {
     "data": {
      "text/html": [
       "<div>\n",
       "<style scoped>\n",
       "    .dataframe tbody tr th:only-of-type {\n",
       "        vertical-align: middle;\n",
       "    }\n",
       "\n",
       "    .dataframe tbody tr th {\n",
       "        vertical-align: top;\n",
       "    }\n",
       "\n",
       "    .dataframe thead th {\n",
       "        text-align: right;\n",
       "    }\n",
       "</style>\n",
       "<table border=\"1\" class=\"dataframe\">\n",
       "  <thead>\n",
       "    <tr style=\"text-align: right;\">\n",
       "      <th></th>\n",
       "      <th>GENDER</th>\n",
       "      <th>AGE</th>\n",
       "      <th>SMOKING</th>\n",
       "      <th>YELLOW_FINGERS</th>\n",
       "      <th>ANXIETY</th>\n",
       "      <th>PEER_PRESSURE</th>\n",
       "      <th>CHRONIC DISEASE</th>\n",
       "      <th>FATIGUE</th>\n",
       "      <th>ALLERGY</th>\n",
       "      <th>WHEEZING</th>\n",
       "      <th>ALCOHOL CONSUMING</th>\n",
       "      <th>COUGHING</th>\n",
       "      <th>SHORTNESS OF BREATH</th>\n",
       "      <th>SWALLOWING DIFFICULTY</th>\n",
       "      <th>CHEST PAIN</th>\n",
       "      <th>LUNG_CANCER</th>\n",
       "    </tr>\n",
       "  </thead>\n",
       "  <tbody>\n",
       "    <tr>\n",
       "      <th>0</th>\n",
       "      <td>M</td>\n",
       "      <td>69</td>\n",
       "      <td>1</td>\n",
       "      <td>2</td>\n",
       "      <td>2</td>\n",
       "      <td>1</td>\n",
       "      <td>1</td>\n",
       "      <td>2</td>\n",
       "      <td>1</td>\n",
       "      <td>2</td>\n",
       "      <td>2</td>\n",
       "      <td>2</td>\n",
       "      <td>2</td>\n",
       "      <td>2</td>\n",
       "      <td>2</td>\n",
       "      <td>YES</td>\n",
       "    </tr>\n",
       "    <tr>\n",
       "      <th>1</th>\n",
       "      <td>M</td>\n",
       "      <td>74</td>\n",
       "      <td>2</td>\n",
       "      <td>1</td>\n",
       "      <td>1</td>\n",
       "      <td>1</td>\n",
       "      <td>2</td>\n",
       "      <td>2</td>\n",
       "      <td>2</td>\n",
       "      <td>1</td>\n",
       "      <td>1</td>\n",
       "      <td>1</td>\n",
       "      <td>2</td>\n",
       "      <td>2</td>\n",
       "      <td>2</td>\n",
       "      <td>YES</td>\n",
       "    </tr>\n",
       "    <tr>\n",
       "      <th>2</th>\n",
       "      <td>F</td>\n",
       "      <td>59</td>\n",
       "      <td>1</td>\n",
       "      <td>1</td>\n",
       "      <td>1</td>\n",
       "      <td>2</td>\n",
       "      <td>1</td>\n",
       "      <td>2</td>\n",
       "      <td>1</td>\n",
       "      <td>2</td>\n",
       "      <td>1</td>\n",
       "      <td>2</td>\n",
       "      <td>2</td>\n",
       "      <td>1</td>\n",
       "      <td>2</td>\n",
       "      <td>NO</td>\n",
       "    </tr>\n",
       "    <tr>\n",
       "      <th>3</th>\n",
       "      <td>M</td>\n",
       "      <td>63</td>\n",
       "      <td>2</td>\n",
       "      <td>2</td>\n",
       "      <td>2</td>\n",
       "      <td>1</td>\n",
       "      <td>1</td>\n",
       "      <td>1</td>\n",
       "      <td>1</td>\n",
       "      <td>1</td>\n",
       "      <td>2</td>\n",
       "      <td>1</td>\n",
       "      <td>1</td>\n",
       "      <td>2</td>\n",
       "      <td>2</td>\n",
       "      <td>NO</td>\n",
       "    </tr>\n",
       "    <tr>\n",
       "      <th>4</th>\n",
       "      <td>F</td>\n",
       "      <td>63</td>\n",
       "      <td>1</td>\n",
       "      <td>2</td>\n",
       "      <td>1</td>\n",
       "      <td>1</td>\n",
       "      <td>1</td>\n",
       "      <td>1</td>\n",
       "      <td>1</td>\n",
       "      <td>2</td>\n",
       "      <td>1</td>\n",
       "      <td>2</td>\n",
       "      <td>2</td>\n",
       "      <td>1</td>\n",
       "      <td>1</td>\n",
       "      <td>NO</td>\n",
       "    </tr>\n",
       "  </tbody>\n",
       "</table>\n",
       "</div>"
      ],
      "text/plain": [
       "  GENDER  AGE  SMOKING  YELLOW_FINGERS  ANXIETY  PEER_PRESSURE  \\\n",
       "0      M   69        1               2        2              1   \n",
       "1      M   74        2               1        1              1   \n",
       "2      F   59        1               1        1              2   \n",
       "3      M   63        2               2        2              1   \n",
       "4      F   63        1               2        1              1   \n",
       "\n",
       "   CHRONIC DISEASE  FATIGUE   ALLERGY   WHEEZING  ALCOHOL CONSUMING  COUGHING  \\\n",
       "0                1         2         1         2                  2         2   \n",
       "1                2         2         2         1                  1         1   \n",
       "2                1         2         1         2                  1         2   \n",
       "3                1         1         1         1                  2         1   \n",
       "4                1         1         1         2                  1         2   \n",
       "\n",
       "   SHORTNESS OF BREATH  SWALLOWING DIFFICULTY  CHEST PAIN LUNG_CANCER  \n",
       "0                    2                      2           2         YES  \n",
       "1                    2                      2           2         YES  \n",
       "2                    2                      1           2          NO  \n",
       "3                    1                      2           2          NO  \n",
       "4                    2                      1           1          NO  "
      ]
     },
     "execution_count": 30,
     "metadata": {},
     "output_type": "execute_result"
    }
   ],
   "source": [
    "df.head()"
   ]
  },
  {
   "cell_type": "code",
   "execution_count": 31,
   "id": "ba145f76-b761-433f-bad4-f73e0bb17806",
   "metadata": {},
   "outputs": [
    {
     "data": {
      "text/html": [
       "<div>\n",
       "<style scoped>\n",
       "    .dataframe tbody tr th:only-of-type {\n",
       "        vertical-align: middle;\n",
       "    }\n",
       "\n",
       "    .dataframe tbody tr th {\n",
       "        vertical-align: top;\n",
       "    }\n",
       "\n",
       "    .dataframe thead th {\n",
       "        text-align: right;\n",
       "    }\n",
       "</style>\n",
       "<table border=\"1\" class=\"dataframe\">\n",
       "  <thead>\n",
       "    <tr style=\"text-align: right;\">\n",
       "      <th></th>\n",
       "      <th>AGE</th>\n",
       "      <th>SMOKING</th>\n",
       "      <th>YELLOW_FINGERS</th>\n",
       "      <th>ANXIETY</th>\n",
       "      <th>PEER_PRESSURE</th>\n",
       "      <th>CHRONIC DISEASE</th>\n",
       "      <th>FATIGUE</th>\n",
       "      <th>ALLERGY</th>\n",
       "      <th>WHEEZING</th>\n",
       "      <th>ALCOHOL CONSUMING</th>\n",
       "      <th>COUGHING</th>\n",
       "      <th>SHORTNESS OF BREATH</th>\n",
       "      <th>SWALLOWING DIFFICULTY</th>\n",
       "      <th>CHEST PAIN</th>\n",
       "    </tr>\n",
       "  </thead>\n",
       "  <tbody>\n",
       "    <tr>\n",
       "      <th>count</th>\n",
       "      <td>309.000000</td>\n",
       "      <td>309.000000</td>\n",
       "      <td>309.000000</td>\n",
       "      <td>309.000000</td>\n",
       "      <td>309.000000</td>\n",
       "      <td>309.000000</td>\n",
       "      <td>309.000000</td>\n",
       "      <td>309.000000</td>\n",
       "      <td>309.000000</td>\n",
       "      <td>309.000000</td>\n",
       "      <td>309.000000</td>\n",
       "      <td>309.000000</td>\n",
       "      <td>309.000000</td>\n",
       "      <td>309.000000</td>\n",
       "    </tr>\n",
       "    <tr>\n",
       "      <th>mean</th>\n",
       "      <td>62.673139</td>\n",
       "      <td>1.563107</td>\n",
       "      <td>1.569579</td>\n",
       "      <td>1.498382</td>\n",
       "      <td>1.501618</td>\n",
       "      <td>1.504854</td>\n",
       "      <td>1.673139</td>\n",
       "      <td>1.556634</td>\n",
       "      <td>1.556634</td>\n",
       "      <td>1.556634</td>\n",
       "      <td>1.579288</td>\n",
       "      <td>1.640777</td>\n",
       "      <td>1.469256</td>\n",
       "      <td>1.556634</td>\n",
       "    </tr>\n",
       "    <tr>\n",
       "      <th>std</th>\n",
       "      <td>8.210301</td>\n",
       "      <td>0.496806</td>\n",
       "      <td>0.495938</td>\n",
       "      <td>0.500808</td>\n",
       "      <td>0.500808</td>\n",
       "      <td>0.500787</td>\n",
       "      <td>0.469827</td>\n",
       "      <td>0.497588</td>\n",
       "      <td>0.497588</td>\n",
       "      <td>0.497588</td>\n",
       "      <td>0.494474</td>\n",
       "      <td>0.480551</td>\n",
       "      <td>0.499863</td>\n",
       "      <td>0.497588</td>\n",
       "    </tr>\n",
       "    <tr>\n",
       "      <th>min</th>\n",
       "      <td>21.000000</td>\n",
       "      <td>1.000000</td>\n",
       "      <td>1.000000</td>\n",
       "      <td>1.000000</td>\n",
       "      <td>1.000000</td>\n",
       "      <td>1.000000</td>\n",
       "      <td>1.000000</td>\n",
       "      <td>1.000000</td>\n",
       "      <td>1.000000</td>\n",
       "      <td>1.000000</td>\n",
       "      <td>1.000000</td>\n",
       "      <td>1.000000</td>\n",
       "      <td>1.000000</td>\n",
       "      <td>1.000000</td>\n",
       "    </tr>\n",
       "    <tr>\n",
       "      <th>25%</th>\n",
       "      <td>57.000000</td>\n",
       "      <td>1.000000</td>\n",
       "      <td>1.000000</td>\n",
       "      <td>1.000000</td>\n",
       "      <td>1.000000</td>\n",
       "      <td>1.000000</td>\n",
       "      <td>1.000000</td>\n",
       "      <td>1.000000</td>\n",
       "      <td>1.000000</td>\n",
       "      <td>1.000000</td>\n",
       "      <td>1.000000</td>\n",
       "      <td>1.000000</td>\n",
       "      <td>1.000000</td>\n",
       "      <td>1.000000</td>\n",
       "    </tr>\n",
       "    <tr>\n",
       "      <th>50%</th>\n",
       "      <td>62.000000</td>\n",
       "      <td>2.000000</td>\n",
       "      <td>2.000000</td>\n",
       "      <td>1.000000</td>\n",
       "      <td>2.000000</td>\n",
       "      <td>2.000000</td>\n",
       "      <td>2.000000</td>\n",
       "      <td>2.000000</td>\n",
       "      <td>2.000000</td>\n",
       "      <td>2.000000</td>\n",
       "      <td>2.000000</td>\n",
       "      <td>2.000000</td>\n",
       "      <td>1.000000</td>\n",
       "      <td>2.000000</td>\n",
       "    </tr>\n",
       "    <tr>\n",
       "      <th>75%</th>\n",
       "      <td>69.000000</td>\n",
       "      <td>2.000000</td>\n",
       "      <td>2.000000</td>\n",
       "      <td>2.000000</td>\n",
       "      <td>2.000000</td>\n",
       "      <td>2.000000</td>\n",
       "      <td>2.000000</td>\n",
       "      <td>2.000000</td>\n",
       "      <td>2.000000</td>\n",
       "      <td>2.000000</td>\n",
       "      <td>2.000000</td>\n",
       "      <td>2.000000</td>\n",
       "      <td>2.000000</td>\n",
       "      <td>2.000000</td>\n",
       "    </tr>\n",
       "    <tr>\n",
       "      <th>max</th>\n",
       "      <td>87.000000</td>\n",
       "      <td>2.000000</td>\n",
       "      <td>2.000000</td>\n",
       "      <td>2.000000</td>\n",
       "      <td>2.000000</td>\n",
       "      <td>2.000000</td>\n",
       "      <td>2.000000</td>\n",
       "      <td>2.000000</td>\n",
       "      <td>2.000000</td>\n",
       "      <td>2.000000</td>\n",
       "      <td>2.000000</td>\n",
       "      <td>2.000000</td>\n",
       "      <td>2.000000</td>\n",
       "      <td>2.000000</td>\n",
       "    </tr>\n",
       "  </tbody>\n",
       "</table>\n",
       "</div>"
      ],
      "text/plain": [
       "              AGE     SMOKING  YELLOW_FINGERS     ANXIETY  PEER_PRESSURE  \\\n",
       "count  309.000000  309.000000      309.000000  309.000000     309.000000   \n",
       "mean    62.673139    1.563107        1.569579    1.498382       1.501618   \n",
       "std      8.210301    0.496806        0.495938    0.500808       0.500808   \n",
       "min     21.000000    1.000000        1.000000    1.000000       1.000000   \n",
       "25%     57.000000    1.000000        1.000000    1.000000       1.000000   \n",
       "50%     62.000000    2.000000        2.000000    1.000000       2.000000   \n",
       "75%     69.000000    2.000000        2.000000    2.000000       2.000000   \n",
       "max     87.000000    2.000000        2.000000    2.000000       2.000000   \n",
       "\n",
       "       CHRONIC DISEASE    FATIGUE     ALLERGY     WHEEZING  ALCOHOL CONSUMING  \\\n",
       "count       309.000000  309.000000  309.000000  309.000000         309.000000   \n",
       "mean          1.504854    1.673139    1.556634    1.556634           1.556634   \n",
       "std           0.500787    0.469827    0.497588    0.497588           0.497588   \n",
       "min           1.000000    1.000000    1.000000    1.000000           1.000000   \n",
       "25%           1.000000    1.000000    1.000000    1.000000           1.000000   \n",
       "50%           2.000000    2.000000    2.000000    2.000000           2.000000   \n",
       "75%           2.000000    2.000000    2.000000    2.000000           2.000000   \n",
       "max           2.000000    2.000000    2.000000    2.000000           2.000000   \n",
       "\n",
       "         COUGHING  SHORTNESS OF BREATH  SWALLOWING DIFFICULTY  CHEST PAIN  \n",
       "count  309.000000           309.000000             309.000000  309.000000  \n",
       "mean     1.579288             1.640777               1.469256    1.556634  \n",
       "std      0.494474             0.480551               0.499863    0.497588  \n",
       "min      1.000000             1.000000               1.000000    1.000000  \n",
       "25%      1.000000             1.000000               1.000000    1.000000  \n",
       "50%      2.000000             2.000000               1.000000    2.000000  \n",
       "75%      2.000000             2.000000               2.000000    2.000000  \n",
       "max      2.000000             2.000000               2.000000    2.000000  "
      ]
     },
     "execution_count": 31,
     "metadata": {},
     "output_type": "execute_result"
    }
   ],
   "source": [
    "df.describe()"
   ]
  },
  {
   "cell_type": "code",
   "execution_count": 32,
   "id": "926ad221-de0d-4804-bede-1e52b7dc5636",
   "metadata": {},
   "outputs": [
    {
     "data": {
      "text/plain": [
       "(309, 16)"
      ]
     },
     "execution_count": 32,
     "metadata": {},
     "output_type": "execute_result"
    }
   ],
   "source": [
    "df.shape"
   ]
  },
  {
   "cell_type": "markdown",
   "id": "885f907b-9449-4eb4-bf63-3d1c46fc6d76",
   "metadata": {},
   "source": [
    "# Label encoding categorical variables"
   ]
  },
  {
   "cell_type": "markdown",
   "id": "6cc5cb80-ea78-4e6f-9e5b-ca7b2f8fedb5",
   "metadata": {},
   "source": [
    "## GENDER 1 = Male, 0 = Female | LUNG CANCER 1 = YES, 0 = NO"
   ]
  },
  {
   "cell_type": "code",
   "execution_count": 33,
   "id": "5a153114-afe0-41c3-b686-a1dc0e371b04",
   "metadata": {},
   "outputs": [
    {
     "data": {
      "text/html": [
       "<div>\n",
       "<style scoped>\n",
       "    .dataframe tbody tr th:only-of-type {\n",
       "        vertical-align: middle;\n",
       "    }\n",
       "\n",
       "    .dataframe tbody tr th {\n",
       "        vertical-align: top;\n",
       "    }\n",
       "\n",
       "    .dataframe thead th {\n",
       "        text-align: right;\n",
       "    }\n",
       "</style>\n",
       "<table border=\"1\" class=\"dataframe\">\n",
       "  <thead>\n",
       "    <tr style=\"text-align: right;\">\n",
       "      <th></th>\n",
       "      <th>GENDER</th>\n",
       "      <th>AGE</th>\n",
       "      <th>SMOKING</th>\n",
       "      <th>YELLOW_FINGERS</th>\n",
       "      <th>ANXIETY</th>\n",
       "      <th>PEER_PRESSURE</th>\n",
       "      <th>CHRONIC DISEASE</th>\n",
       "      <th>FATIGUE</th>\n",
       "      <th>ALLERGY</th>\n",
       "      <th>WHEEZING</th>\n",
       "      <th>ALCOHOL CONSUMING</th>\n",
       "      <th>COUGHING</th>\n",
       "      <th>SHORTNESS OF BREATH</th>\n",
       "      <th>SWALLOWING DIFFICULTY</th>\n",
       "      <th>CHEST PAIN</th>\n",
       "      <th>LUNG_CANCER</th>\n",
       "    </tr>\n",
       "  </thead>\n",
       "  <tbody>\n",
       "    <tr>\n",
       "      <th>0</th>\n",
       "      <td>1</td>\n",
       "      <td>69</td>\n",
       "      <td>1</td>\n",
       "      <td>2</td>\n",
       "      <td>2</td>\n",
       "      <td>1</td>\n",
       "      <td>1</td>\n",
       "      <td>2</td>\n",
       "      <td>1</td>\n",
       "      <td>2</td>\n",
       "      <td>2</td>\n",
       "      <td>2</td>\n",
       "      <td>2</td>\n",
       "      <td>2</td>\n",
       "      <td>2</td>\n",
       "      <td>1</td>\n",
       "    </tr>\n",
       "    <tr>\n",
       "      <th>1</th>\n",
       "      <td>1</td>\n",
       "      <td>74</td>\n",
       "      <td>2</td>\n",
       "      <td>1</td>\n",
       "      <td>1</td>\n",
       "      <td>1</td>\n",
       "      <td>2</td>\n",
       "      <td>2</td>\n",
       "      <td>2</td>\n",
       "      <td>1</td>\n",
       "      <td>1</td>\n",
       "      <td>1</td>\n",
       "      <td>2</td>\n",
       "      <td>2</td>\n",
       "      <td>2</td>\n",
       "      <td>1</td>\n",
       "    </tr>\n",
       "    <tr>\n",
       "      <th>2</th>\n",
       "      <td>0</td>\n",
       "      <td>59</td>\n",
       "      <td>1</td>\n",
       "      <td>1</td>\n",
       "      <td>1</td>\n",
       "      <td>2</td>\n",
       "      <td>1</td>\n",
       "      <td>2</td>\n",
       "      <td>1</td>\n",
       "      <td>2</td>\n",
       "      <td>1</td>\n",
       "      <td>2</td>\n",
       "      <td>2</td>\n",
       "      <td>1</td>\n",
       "      <td>2</td>\n",
       "      <td>0</td>\n",
       "    </tr>\n",
       "    <tr>\n",
       "      <th>3</th>\n",
       "      <td>1</td>\n",
       "      <td>63</td>\n",
       "      <td>2</td>\n",
       "      <td>2</td>\n",
       "      <td>2</td>\n",
       "      <td>1</td>\n",
       "      <td>1</td>\n",
       "      <td>1</td>\n",
       "      <td>1</td>\n",
       "      <td>1</td>\n",
       "      <td>2</td>\n",
       "      <td>1</td>\n",
       "      <td>1</td>\n",
       "      <td>2</td>\n",
       "      <td>2</td>\n",
       "      <td>0</td>\n",
       "    </tr>\n",
       "    <tr>\n",
       "      <th>4</th>\n",
       "      <td>0</td>\n",
       "      <td>63</td>\n",
       "      <td>1</td>\n",
       "      <td>2</td>\n",
       "      <td>1</td>\n",
       "      <td>1</td>\n",
       "      <td>1</td>\n",
       "      <td>1</td>\n",
       "      <td>1</td>\n",
       "      <td>2</td>\n",
       "      <td>1</td>\n",
       "      <td>2</td>\n",
       "      <td>2</td>\n",
       "      <td>1</td>\n",
       "      <td>1</td>\n",
       "      <td>0</td>\n",
       "    </tr>\n",
       "    <tr>\n",
       "      <th>...</th>\n",
       "      <td>...</td>\n",
       "      <td>...</td>\n",
       "      <td>...</td>\n",
       "      <td>...</td>\n",
       "      <td>...</td>\n",
       "      <td>...</td>\n",
       "      <td>...</td>\n",
       "      <td>...</td>\n",
       "      <td>...</td>\n",
       "      <td>...</td>\n",
       "      <td>...</td>\n",
       "      <td>...</td>\n",
       "      <td>...</td>\n",
       "      <td>...</td>\n",
       "      <td>...</td>\n",
       "      <td>...</td>\n",
       "    </tr>\n",
       "    <tr>\n",
       "      <th>304</th>\n",
       "      <td>0</td>\n",
       "      <td>56</td>\n",
       "      <td>1</td>\n",
       "      <td>1</td>\n",
       "      <td>1</td>\n",
       "      <td>2</td>\n",
       "      <td>2</td>\n",
       "      <td>2</td>\n",
       "      <td>1</td>\n",
       "      <td>1</td>\n",
       "      <td>2</td>\n",
       "      <td>2</td>\n",
       "      <td>2</td>\n",
       "      <td>2</td>\n",
       "      <td>1</td>\n",
       "      <td>1</td>\n",
       "    </tr>\n",
       "    <tr>\n",
       "      <th>305</th>\n",
       "      <td>1</td>\n",
       "      <td>70</td>\n",
       "      <td>2</td>\n",
       "      <td>1</td>\n",
       "      <td>1</td>\n",
       "      <td>1</td>\n",
       "      <td>1</td>\n",
       "      <td>2</td>\n",
       "      <td>2</td>\n",
       "      <td>2</td>\n",
       "      <td>2</td>\n",
       "      <td>2</td>\n",
       "      <td>2</td>\n",
       "      <td>1</td>\n",
       "      <td>2</td>\n",
       "      <td>1</td>\n",
       "    </tr>\n",
       "    <tr>\n",
       "      <th>306</th>\n",
       "      <td>1</td>\n",
       "      <td>58</td>\n",
       "      <td>2</td>\n",
       "      <td>1</td>\n",
       "      <td>1</td>\n",
       "      <td>1</td>\n",
       "      <td>1</td>\n",
       "      <td>1</td>\n",
       "      <td>2</td>\n",
       "      <td>2</td>\n",
       "      <td>2</td>\n",
       "      <td>2</td>\n",
       "      <td>1</td>\n",
       "      <td>1</td>\n",
       "      <td>2</td>\n",
       "      <td>1</td>\n",
       "    </tr>\n",
       "    <tr>\n",
       "      <th>307</th>\n",
       "      <td>1</td>\n",
       "      <td>67</td>\n",
       "      <td>2</td>\n",
       "      <td>1</td>\n",
       "      <td>2</td>\n",
       "      <td>1</td>\n",
       "      <td>1</td>\n",
       "      <td>2</td>\n",
       "      <td>2</td>\n",
       "      <td>1</td>\n",
       "      <td>2</td>\n",
       "      <td>2</td>\n",
       "      <td>2</td>\n",
       "      <td>1</td>\n",
       "      <td>2</td>\n",
       "      <td>1</td>\n",
       "    </tr>\n",
       "    <tr>\n",
       "      <th>308</th>\n",
       "      <td>1</td>\n",
       "      <td>62</td>\n",
       "      <td>1</td>\n",
       "      <td>1</td>\n",
       "      <td>1</td>\n",
       "      <td>2</td>\n",
       "      <td>1</td>\n",
       "      <td>2</td>\n",
       "      <td>2</td>\n",
       "      <td>2</td>\n",
       "      <td>2</td>\n",
       "      <td>1</td>\n",
       "      <td>1</td>\n",
       "      <td>2</td>\n",
       "      <td>1</td>\n",
       "      <td>1</td>\n",
       "    </tr>\n",
       "  </tbody>\n",
       "</table>\n",
       "<p>309 rows × 16 columns</p>\n",
       "</div>"
      ],
      "text/plain": [
       "     GENDER  AGE  SMOKING  YELLOW_FINGERS  ANXIETY  PEER_PRESSURE  \\\n",
       "0         1   69        1               2        2              1   \n",
       "1         1   74        2               1        1              1   \n",
       "2         0   59        1               1        1              2   \n",
       "3         1   63        2               2        2              1   \n",
       "4         0   63        1               2        1              1   \n",
       "..      ...  ...      ...             ...      ...            ...   \n",
       "304       0   56        1               1        1              2   \n",
       "305       1   70        2               1        1              1   \n",
       "306       1   58        2               1        1              1   \n",
       "307       1   67        2               1        2              1   \n",
       "308       1   62        1               1        1              2   \n",
       "\n",
       "     CHRONIC DISEASE  FATIGUE   ALLERGY   WHEEZING  ALCOHOL CONSUMING  \\\n",
       "0                  1         2         1         2                  2   \n",
       "1                  2         2         2         1                  1   \n",
       "2                  1         2         1         2                  1   \n",
       "3                  1         1         1         1                  2   \n",
       "4                  1         1         1         2                  1   \n",
       "..               ...       ...       ...       ...                ...   \n",
       "304                2         2         1         1                  2   \n",
       "305                1         2         2         2                  2   \n",
       "306                1         1         2         2                  2   \n",
       "307                1         2         2         1                  2   \n",
       "308                1         2         2         2                  2   \n",
       "\n",
       "     COUGHING  SHORTNESS OF BREATH  SWALLOWING DIFFICULTY  CHEST PAIN  \\\n",
       "0           2                    2                      2           2   \n",
       "1           1                    2                      2           2   \n",
       "2           2                    2                      1           2   \n",
       "3           1                    1                      2           2   \n",
       "4           2                    2                      1           1   \n",
       "..        ...                  ...                    ...         ...   \n",
       "304         2                    2                      2           1   \n",
       "305         2                    2                      1           2   \n",
       "306         2                    1                      1           2   \n",
       "307         2                    2                      1           2   \n",
       "308         1                    1                      2           1   \n",
       "\n",
       "     LUNG_CANCER  \n",
       "0              1  \n",
       "1              1  \n",
       "2              0  \n",
       "3              0  \n",
       "4              0  \n",
       "..           ...  \n",
       "304            1  \n",
       "305            1  \n",
       "306            1  \n",
       "307            1  \n",
       "308            1  \n",
       "\n",
       "[309 rows x 16 columns]"
      ]
     },
     "execution_count": 33,
     "metadata": {},
     "output_type": "execute_result"
    }
   ],
   "source": [
    "from sklearn.preprocessing import LabelEncoder\n",
    "le = preprocessing.LabelEncoder()\n",
    "df['GENDER'] = le.fit_transform(df['GENDER'])\n",
    "df['LUNG_CANCER'] = le.fit_transform(df['LUNG_CANCER'])\n",
    "df"
   ]
  },
  {
   "cell_type": "code",
   "execution_count": 34,
   "id": "e1b40860-cbe1-46be-8320-e5f00f79540d",
   "metadata": {},
   "outputs": [
    {
     "data": {
      "text/html": [
       "<div>\n",
       "<style scoped>\n",
       "    .dataframe tbody tr th:only-of-type {\n",
       "        vertical-align: middle;\n",
       "    }\n",
       "\n",
       "    .dataframe tbody tr th {\n",
       "        vertical-align: top;\n",
       "    }\n",
       "\n",
       "    .dataframe thead th {\n",
       "        text-align: right;\n",
       "    }\n",
       "</style>\n",
       "<table border=\"1\" class=\"dataframe\">\n",
       "  <thead>\n",
       "    <tr style=\"text-align: right;\">\n",
       "      <th></th>\n",
       "      <th>GENDER</th>\n",
       "      <th>AGE</th>\n",
       "      <th>SMOKING</th>\n",
       "      <th>YELLOW_FINGERS</th>\n",
       "      <th>ANXIETY</th>\n",
       "      <th>PEER_PRESSURE</th>\n",
       "      <th>CHRONIC DISEASE</th>\n",
       "      <th>FATIGUE</th>\n",
       "      <th>ALLERGY</th>\n",
       "      <th>WHEEZING</th>\n",
       "      <th>ALCOHOL CONSUMING</th>\n",
       "      <th>COUGHING</th>\n",
       "      <th>SHORTNESS OF BREATH</th>\n",
       "      <th>SWALLOWING DIFFICULTY</th>\n",
       "      <th>CHEST PAIN</th>\n",
       "      <th>LUNG_CANCER</th>\n",
       "    </tr>\n",
       "  </thead>\n",
       "  <tbody>\n",
       "    <tr>\n",
       "      <th>GENDER</th>\n",
       "      <td>1.000000</td>\n",
       "      <td>0.021306</td>\n",
       "      <td>0.036277</td>\n",
       "      <td>-0.212959</td>\n",
       "      <td>-0.152127</td>\n",
       "      <td>-0.275564</td>\n",
       "      <td>-0.204606</td>\n",
       "      <td>-0.083560</td>\n",
       "      <td>0.154251</td>\n",
       "      <td>0.141207</td>\n",
       "      <td>0.454268</td>\n",
       "      <td>0.133303</td>\n",
       "      <td>-0.064911</td>\n",
       "      <td>-0.078161</td>\n",
       "      <td>0.362958</td>\n",
       "      <td>0.067254</td>\n",
       "    </tr>\n",
       "    <tr>\n",
       "      <th>AGE</th>\n",
       "      <td>0.021306</td>\n",
       "      <td>1.000000</td>\n",
       "      <td>-0.084475</td>\n",
       "      <td>0.005205</td>\n",
       "      <td>0.053170</td>\n",
       "      <td>0.018685</td>\n",
       "      <td>-0.012642</td>\n",
       "      <td>0.012614</td>\n",
       "      <td>0.027990</td>\n",
       "      <td>0.055011</td>\n",
       "      <td>0.058985</td>\n",
       "      <td>0.169950</td>\n",
       "      <td>-0.017513</td>\n",
       "      <td>-0.001270</td>\n",
       "      <td>-0.018104</td>\n",
       "      <td>0.089465</td>\n",
       "    </tr>\n",
       "    <tr>\n",
       "      <th>SMOKING</th>\n",
       "      <td>0.036277</td>\n",
       "      <td>-0.084475</td>\n",
       "      <td>1.000000</td>\n",
       "      <td>-0.014585</td>\n",
       "      <td>0.160267</td>\n",
       "      <td>-0.042822</td>\n",
       "      <td>-0.141522</td>\n",
       "      <td>-0.029575</td>\n",
       "      <td>0.001913</td>\n",
       "      <td>-0.129426</td>\n",
       "      <td>-0.050623</td>\n",
       "      <td>-0.129471</td>\n",
       "      <td>0.061264</td>\n",
       "      <td>0.030718</td>\n",
       "      <td>0.120117</td>\n",
       "      <td>0.058179</td>\n",
       "    </tr>\n",
       "    <tr>\n",
       "      <th>YELLOW_FINGERS</th>\n",
       "      <td>-0.212959</td>\n",
       "      <td>0.005205</td>\n",
       "      <td>-0.014585</td>\n",
       "      <td>1.000000</td>\n",
       "      <td>0.565829</td>\n",
       "      <td>0.323083</td>\n",
       "      <td>0.041122</td>\n",
       "      <td>-0.118058</td>\n",
       "      <td>-0.144300</td>\n",
       "      <td>-0.078515</td>\n",
       "      <td>-0.289025</td>\n",
       "      <td>-0.012640</td>\n",
       "      <td>-0.105944</td>\n",
       "      <td>0.345904</td>\n",
       "      <td>-0.104829</td>\n",
       "      <td>0.181339</td>\n",
       "    </tr>\n",
       "    <tr>\n",
       "      <th>ANXIETY</th>\n",
       "      <td>-0.152127</td>\n",
       "      <td>0.053170</td>\n",
       "      <td>0.160267</td>\n",
       "      <td>0.565829</td>\n",
       "      <td>1.000000</td>\n",
       "      <td>0.216841</td>\n",
       "      <td>-0.009678</td>\n",
       "      <td>-0.188538</td>\n",
       "      <td>-0.165750</td>\n",
       "      <td>-0.191807</td>\n",
       "      <td>-0.165750</td>\n",
       "      <td>-0.225644</td>\n",
       "      <td>-0.144077</td>\n",
       "      <td>0.489403</td>\n",
       "      <td>-0.113634</td>\n",
       "      <td>0.144947</td>\n",
       "    </tr>\n",
       "    <tr>\n",
       "      <th>PEER_PRESSURE</th>\n",
       "      <td>-0.275564</td>\n",
       "      <td>0.018685</td>\n",
       "      <td>-0.042822</td>\n",
       "      <td>0.323083</td>\n",
       "      <td>0.216841</td>\n",
       "      <td>1.000000</td>\n",
       "      <td>0.048515</td>\n",
       "      <td>0.078148</td>\n",
       "      <td>-0.081800</td>\n",
       "      <td>-0.068771</td>\n",
       "      <td>-0.159973</td>\n",
       "      <td>-0.089019</td>\n",
       "      <td>-0.220175</td>\n",
       "      <td>0.366590</td>\n",
       "      <td>-0.094828</td>\n",
       "      <td>0.186388</td>\n",
       "    </tr>\n",
       "    <tr>\n",
       "      <th>CHRONIC DISEASE</th>\n",
       "      <td>-0.204606</td>\n",
       "      <td>-0.012642</td>\n",
       "      <td>-0.141522</td>\n",
       "      <td>0.041122</td>\n",
       "      <td>-0.009678</td>\n",
       "      <td>0.048515</td>\n",
       "      <td>1.000000</td>\n",
       "      <td>-0.110529</td>\n",
       "      <td>0.106386</td>\n",
       "      <td>-0.049967</td>\n",
       "      <td>0.002150</td>\n",
       "      <td>-0.175287</td>\n",
       "      <td>-0.026459</td>\n",
       "      <td>0.075176</td>\n",
       "      <td>-0.036938</td>\n",
       "      <td>0.110891</td>\n",
       "    </tr>\n",
       "    <tr>\n",
       "      <th>FATIGUE</th>\n",
       "      <td>-0.083560</td>\n",
       "      <td>0.012614</td>\n",
       "      <td>-0.029575</td>\n",
       "      <td>-0.118058</td>\n",
       "      <td>-0.188538</td>\n",
       "      <td>0.078148</td>\n",
       "      <td>-0.110529</td>\n",
       "      <td>1.000000</td>\n",
       "      <td>0.003056</td>\n",
       "      <td>0.141937</td>\n",
       "      <td>-0.191377</td>\n",
       "      <td>0.146856</td>\n",
       "      <td>0.441745</td>\n",
       "      <td>-0.132790</td>\n",
       "      <td>-0.010832</td>\n",
       "      <td>0.150673</td>\n",
       "    </tr>\n",
       "    <tr>\n",
       "      <th>ALLERGY</th>\n",
       "      <td>0.154251</td>\n",
       "      <td>0.027990</td>\n",
       "      <td>0.001913</td>\n",
       "      <td>-0.144300</td>\n",
       "      <td>-0.165750</td>\n",
       "      <td>-0.081800</td>\n",
       "      <td>0.106386</td>\n",
       "      <td>0.003056</td>\n",
       "      <td>1.000000</td>\n",
       "      <td>0.173867</td>\n",
       "      <td>0.344339</td>\n",
       "      <td>0.189524</td>\n",
       "      <td>-0.030056</td>\n",
       "      <td>-0.061508</td>\n",
       "      <td>0.239433</td>\n",
       "      <td>0.327766</td>\n",
       "    </tr>\n",
       "    <tr>\n",
       "      <th>WHEEZING</th>\n",
       "      <td>0.141207</td>\n",
       "      <td>0.055011</td>\n",
       "      <td>-0.129426</td>\n",
       "      <td>-0.078515</td>\n",
       "      <td>-0.191807</td>\n",
       "      <td>-0.068771</td>\n",
       "      <td>-0.049967</td>\n",
       "      <td>0.141937</td>\n",
       "      <td>0.173867</td>\n",
       "      <td>1.000000</td>\n",
       "      <td>0.265659</td>\n",
       "      <td>0.374265</td>\n",
       "      <td>0.037834</td>\n",
       "      <td>0.069027</td>\n",
       "      <td>0.147640</td>\n",
       "      <td>0.249300</td>\n",
       "    </tr>\n",
       "    <tr>\n",
       "      <th>ALCOHOL CONSUMING</th>\n",
       "      <td>0.454268</td>\n",
       "      <td>0.058985</td>\n",
       "      <td>-0.050623</td>\n",
       "      <td>-0.289025</td>\n",
       "      <td>-0.165750</td>\n",
       "      <td>-0.159973</td>\n",
       "      <td>0.002150</td>\n",
       "      <td>-0.191377</td>\n",
       "      <td>0.344339</td>\n",
       "      <td>0.265659</td>\n",
       "      <td>1.000000</td>\n",
       "      <td>0.202720</td>\n",
       "      <td>-0.179416</td>\n",
       "      <td>-0.009294</td>\n",
       "      <td>0.331226</td>\n",
       "      <td>0.288533</td>\n",
       "    </tr>\n",
       "    <tr>\n",
       "      <th>COUGHING</th>\n",
       "      <td>0.133303</td>\n",
       "      <td>0.169950</td>\n",
       "      <td>-0.129471</td>\n",
       "      <td>-0.012640</td>\n",
       "      <td>-0.225644</td>\n",
       "      <td>-0.089019</td>\n",
       "      <td>-0.175287</td>\n",
       "      <td>0.146856</td>\n",
       "      <td>0.189524</td>\n",
       "      <td>0.374265</td>\n",
       "      <td>0.202720</td>\n",
       "      <td>1.000000</td>\n",
       "      <td>0.277385</td>\n",
       "      <td>-0.157586</td>\n",
       "      <td>0.083958</td>\n",
       "      <td>0.248570</td>\n",
       "    </tr>\n",
       "    <tr>\n",
       "      <th>SHORTNESS OF BREATH</th>\n",
       "      <td>-0.064911</td>\n",
       "      <td>-0.017513</td>\n",
       "      <td>0.061264</td>\n",
       "      <td>-0.105944</td>\n",
       "      <td>-0.144077</td>\n",
       "      <td>-0.220175</td>\n",
       "      <td>-0.026459</td>\n",
       "      <td>0.441745</td>\n",
       "      <td>-0.030056</td>\n",
       "      <td>0.037834</td>\n",
       "      <td>-0.179416</td>\n",
       "      <td>0.277385</td>\n",
       "      <td>1.000000</td>\n",
       "      <td>-0.161015</td>\n",
       "      <td>0.024256</td>\n",
       "      <td>0.060738</td>\n",
       "    </tr>\n",
       "    <tr>\n",
       "      <th>SWALLOWING DIFFICULTY</th>\n",
       "      <td>-0.078161</td>\n",
       "      <td>-0.001270</td>\n",
       "      <td>0.030718</td>\n",
       "      <td>0.345904</td>\n",
       "      <td>0.489403</td>\n",
       "      <td>0.366590</td>\n",
       "      <td>0.075176</td>\n",
       "      <td>-0.132790</td>\n",
       "      <td>-0.061508</td>\n",
       "      <td>0.069027</td>\n",
       "      <td>-0.009294</td>\n",
       "      <td>-0.157586</td>\n",
       "      <td>-0.161015</td>\n",
       "      <td>1.000000</td>\n",
       "      <td>0.069027</td>\n",
       "      <td>0.259730</td>\n",
       "    </tr>\n",
       "    <tr>\n",
       "      <th>CHEST PAIN</th>\n",
       "      <td>0.362958</td>\n",
       "      <td>-0.018104</td>\n",
       "      <td>0.120117</td>\n",
       "      <td>-0.104829</td>\n",
       "      <td>-0.113634</td>\n",
       "      <td>-0.094828</td>\n",
       "      <td>-0.036938</td>\n",
       "      <td>-0.010832</td>\n",
       "      <td>0.239433</td>\n",
       "      <td>0.147640</td>\n",
       "      <td>0.331226</td>\n",
       "      <td>0.083958</td>\n",
       "      <td>0.024256</td>\n",
       "      <td>0.069027</td>\n",
       "      <td>1.000000</td>\n",
       "      <td>0.190451</td>\n",
       "    </tr>\n",
       "    <tr>\n",
       "      <th>LUNG_CANCER</th>\n",
       "      <td>0.067254</td>\n",
       "      <td>0.089465</td>\n",
       "      <td>0.058179</td>\n",
       "      <td>0.181339</td>\n",
       "      <td>0.144947</td>\n",
       "      <td>0.186388</td>\n",
       "      <td>0.110891</td>\n",
       "      <td>0.150673</td>\n",
       "      <td>0.327766</td>\n",
       "      <td>0.249300</td>\n",
       "      <td>0.288533</td>\n",
       "      <td>0.248570</td>\n",
       "      <td>0.060738</td>\n",
       "      <td>0.259730</td>\n",
       "      <td>0.190451</td>\n",
       "      <td>1.000000</td>\n",
       "    </tr>\n",
       "  </tbody>\n",
       "</table>\n",
       "</div>"
      ],
      "text/plain": [
       "                         GENDER       AGE   SMOKING  YELLOW_FINGERS   ANXIETY  \\\n",
       "GENDER                 1.000000  0.021306  0.036277       -0.212959 -0.152127   \n",
       "AGE                    0.021306  1.000000 -0.084475        0.005205  0.053170   \n",
       "SMOKING                0.036277 -0.084475  1.000000       -0.014585  0.160267   \n",
       "YELLOW_FINGERS        -0.212959  0.005205 -0.014585        1.000000  0.565829   \n",
       "ANXIETY               -0.152127  0.053170  0.160267        0.565829  1.000000   \n",
       "PEER_PRESSURE         -0.275564  0.018685 -0.042822        0.323083  0.216841   \n",
       "CHRONIC DISEASE       -0.204606 -0.012642 -0.141522        0.041122 -0.009678   \n",
       "FATIGUE               -0.083560  0.012614 -0.029575       -0.118058 -0.188538   \n",
       "ALLERGY                0.154251  0.027990  0.001913       -0.144300 -0.165750   \n",
       "WHEEZING               0.141207  0.055011 -0.129426       -0.078515 -0.191807   \n",
       "ALCOHOL CONSUMING      0.454268  0.058985 -0.050623       -0.289025 -0.165750   \n",
       "COUGHING               0.133303  0.169950 -0.129471       -0.012640 -0.225644   \n",
       "SHORTNESS OF BREATH   -0.064911 -0.017513  0.061264       -0.105944 -0.144077   \n",
       "SWALLOWING DIFFICULTY -0.078161 -0.001270  0.030718        0.345904  0.489403   \n",
       "CHEST PAIN             0.362958 -0.018104  0.120117       -0.104829 -0.113634   \n",
       "LUNG_CANCER            0.067254  0.089465  0.058179        0.181339  0.144947   \n",
       "\n",
       "                       PEER_PRESSURE  CHRONIC DISEASE  FATIGUE   ALLERGY   \\\n",
       "GENDER                     -0.275564        -0.204606 -0.083560  0.154251   \n",
       "AGE                         0.018685        -0.012642  0.012614  0.027990   \n",
       "SMOKING                    -0.042822        -0.141522 -0.029575  0.001913   \n",
       "YELLOW_FINGERS              0.323083         0.041122 -0.118058 -0.144300   \n",
       "ANXIETY                     0.216841        -0.009678 -0.188538 -0.165750   \n",
       "PEER_PRESSURE               1.000000         0.048515  0.078148 -0.081800   \n",
       "CHRONIC DISEASE             0.048515         1.000000 -0.110529  0.106386   \n",
       "FATIGUE                     0.078148        -0.110529  1.000000  0.003056   \n",
       "ALLERGY                    -0.081800         0.106386  0.003056  1.000000   \n",
       "WHEEZING                   -0.068771        -0.049967  0.141937  0.173867   \n",
       "ALCOHOL CONSUMING          -0.159973         0.002150 -0.191377  0.344339   \n",
       "COUGHING                   -0.089019        -0.175287  0.146856  0.189524   \n",
       "SHORTNESS OF BREATH        -0.220175        -0.026459  0.441745 -0.030056   \n",
       "SWALLOWING DIFFICULTY       0.366590         0.075176 -0.132790 -0.061508   \n",
       "CHEST PAIN                 -0.094828        -0.036938 -0.010832  0.239433   \n",
       "LUNG_CANCER                 0.186388         0.110891  0.150673  0.327766   \n",
       "\n",
       "                       WHEEZING  ALCOHOL CONSUMING  COUGHING  \\\n",
       "GENDER                 0.141207           0.454268  0.133303   \n",
       "AGE                    0.055011           0.058985  0.169950   \n",
       "SMOKING               -0.129426          -0.050623 -0.129471   \n",
       "YELLOW_FINGERS        -0.078515          -0.289025 -0.012640   \n",
       "ANXIETY               -0.191807          -0.165750 -0.225644   \n",
       "PEER_PRESSURE         -0.068771          -0.159973 -0.089019   \n",
       "CHRONIC DISEASE       -0.049967           0.002150 -0.175287   \n",
       "FATIGUE                0.141937          -0.191377  0.146856   \n",
       "ALLERGY                0.173867           0.344339  0.189524   \n",
       "WHEEZING               1.000000           0.265659  0.374265   \n",
       "ALCOHOL CONSUMING      0.265659           1.000000  0.202720   \n",
       "COUGHING               0.374265           0.202720  1.000000   \n",
       "SHORTNESS OF BREATH    0.037834          -0.179416  0.277385   \n",
       "SWALLOWING DIFFICULTY  0.069027          -0.009294 -0.157586   \n",
       "CHEST PAIN             0.147640           0.331226  0.083958   \n",
       "LUNG_CANCER            0.249300           0.288533  0.248570   \n",
       "\n",
       "                       SHORTNESS OF BREATH  SWALLOWING DIFFICULTY  CHEST PAIN  \\\n",
       "GENDER                           -0.064911              -0.078161    0.362958   \n",
       "AGE                              -0.017513              -0.001270   -0.018104   \n",
       "SMOKING                           0.061264               0.030718    0.120117   \n",
       "YELLOW_FINGERS                   -0.105944               0.345904   -0.104829   \n",
       "ANXIETY                          -0.144077               0.489403   -0.113634   \n",
       "PEER_PRESSURE                    -0.220175               0.366590   -0.094828   \n",
       "CHRONIC DISEASE                  -0.026459               0.075176   -0.036938   \n",
       "FATIGUE                           0.441745              -0.132790   -0.010832   \n",
       "ALLERGY                          -0.030056              -0.061508    0.239433   \n",
       "WHEEZING                          0.037834               0.069027    0.147640   \n",
       "ALCOHOL CONSUMING                -0.179416              -0.009294    0.331226   \n",
       "COUGHING                          0.277385              -0.157586    0.083958   \n",
       "SHORTNESS OF BREATH               1.000000              -0.161015    0.024256   \n",
       "SWALLOWING DIFFICULTY            -0.161015               1.000000    0.069027   \n",
       "CHEST PAIN                        0.024256               0.069027    1.000000   \n",
       "LUNG_CANCER                       0.060738               0.259730    0.190451   \n",
       "\n",
       "                       LUNG_CANCER  \n",
       "GENDER                    0.067254  \n",
       "AGE                       0.089465  \n",
       "SMOKING                   0.058179  \n",
       "YELLOW_FINGERS            0.181339  \n",
       "ANXIETY                   0.144947  \n",
       "PEER_PRESSURE             0.186388  \n",
       "CHRONIC DISEASE           0.110891  \n",
       "FATIGUE                   0.150673  \n",
       "ALLERGY                   0.327766  \n",
       "WHEEZING                  0.249300  \n",
       "ALCOHOL CONSUMING         0.288533  \n",
       "COUGHING                  0.248570  \n",
       "SHORTNESS OF BREATH       0.060738  \n",
       "SWALLOWING DIFFICULTY     0.259730  \n",
       "CHEST PAIN                0.190451  \n",
       "LUNG_CANCER               1.000000  "
      ]
     },
     "execution_count": 34,
     "metadata": {},
     "output_type": "execute_result"
    }
   ],
   "source": [
    "df.corr()"
   ]
  },
  {
   "cell_type": "markdown",
   "id": "bc37a8b3-6aa6-45cd-b452-1e8ca2b0ed75",
   "metadata": {},
   "source": [
    "# Data Visualization"
   ]
  },
  {
   "cell_type": "code",
   "execution_count": 35,
   "id": "59464918-1626-42b6-9631-1a4a4e22bdf9",
   "metadata": {},
   "outputs": [
    {
     "data": {
      "application/vnd.plotly.v1+json": {
       "config": {
        "plotlyServerURL": "https://plot.ly"
       },
       "data": [
        {
         "histnorm": "probability density",
         "legendgroup": "AGE",
         "marker": {
          "color": "rgb(31, 119, 180)"
         },
         "name": "AGE",
         "opacity": 0.7,
         "type": "histogram",
         "x": [
          69,
          74,
          59,
          63,
          63,
          75,
          52,
          51,
          68,
          53,
          61,
          72,
          60,
          58,
          69,
          48,
          75,
          57,
          68,
          61,
          44,
          64,
          21,
          60,
          72,
          65,
          61,
          69,
          53,
          55,
          57,
          62,
          56,
          67,
          59,
          59,
          60,
          56,
          56,
          60,
          68,
          63,
          77,
          52,
          70,
          72,
          62,
          64,
          70,
          60,
          56,
          63,
          54,
          49,
          57,
          52,
          63,
          73,
          47,
          69,
          70,
          60,
          70,
          68,
          74,
          71,
          56,
          66,
          76,
          78,
          68,
          66,
          67,
          60,
          61,
          58,
          76,
          56,
          67,
          73,
          58,
          54,
          62,
          81,
          56,
          60,
          66,
          62,
          62,
          55,
          62,
          71,
          52,
          59,
          48,
          60,
          61,
          59,
          64,
          56,
          58,
          81,
          64,
          62,
          72,
          60,
          61,
          60,
          49,
          53,
          58,
          61,
          68,
          60,
          72,
          72,
          57,
          51,
          54,
          56,
          77,
          64,
          57,
          66,
          70,
          53,
          51,
          58,
          58,
          63,
          51,
          61,
          61,
          76,
          71,
          69,
          56,
          67,
          54,
          63,
          47,
          62,
          65,
          63,
          64,
          65,
          51,
          56,
          70,
          58,
          67,
          62,
          74,
          69,
          64,
          75,
          47,
          57,
          56,
          68,
          55,
          62,
          73,
          68,
          75,
          63,
          61,
          62,
          44,
          56,
          54,
          57,
          56,
          69,
          72,
          59,
          70,
          64,
          61,
          72,
          63,
          74,
          71,
          71,
          72,
          77,
          72,
          55,
          65,
          67,
          69,
          55,
          51,
          64,
          63,
          69,
          64,
          59,
          73,
          55,
          63,
          60,
          74,
          65,
          79,
          62,
          71,
          63,
          67,
          55,
          54,
          77,
          58,
          64,
          61,
          62,
          67,
          56,
          70,
          70,
          57,
          61,
          77,
          63,
          62,
          59,
          70,
          71,
          56,
          57,
          78,
          64,
          62,
          49,
          77,
          64,
          63,
          54,
          38,
          75,
          70,
          59,
          77,
          61,
          64,
          59,
          71,
          67,
          64,
          68,
          69,
          64,
          59,
          67,
          74,
          77,
          60,
          64,
          70,
          58,
          59,
          39,
          67,
          71,
          70,
          60,
          55,
          60,
          55,
          55,
          70,
          63,
          64,
          59,
          56,
          64,
          62,
          87,
          77,
          59,
          59,
          55,
          46,
          60,
          58,
          58,
          63,
          51,
          61,
          61,
          76,
          71,
          69,
          56,
          67,
          54,
          63,
          47,
          62,
          65,
          63,
          64,
          65,
          51,
          56,
          70,
          58,
          67,
          62
         ],
         "xaxis": "x",
         "xbins": {
          "end": 87,
          "size": 1,
          "start": 21
         },
         "yaxis": "y"
        },
        {
         "legendgroup": "AGE",
         "marker": {
          "color": "rgb(31, 119, 180)"
         },
         "mode": "lines",
         "name": "AGE",
         "showlegend": false,
         "type": "scatter",
         "x": [
          21,
          21.132,
          21.264,
          21.396,
          21.528,
          21.66,
          21.792,
          21.924,
          22.056,
          22.188,
          22.32,
          22.451999999999998,
          22.584,
          22.716,
          22.848,
          22.98,
          23.112000000000002,
          23.244,
          23.376,
          23.508,
          23.64,
          23.772,
          23.904,
          24.036,
          24.168,
          24.3,
          24.432,
          24.564,
          24.696,
          24.828,
          24.96,
          25.092,
          25.224,
          25.356,
          25.488,
          25.62,
          25.752,
          25.884,
          26.016,
          26.148,
          26.28,
          26.412,
          26.544,
          26.676000000000002,
          26.808,
          26.94,
          27.072,
          27.204,
          27.336,
          27.468,
          27.6,
          27.732,
          27.864,
          27.996000000000002,
          28.128,
          28.259999999999998,
          28.392,
          28.524,
          28.656,
          28.788,
          28.92,
          29.052,
          29.183999999999997,
          29.316000000000003,
          29.448,
          29.58,
          29.712,
          29.844,
          29.976,
          30.108,
          30.240000000000002,
          30.372,
          30.503999999999998,
          30.636,
          30.768,
          30.9,
          31.032,
          31.164,
          31.296,
          31.428,
          31.560000000000002,
          31.692,
          31.823999999999998,
          31.956,
          32.088,
          32.22,
          32.352000000000004,
          32.484,
          32.616,
          32.748,
          32.88,
          33.012,
          33.144,
          33.275999999999996,
          33.408,
          33.54,
          33.672,
          33.804,
          33.936,
          34.068,
          34.2,
          34.332,
          34.464,
          34.596000000000004,
          34.728,
          34.86,
          34.992000000000004,
          35.124,
          35.256,
          35.388,
          35.519999999999996,
          35.652,
          35.784,
          35.916,
          36.048,
          36.18,
          36.312,
          36.444,
          36.576,
          36.708,
          36.84,
          36.972,
          37.104,
          37.236000000000004,
          37.367999999999995,
          37.5,
          37.632000000000005,
          37.763999999999996,
          37.896,
          38.028,
          38.16,
          38.292,
          38.424,
          38.556,
          38.688,
          38.82,
          38.952,
          39.084,
          39.216,
          39.348,
          39.480000000000004,
          39.611999999999995,
          39.744,
          39.876000000000005,
          40.007999999999996,
          40.14,
          40.272,
          40.403999999999996,
          40.536,
          40.668,
          40.8,
          40.932,
          41.064,
          41.196,
          41.328,
          41.46,
          41.592,
          41.724000000000004,
          41.856,
          41.988,
          42.120000000000005,
          42.251999999999995,
          42.384,
          42.516,
          42.647999999999996,
          42.78,
          42.912,
          43.044,
          43.176,
          43.308,
          43.44,
          43.572,
          43.704,
          43.836,
          43.968,
          44.1,
          44.232,
          44.364000000000004,
          44.495999999999995,
          44.628,
          44.760000000000005,
          44.891999999999996,
          45.024,
          45.156,
          45.288,
          45.42,
          45.552,
          45.684,
          45.816,
          45.948,
          46.08,
          46.212,
          46.344,
          46.476,
          46.608000000000004,
          46.739999999999995,
          46.872,
          47.004000000000005,
          47.135999999999996,
          47.268,
          47.4,
          47.532,
          47.664,
          47.796,
          47.928,
          48.06,
          48.192,
          48.324,
          48.456,
          48.588,
          48.72,
          48.852000000000004,
          48.984,
          49.116,
          49.248000000000005,
          49.379999999999995,
          49.512,
          49.644,
          49.775999999999996,
          49.908,
          50.04,
          50.172,
          50.304,
          50.436,
          50.568,
          50.7,
          50.832,
          50.964,
          51.096000000000004,
          51.228,
          51.36,
          51.492000000000004,
          51.623999999999995,
          51.756,
          51.888000000000005,
          52.019999999999996,
          52.152,
          52.284,
          52.416,
          52.548,
          52.68,
          52.812,
          52.944,
          53.076,
          53.208,
          53.34,
          53.472,
          53.604,
          53.736,
          53.868,
          54,
          54.132,
          54.264,
          54.396,
          54.528,
          54.66,
          54.792,
          54.924,
          55.056,
          55.188,
          55.32,
          55.452,
          55.584,
          55.716,
          55.848,
          55.98,
          56.112,
          56.244,
          56.376,
          56.508,
          56.64,
          56.772,
          56.904,
          57.036,
          57.168,
          57.3,
          57.432,
          57.564,
          57.696,
          57.828,
          57.96,
          58.092,
          58.224,
          58.356,
          58.488,
          58.62,
          58.752,
          58.884,
          59.016,
          59.148,
          59.28,
          59.412,
          59.544,
          59.676,
          59.808,
          59.94,
          60.072,
          60.204,
          60.336,
          60.468,
          60.6,
          60.732,
          60.864,
          60.996,
          61.128,
          61.26,
          61.392,
          61.524,
          61.656,
          61.788,
          61.92,
          62.052,
          62.184,
          62.316,
          62.448,
          62.58,
          62.712,
          62.844,
          62.976,
          63.108,
          63.24,
          63.372,
          63.504,
          63.636,
          63.768,
          63.9,
          64.032,
          64.164,
          64.29599999999999,
          64.428,
          64.56,
          64.69200000000001,
          64.824,
          64.956,
          65.088,
          65.22,
          65.352,
          65.48400000000001,
          65.616,
          65.74799999999999,
          65.88,
          66.012,
          66.144,
          66.27600000000001,
          66.408,
          66.53999999999999,
          66.672,
          66.804,
          66.936,
          67.068,
          67.2,
          67.332,
          67.464,
          67.596,
          67.72800000000001,
          67.86,
          67.99199999999999,
          68.124,
          68.256,
          68.388,
          68.52000000000001,
          68.652,
          68.78399999999999,
          68.916,
          69.048,
          69.18,
          69.312,
          69.444,
          69.576,
          69.708,
          69.84,
          69.97200000000001,
          70.104,
          70.23599999999999,
          70.368,
          70.5,
          70.632,
          70.76400000000001,
          70.896,
          71.02799999999999,
          71.16,
          71.292,
          71.424,
          71.556,
          71.688,
          71.82,
          71.952,
          72.084,
          72.21600000000001,
          72.348,
          72.47999999999999,
          72.612,
          72.744,
          72.876,
          73.00800000000001,
          73.14,
          73.27199999999999,
          73.404,
          73.536,
          73.668,
          73.8,
          73.932,
          74.064,
          74.196,
          74.328,
          74.46000000000001,
          74.592,
          74.72399999999999,
          74.856,
          74.988,
          75.12,
          75.25200000000001,
          75.384,
          75.51599999999999,
          75.648,
          75.78,
          75.912,
          76.044,
          76.176,
          76.30799999999999,
          76.44,
          76.572,
          76.70400000000001,
          76.836,
          76.968,
          77.1,
          77.232,
          77.364,
          77.49600000000001,
          77.628,
          77.75999999999999,
          77.892,
          78.024,
          78.156,
          78.288,
          78.42,
          78.55199999999999,
          78.684,
          78.816,
          78.94800000000001,
          79.08,
          79.212,
          79.344,
          79.476,
          79.608,
          79.74000000000001,
          79.872,
          80.00399999999999,
          80.136,
          80.268,
          80.4,
          80.532,
          80.664,
          80.79599999999999,
          80.928,
          81.06,
          81.19200000000001,
          81.324,
          81.456,
          81.588,
          81.72,
          81.852,
          81.98400000000001,
          82.116,
          82.24799999999999,
          82.38,
          82.512,
          82.644,
          82.77600000000001,
          82.908,
          83.03999999999999,
          83.172,
          83.304,
          83.436,
          83.568,
          83.7,
          83.832,
          83.964,
          84.096,
          84.22800000000001,
          84.36,
          84.49199999999999,
          84.624,
          84.756,
          84.888,
          85.02,
          85.152,
          85.284,
          85.416,
          85.548,
          85.68,
          85.812,
          85.944,
          86.076,
          86.208,
          86.34,
          86.472,
          86.604,
          86.736,
          86.868
         ],
         "xaxis": "x",
         "y": [
          0.000494976046872567,
          0.0004943426307304882,
          0.000492447241416391,
          0.0004893043948106229,
          0.0004849380782237058,
          0.00047938144552859787,
          0.0004726763979691261,
          0.0004648730580585554,
          0.0004560291458076198,
          0.00044620926813831356,
          0.0004354841337140735,
          0.0004239297065211204,
          0.0004116263123492722,
          0.0003986577128309925,
          0.00038511016190001724,
          0.00037107145942890366,
          0.0003566300164089659,
          0.00034187394536418724,
          0.000326890188767058,
          0.00031176369707857737,
          0.0002965766667010652,
          0.00028140784664858903,
          0.0002663319211454196,
          0.000251418973698889,
          0.0002367340364999393,
          0.00022233672732201659,
          0.0002082809744538831,
          0.00019461482864852216,
          0.00018138035962862232,
          0.0001686136333848242,
          0.0001563447653566949,
          0.00014459804361375786,
          0.00013339211536508673,
          0.00012274022952606917,
          0.00011265052765996524,
          0.00010312637538535662,
          9.416672628975423e-05,
          8.576651050220205e-05,
          7.791704033840894e-05,
          7.060642582302697e-05,
          6.381999339590394e-05,
          5.754070170199646e-05,
          5.17495490274137e-05,
          4.64259676560775e-05,
          4.1548201162806264e-05,
          3.7093661410431814e-05,
          3.303926276350578e-05,
          2.9361731753688035e-05,
          2.603789111849049e-05,
          2.304491777416783e-05,
          2.0360574865914116e-05,
          1.7963418556906735e-05,
          1.5832980666976925e-05,
          1.3949928648511711e-05,
          1.2296204690057273e-05,
          1.0855145967000841e-05,
          9.611588214958775e-06,
          8.55195488751294e-06,
          7.664334178998711e-06,
          6.938546149144529e-06,
          6.366202083966808e-06,
          5.940758071268111e-06,
          5.6575645644191674e-06,
          5.513913460007646e-06,
          5.50908392865923e-06,
          5.644387919174644e-06,
          5.9232159094196924e-06,
          6.3510831085676715e-06,
          6.935675929864586e-06,
          7.686898156794144e-06,
          8.616915824351778e-06,
          9.740199437425948e-06,
          1.1073561756763538e-05,
          1.2636189006866189e-05,
          1.4449663007119992e-05,
          1.6537971405702738e-05,
          1.8927502914013812e-05,
          2.1647024206614728e-05,
          2.4727634977338094e-05,
          2.8202697535831147e-05,
          3.210773729981777e-05,
          3.648031059593026e-05,
          4.135983633464097e-05,
          4.678738838022913e-05,
          5.280544580120207e-05,
          5.945759866484915e-05,
          6.678820763428586e-05,
          7.484201633769506e-05,
          8.36637163049982e-05,
          9.329746520123052e-05,
          0.0001037863601195959,
          0.00011517186881796448,
          0.00012749322297440972,
          0.00014078677878039716,
          0.0001550853514612084,
          0.0001704175315853971,
          0.00018680699226901262,
          0.00020427179756388013,
          0.00022282372340860361,
          0.00024246760348114844,
          0.00026320071308763804,
          0.00028501220481902287,
          0.00030788261007275327,
          0.0003317834206406093,
          0.00035667676438058834,
          0.000382515188499138,
          0.00040924156315503765,
          0.0004367891169500032,
          0.00046508161439309304,
          0.0004940336836242099,
          0.0005235513005733687,
          0.0005535324333422861,
          0.0005838678479580812,
          0.0006144420738084743,
          0.0006451345240747925,
          0.0006758207633917414,
          0.0007063739118451875,
          0.0007366661713397324,
          0.0007665704573984472,
          0.0007959621166703792,
          0.0008247207078892982,
          0.0008527318218192035,
          0.0008798889139026409,
          0.0009060951219548117,
          0.0009312650403692412,
          0.0009553264219582404,
          0.0009782217787708703,
          0.0009999098540272157,
          0.0010203669386807327,
          0.001039588008056889,
          0.0010575876564883353,
          0.0010744008108320247,
          0.0010900832071572923,
          0.0011047116186681351,
          0.001118383826989894,
          0.0011312183332237427,
          0.0011433538095583567,
          0.001154948296629797,
          0.0011661781561392876,
          0.001177236792376514,
          0.0011883331601599174,
          0.0011996900802082686,
          0.0012115423860215501,
          0.0012241349289075646,
          0.0012377204697904785,
          0.0012525574878404135,
          0.001268907936747059,
          0.0012870349796197556,
          0.0013072007330427481,
          0.001329664049775606,
          0.0013546783680085646,
          0.0013824896530186287,
          0.001413334454595079,
          0.0014474381007928677,
          0.0014850130455169074,
          0.0015262573842324712,
          0.0015713535488303884,
          0.0016204671894430413,
          0.001673746247896308,
          0.00173132022457348,
          0.0017932996378296079,
          0.0018597756727859623,
          0.0019308200143969612,
          0.00200648485814182,
          0.002086803090561592,
          0.002171788631130178,
          0.0022614369265934746,
          0.0023557255888942766,
          0.002454615168069412,
          0.002558050051997123,
          0.002665959485514007,
          0.0027782587021351083,
          0.0028948501623190766,
          0.0030156248928456817,
          0.003140463922343226,
          0.003269239808256199,
          0.003401818250528571,
          0.0035380597869571627,
          0.0036778215645262204,
          0.0038209591800647605,
          0.003967328582290229,
          0.004116788025753751,
          0.004269200065433415,
          0.004424433578804884,
          0.004582365800234039,
          0.004742884350574699,
          0.0049058892430154715,
          0.00507129484459988,
          0.005239031771539112,
          0.005409048695535412,
          0.005581314037910504,
          0.005755817528445728,
          0.005932571606530687,
          0.006111612643497396,
          0.006293001966882527,
          0.006476826669776198,
          0.006663200191324354,
          0.006852262657769838,
          0.007044180977045423,
          0.007239148683745695,
          0.0074373855351751415,
          0.007639136862956746,
          0.007844672688244517,
          0.008054286611785113,
          0.008268294492786135,
          0.008487032932673678,
          0.008710857581266725,
          0.00894014128361458,
          0.009175272085706149,
          0.009416651116482558,
          0.009664690362110826,
          0.00991981034639325,
          0.010182437728607092,
          0.01045300282714072,
          0.010731937074185127,
          0.011019670403644315,
          0.01131662857154053,
          0.01162323040571984,
          0.011939884979795666,
          0.012266988705190707,
          0.012604922335000258,
          0.012954047874323811,
          0.01331470539377822,
          0.013687209746145812,
          0.014071847190508144,
          0.014468871933694708,
          0.014878502605312987,
          0.015300918689839384,
          0.01573625694700949,
          0.016184607859787953,
          0.01664601215720374,
          0.017120457466992516,
          0.017607875159935622,
          0.018108137453694367,
          0.018621054848466306,
          0.019146373969643787,
          0.01968377589355623,
          0.020232875031115927,
          0.020793218640610924,
          0.021364287034900724,
          0.021945494539875966,
          0.022536191250303733,
          0.023135665616251157,
          0.023743147878397788,
          0.02435781435401648,
          0.02497879255760066,
          0.025605167121481,
          0.026235986462786673,
          0.026870270124271452,
          0.027507016698385716,
          0.028145212227047453,
          0.0287838389543657,
          0.029421884296572595,
          0.03005834988305698,
          0.030692260515016827,
          0.03132267288415342,
          0.0319486838932076,
          0.03256943842310226,
          0.0331841363979907,
          0.033792039009552716,
          0.034392473975203786,
          0.03498483972123321,
          0.03556860840088035,
          0.03614332767855802,
          0.036708621234347594,
          0.0372641879669731,
          0.03780979989814727,
          0.038345298805891014,
          0.03887059163859653,
          0.039385644784675496,
          0.03989047729411584,
          0.040385153167702116,
          0.04086977284665092,
          0.04134446404966722,
          0.04180937211570168,
          0.04226465001883927,
          0.04271044822671594,
          0.04314690457565247,
          0.04357413433442546,
          0.04399222062440385,
          0.044401205356916065,
          0.044801080839428346,
          0.04519178219072466,
          0.04557318069210326,
          0.04594507818699341,
          0.04630720262566954,
          0.04665920483522595,
          0.04700065657796816,
          0.047331049944142875,
          0.04764979810769513,
          0.047956237456692134,
          0.04824963109334451,
          0.04852917368228742,
          0.04879399761003216,
          0.04904318040330318,
          0.049275753339362356,
          0.04949071116739059,
          0.04968702284654235,
          0.04986364319343481,
          0.0500195253195656,
          0.05015363372753764,
          0.05026495792403478,
          0.050352526397370485,
          0.05041542079820006,
          0.050452790153852005,
          0.0504638649398456,
          0.05044797082676391,
          0.05040454191696831,
          0.05033313328391776,
          0.05023343262735685,
          0.05010527086057523,
          0.04994863145156304,
          0.049763658348337146,
          0.0495506623301475,
          0.04931012564075371,
          0.04904270477747976,
          0.048749231330254356,
          0.04843071078814624,
          0.04808831925677332,
          0.04772339805807891,
          0.04733744621389902,
          0.04693211084602689,
          0.04650917555755392,
          0.04607054689253201,
          0.045618239002823725,
          0.04515435668172205,
          0.0446810769528754,
          0.04420062942959489,
          0.043715275683142096,
          0.04322728787854599,
          0.04273892695238135,
          0.04225242061836131,
          0.041769941493254345,
          0.041293585637319434,
          0.0408253518000938,
          0.0403671216539808,
          0.039920641284832484,
          0.03948750419084092,
          0.03906913601892135,
          0.03866678124182895,
          0.03828149195003153,
          0.03791411890047008,
          0.03756530493040151,
          0.03723548080922754,
          0.03692486356523472,
          0.036633457288201256,
          0.03636105637350583,
          0.036107251139330304,
          0.03587143571634813,
          0.03565281807942983,
          0.03545043206381866,
          0.03526315118427981,
          0.03508970405517892,
          0.034928691192501346,
          0.03477860296557819,
          0.034637838456784045,
          0.03450472498167375,
          0.03437753801983428,
          0.03425452130797894,
          0.03413390685131501,
          0.034013934616722356,
          0.03389287168153375,
          0.033769030624410425,
          0.03364078695967985,
          0.033506595433228197,
          0.03336500501634441,
          0.03321467245348282,
          0.03305437424049604,
          0.032883016931204385,
          0.0326996456919749,
          0.03250345104605357,
          0.032293773771493686,
          0.032070107938468706,
          0.03183210209333983,
          0.031579558617893216,
          0.03131243131249895,
          0.031030821271398265,
          0.03073497113675254,
          0.03042525783531586,
          0.030102183917493044,
          0.029766367632958052,
          0.029418531889806622,
          0.02905949225526939,
          0.028690144165202502,
          0.028311449516792195,
          0.02792442282406338,
          0.027530117118806475,
          0.027129609780362204,
          0.02672398847630612,
          0.02631433739244911,
          0.025901723924724472,
          0.025487185997524957,
          0.025071720162953906,
          0.024656270623372285,
          0.02424171930569395,
          0.02382887710026733,
          0.023418476360081736,
          0.023011164737661998,
          0.022607500417614217,
          0.022207948782619304,
          0.02181288053002036,
          0.021422571235304628,
          0.021037202338053368,
          0.020656863505616466,
          0.02028155631018368,
          0.01991119913636429,
          0.01954563321914707,
          0.01918462969646693,
          0.018827897546812557,
          0.01847509227059491,
          0.018125825164564995,
          0.017779673031587288,
          0.017436188163657454,
          0.017094908434301028,
          0.01675536733742647,
          0.016417103813334225,
          0.016079671708838016,
          0.01574264872723711,
          0.015405644735027977,
          0.015068309305564161,
          0.014730338395117754,
          0.014391480063680552,
          0.014051539171049822,
          0.013710380997922256,
          0.0133679337615023,
          0.013024190015132366,
          0.012679206941280776,
          0.012333105566495887,
          0.011986068945266716,
          0.011638339376777376,
          0.011290214733964965,
          0.010942043997811228,
          0.01059422210115634,
          0.010247184195336947,
          0.009901399459466277,
          0.009557364576114485,
          0.009215596998487063,
          0.008876628132975179,
          0.008540996557259584,
          0.0082092413881403,
          0.007881895905144421,
          0.0075594815259764445,
          0.007242502218314709,
          0.006931439419633989,
          0.006626747522993019,
          0.006328849972413509,
          0.00603813599695122,
          0.005754957998163783,
          0.005479629591747386,
          0.005212424290951301,
          0.004953574807258507,
          0.004703272932984993,
          0.004461669961086385,
          0.004228877589723741,
          0.004004969253121998,
          0.0037899818160126715,
          0.0035839175664789725,
          0.0033867464412794574,
          0.003198408418621348,
          0.0030188160157646037,
          0.0028478568325987336,
          0.0026853960872657455,
          0.0025312790957907516,
          0.0023853336543138023,
          0.002247372289660346,
          0.0021171943514210687,
          0.001994587926211757,
          0.0018793315621449447,
          0.0017711957985756443,
          0.0016699445027145217,
          0.0015753360205892123,
          0.001487124154961315,
          0.0014050589870839225,
          0.0013288875625535456,
          0.0012583544639413159,
          0.0011932022943782331,
          0.001133172096843098,
          0.0010780037336062017,
          0.0010274362491871725,
          0.000981208238375743,
          0.0009390582384424082,
          0.0009007251617410652,
          0.0008659487815972068,
          0.0008344702808028764,
          0.0008060328683255794,
          0.0007803824660996807,
          0.00075726846411699,
          0.0007364445385713916,
          0.0007176695246316726,
          0.0007007083325970292,
          0.000685332893795715,
          0.0006713231206697653,
          0.0006584678640827035,
          0.0006465658500125055,
          0.0006354265774535337,
          0.000624871159539364,
          0.0006147330905901514,
          0.0006048589229486345,
          0.0005951088390520819,
          0.0005853571061386903
         ],
         "yaxis": "y"
        },
        {
         "legendgroup": "AGE",
         "marker": {
          "color": "rgb(31, 119, 180)",
          "symbol": "line-ns-open"
         },
         "mode": "markers",
         "name": "AGE",
         "showlegend": false,
         "type": "scatter",
         "x": [
          69,
          74,
          59,
          63,
          63,
          75,
          52,
          51,
          68,
          53,
          61,
          72,
          60,
          58,
          69,
          48,
          75,
          57,
          68,
          61,
          44,
          64,
          21,
          60,
          72,
          65,
          61,
          69,
          53,
          55,
          57,
          62,
          56,
          67,
          59,
          59,
          60,
          56,
          56,
          60,
          68,
          63,
          77,
          52,
          70,
          72,
          62,
          64,
          70,
          60,
          56,
          63,
          54,
          49,
          57,
          52,
          63,
          73,
          47,
          69,
          70,
          60,
          70,
          68,
          74,
          71,
          56,
          66,
          76,
          78,
          68,
          66,
          67,
          60,
          61,
          58,
          76,
          56,
          67,
          73,
          58,
          54,
          62,
          81,
          56,
          60,
          66,
          62,
          62,
          55,
          62,
          71,
          52,
          59,
          48,
          60,
          61,
          59,
          64,
          56,
          58,
          81,
          64,
          62,
          72,
          60,
          61,
          60,
          49,
          53,
          58,
          61,
          68,
          60,
          72,
          72,
          57,
          51,
          54,
          56,
          77,
          64,
          57,
          66,
          70,
          53,
          51,
          58,
          58,
          63,
          51,
          61,
          61,
          76,
          71,
          69,
          56,
          67,
          54,
          63,
          47,
          62,
          65,
          63,
          64,
          65,
          51,
          56,
          70,
          58,
          67,
          62,
          74,
          69,
          64,
          75,
          47,
          57,
          56,
          68,
          55,
          62,
          73,
          68,
          75,
          63,
          61,
          62,
          44,
          56,
          54,
          57,
          56,
          69,
          72,
          59,
          70,
          64,
          61,
          72,
          63,
          74,
          71,
          71,
          72,
          77,
          72,
          55,
          65,
          67,
          69,
          55,
          51,
          64,
          63,
          69,
          64,
          59,
          73,
          55,
          63,
          60,
          74,
          65,
          79,
          62,
          71,
          63,
          67,
          55,
          54,
          77,
          58,
          64,
          61,
          62,
          67,
          56,
          70,
          70,
          57,
          61,
          77,
          63,
          62,
          59,
          70,
          71,
          56,
          57,
          78,
          64,
          62,
          49,
          77,
          64,
          63,
          54,
          38,
          75,
          70,
          59,
          77,
          61,
          64,
          59,
          71,
          67,
          64,
          68,
          69,
          64,
          59,
          67,
          74,
          77,
          60,
          64,
          70,
          58,
          59,
          39,
          67,
          71,
          70,
          60,
          55,
          60,
          55,
          55,
          70,
          63,
          64,
          59,
          56,
          64,
          62,
          87,
          77,
          59,
          59,
          55,
          46,
          60,
          58,
          58,
          63,
          51,
          61,
          61,
          76,
          71,
          69,
          56,
          67,
          54,
          63,
          47,
          62,
          65,
          63,
          64,
          65,
          51,
          56,
          70,
          58,
          67,
          62
         ],
         "xaxis": "x",
         "y": [
          "AGE",
          "AGE",
          "AGE",
          "AGE",
          "AGE",
          "AGE",
          "AGE",
          "AGE",
          "AGE",
          "AGE",
          "AGE",
          "AGE",
          "AGE",
          "AGE",
          "AGE",
          "AGE",
          "AGE",
          "AGE",
          "AGE",
          "AGE",
          "AGE",
          "AGE",
          "AGE",
          "AGE",
          "AGE",
          "AGE",
          "AGE",
          "AGE",
          "AGE",
          "AGE",
          "AGE",
          "AGE",
          "AGE",
          "AGE",
          "AGE",
          "AGE",
          "AGE",
          "AGE",
          "AGE",
          "AGE",
          "AGE",
          "AGE",
          "AGE",
          "AGE",
          "AGE",
          "AGE",
          "AGE",
          "AGE",
          "AGE",
          "AGE",
          "AGE",
          "AGE",
          "AGE",
          "AGE",
          "AGE",
          "AGE",
          "AGE",
          "AGE",
          "AGE",
          "AGE",
          "AGE",
          "AGE",
          "AGE",
          "AGE",
          "AGE",
          "AGE",
          "AGE",
          "AGE",
          "AGE",
          "AGE",
          "AGE",
          "AGE",
          "AGE",
          "AGE",
          "AGE",
          "AGE",
          "AGE",
          "AGE",
          "AGE",
          "AGE",
          "AGE",
          "AGE",
          "AGE",
          "AGE",
          "AGE",
          "AGE",
          "AGE",
          "AGE",
          "AGE",
          "AGE",
          "AGE",
          "AGE",
          "AGE",
          "AGE",
          "AGE",
          "AGE",
          "AGE",
          "AGE",
          "AGE",
          "AGE",
          "AGE",
          "AGE",
          "AGE",
          "AGE",
          "AGE",
          "AGE",
          "AGE",
          "AGE",
          "AGE",
          "AGE",
          "AGE",
          "AGE",
          "AGE",
          "AGE",
          "AGE",
          "AGE",
          "AGE",
          "AGE",
          "AGE",
          "AGE",
          "AGE",
          "AGE",
          "AGE",
          "AGE",
          "AGE",
          "AGE",
          "AGE",
          "AGE",
          "AGE",
          "AGE",
          "AGE",
          "AGE",
          "AGE",
          "AGE",
          "AGE",
          "AGE",
          "AGE",
          "AGE",
          "AGE",
          "AGE",
          "AGE",
          "AGE",
          "AGE",
          "AGE",
          "AGE",
          "AGE",
          "AGE",
          "AGE",
          "AGE",
          "AGE",
          "AGE",
          "AGE",
          "AGE",
          "AGE",
          "AGE",
          "AGE",
          "AGE",
          "AGE",
          "AGE",
          "AGE",
          "AGE",
          "AGE",
          "AGE",
          "AGE",
          "AGE",
          "AGE",
          "AGE",
          "AGE",
          "AGE",
          "AGE",
          "AGE",
          "AGE",
          "AGE",
          "AGE",
          "AGE",
          "AGE",
          "AGE",
          "AGE",
          "AGE",
          "AGE",
          "AGE",
          "AGE",
          "AGE",
          "AGE",
          "AGE",
          "AGE",
          "AGE",
          "AGE",
          "AGE",
          "AGE",
          "AGE",
          "AGE",
          "AGE",
          "AGE",
          "AGE",
          "AGE",
          "AGE",
          "AGE",
          "AGE",
          "AGE",
          "AGE",
          "AGE",
          "AGE",
          "AGE",
          "AGE",
          "AGE",
          "AGE",
          "AGE",
          "AGE",
          "AGE",
          "AGE",
          "AGE",
          "AGE",
          "AGE",
          "AGE",
          "AGE",
          "AGE",
          "AGE",
          "AGE",
          "AGE",
          "AGE",
          "AGE",
          "AGE",
          "AGE",
          "AGE",
          "AGE",
          "AGE",
          "AGE",
          "AGE",
          "AGE",
          "AGE",
          "AGE",
          "AGE",
          "AGE",
          "AGE",
          "AGE",
          "AGE",
          "AGE",
          "AGE",
          "AGE",
          "AGE",
          "AGE",
          "AGE",
          "AGE",
          "AGE",
          "AGE",
          "AGE",
          "AGE",
          "AGE",
          "AGE",
          "AGE",
          "AGE",
          "AGE",
          "AGE",
          "AGE",
          "AGE",
          "AGE",
          "AGE",
          "AGE",
          "AGE",
          "AGE",
          "AGE",
          "AGE",
          "AGE",
          "AGE",
          "AGE",
          "AGE",
          "AGE",
          "AGE",
          "AGE",
          "AGE",
          "AGE",
          "AGE",
          "AGE",
          "AGE",
          "AGE",
          "AGE",
          "AGE",
          "AGE",
          "AGE",
          "AGE",
          "AGE",
          "AGE",
          "AGE",
          "AGE",
          "AGE",
          "AGE",
          "AGE",
          "AGE",
          "AGE",
          "AGE",
          "AGE",
          "AGE",
          "AGE",
          "AGE",
          "AGE",
          "AGE",
          "AGE",
          "AGE",
          "AGE",
          "AGE",
          "AGE",
          "AGE",
          "AGE",
          "AGE",
          "AGE",
          "AGE",
          "AGE",
          "AGE"
         ],
         "yaxis": "y2"
        }
       ],
       "layout": {
        "autosize": true,
        "barmode": "overlay",
        "hovermode": "closest",
        "legend": {
         "traceorder": "reversed"
        },
        "template": {
         "data": {
          "bar": [
           {
            "error_x": {
             "color": "#2a3f5f"
            },
            "error_y": {
             "color": "#2a3f5f"
            },
            "marker": {
             "line": {
              "color": "#E5ECF6",
              "width": 0.5
             },
             "pattern": {
              "fillmode": "overlay",
              "size": 10,
              "solidity": 0.2
             }
            },
            "type": "bar"
           }
          ],
          "barpolar": [
           {
            "marker": {
             "line": {
              "color": "#E5ECF6",
              "width": 0.5
             },
             "pattern": {
              "fillmode": "overlay",
              "size": 10,
              "solidity": 0.2
             }
            },
            "type": "barpolar"
           }
          ],
          "carpet": [
           {
            "aaxis": {
             "endlinecolor": "#2a3f5f",
             "gridcolor": "white",
             "linecolor": "white",
             "minorgridcolor": "white",
             "startlinecolor": "#2a3f5f"
            },
            "baxis": {
             "endlinecolor": "#2a3f5f",
             "gridcolor": "white",
             "linecolor": "white",
             "minorgridcolor": "white",
             "startlinecolor": "#2a3f5f"
            },
            "type": "carpet"
           }
          ],
          "choropleth": [
           {
            "colorbar": {
             "outlinewidth": 0,
             "ticks": ""
            },
            "type": "choropleth"
           }
          ],
          "contour": [
           {
            "colorbar": {
             "outlinewidth": 0,
             "ticks": ""
            },
            "colorscale": [
             [
              0,
              "#0d0887"
             ],
             [
              0.1111111111111111,
              "#46039f"
             ],
             [
              0.2222222222222222,
              "#7201a8"
             ],
             [
              0.3333333333333333,
              "#9c179e"
             ],
             [
              0.4444444444444444,
              "#bd3786"
             ],
             [
              0.5555555555555556,
              "#d8576b"
             ],
             [
              0.6666666666666666,
              "#ed7953"
             ],
             [
              0.7777777777777778,
              "#fb9f3a"
             ],
             [
              0.8888888888888888,
              "#fdca26"
             ],
             [
              1,
              "#f0f921"
             ]
            ],
            "type": "contour"
           }
          ],
          "contourcarpet": [
           {
            "colorbar": {
             "outlinewidth": 0,
             "ticks": ""
            },
            "type": "contourcarpet"
           }
          ],
          "heatmap": [
           {
            "colorbar": {
             "outlinewidth": 0,
             "ticks": ""
            },
            "colorscale": [
             [
              0,
              "#0d0887"
             ],
             [
              0.1111111111111111,
              "#46039f"
             ],
             [
              0.2222222222222222,
              "#7201a8"
             ],
             [
              0.3333333333333333,
              "#9c179e"
             ],
             [
              0.4444444444444444,
              "#bd3786"
             ],
             [
              0.5555555555555556,
              "#d8576b"
             ],
             [
              0.6666666666666666,
              "#ed7953"
             ],
             [
              0.7777777777777778,
              "#fb9f3a"
             ],
             [
              0.8888888888888888,
              "#fdca26"
             ],
             [
              1,
              "#f0f921"
             ]
            ],
            "type": "heatmap"
           }
          ],
          "heatmapgl": [
           {
            "colorbar": {
             "outlinewidth": 0,
             "ticks": ""
            },
            "colorscale": [
             [
              0,
              "#0d0887"
             ],
             [
              0.1111111111111111,
              "#46039f"
             ],
             [
              0.2222222222222222,
              "#7201a8"
             ],
             [
              0.3333333333333333,
              "#9c179e"
             ],
             [
              0.4444444444444444,
              "#bd3786"
             ],
             [
              0.5555555555555556,
              "#d8576b"
             ],
             [
              0.6666666666666666,
              "#ed7953"
             ],
             [
              0.7777777777777778,
              "#fb9f3a"
             ],
             [
              0.8888888888888888,
              "#fdca26"
             ],
             [
              1,
              "#f0f921"
             ]
            ],
            "type": "heatmapgl"
           }
          ],
          "histogram": [
           {
            "marker": {
             "pattern": {
              "fillmode": "overlay",
              "size": 10,
              "solidity": 0.2
             }
            },
            "type": "histogram"
           }
          ],
          "histogram2d": [
           {
            "colorbar": {
             "outlinewidth": 0,
             "ticks": ""
            },
            "colorscale": [
             [
              0,
              "#0d0887"
             ],
             [
              0.1111111111111111,
              "#46039f"
             ],
             [
              0.2222222222222222,
              "#7201a8"
             ],
             [
              0.3333333333333333,
              "#9c179e"
             ],
             [
              0.4444444444444444,
              "#bd3786"
             ],
             [
              0.5555555555555556,
              "#d8576b"
             ],
             [
              0.6666666666666666,
              "#ed7953"
             ],
             [
              0.7777777777777778,
              "#fb9f3a"
             ],
             [
              0.8888888888888888,
              "#fdca26"
             ],
             [
              1,
              "#f0f921"
             ]
            ],
            "type": "histogram2d"
           }
          ],
          "histogram2dcontour": [
           {
            "colorbar": {
             "outlinewidth": 0,
             "ticks": ""
            },
            "colorscale": [
             [
              0,
              "#0d0887"
             ],
             [
              0.1111111111111111,
              "#46039f"
             ],
             [
              0.2222222222222222,
              "#7201a8"
             ],
             [
              0.3333333333333333,
              "#9c179e"
             ],
             [
              0.4444444444444444,
              "#bd3786"
             ],
             [
              0.5555555555555556,
              "#d8576b"
             ],
             [
              0.6666666666666666,
              "#ed7953"
             ],
             [
              0.7777777777777778,
              "#fb9f3a"
             ],
             [
              0.8888888888888888,
              "#fdca26"
             ],
             [
              1,
              "#f0f921"
             ]
            ],
            "type": "histogram2dcontour"
           }
          ],
          "mesh3d": [
           {
            "colorbar": {
             "outlinewidth": 0,
             "ticks": ""
            },
            "type": "mesh3d"
           }
          ],
          "parcoords": [
           {
            "line": {
             "colorbar": {
              "outlinewidth": 0,
              "ticks": ""
             }
            },
            "type": "parcoords"
           }
          ],
          "pie": [
           {
            "automargin": true,
            "type": "pie"
           }
          ],
          "scatter": [
           {
            "fillpattern": {
             "fillmode": "overlay",
             "size": 10,
             "solidity": 0.2
            },
            "type": "scatter"
           }
          ],
          "scatter3d": [
           {
            "line": {
             "colorbar": {
              "outlinewidth": 0,
              "ticks": ""
             }
            },
            "marker": {
             "colorbar": {
              "outlinewidth": 0,
              "ticks": ""
             }
            },
            "type": "scatter3d"
           }
          ],
          "scattercarpet": [
           {
            "marker": {
             "colorbar": {
              "outlinewidth": 0,
              "ticks": ""
             }
            },
            "type": "scattercarpet"
           }
          ],
          "scattergeo": [
           {
            "marker": {
             "colorbar": {
              "outlinewidth": 0,
              "ticks": ""
             }
            },
            "type": "scattergeo"
           }
          ],
          "scattergl": [
           {
            "marker": {
             "colorbar": {
              "outlinewidth": 0,
              "ticks": ""
             }
            },
            "type": "scattergl"
           }
          ],
          "scattermapbox": [
           {
            "marker": {
             "colorbar": {
              "outlinewidth": 0,
              "ticks": ""
             }
            },
            "type": "scattermapbox"
           }
          ],
          "scatterpolar": [
           {
            "marker": {
             "colorbar": {
              "outlinewidth": 0,
              "ticks": ""
             }
            },
            "type": "scatterpolar"
           }
          ],
          "scatterpolargl": [
           {
            "marker": {
             "colorbar": {
              "outlinewidth": 0,
              "ticks": ""
             }
            },
            "type": "scatterpolargl"
           }
          ],
          "scatterternary": [
           {
            "marker": {
             "colorbar": {
              "outlinewidth": 0,
              "ticks": ""
             }
            },
            "type": "scatterternary"
           }
          ],
          "surface": [
           {
            "colorbar": {
             "outlinewidth": 0,
             "ticks": ""
            },
            "colorscale": [
             [
              0,
              "#0d0887"
             ],
             [
              0.1111111111111111,
              "#46039f"
             ],
             [
              0.2222222222222222,
              "#7201a8"
             ],
             [
              0.3333333333333333,
              "#9c179e"
             ],
             [
              0.4444444444444444,
              "#bd3786"
             ],
             [
              0.5555555555555556,
              "#d8576b"
             ],
             [
              0.6666666666666666,
              "#ed7953"
             ],
             [
              0.7777777777777778,
              "#fb9f3a"
             ],
             [
              0.8888888888888888,
              "#fdca26"
             ],
             [
              1,
              "#f0f921"
             ]
            ],
            "type": "surface"
           }
          ],
          "table": [
           {
            "cells": {
             "fill": {
              "color": "#EBF0F8"
             },
             "line": {
              "color": "white"
             }
            },
            "header": {
             "fill": {
              "color": "#C8D4E3"
             },
             "line": {
              "color": "white"
             }
            },
            "type": "table"
           }
          ]
         },
         "layout": {
          "annotationdefaults": {
           "arrowcolor": "#2a3f5f",
           "arrowhead": 0,
           "arrowwidth": 1
          },
          "autotypenumbers": "strict",
          "coloraxis": {
           "colorbar": {
            "outlinewidth": 0,
            "ticks": ""
           }
          },
          "colorscale": {
           "diverging": [
            [
             0,
             "#8e0152"
            ],
            [
             0.1,
             "#c51b7d"
            ],
            [
             0.2,
             "#de77ae"
            ],
            [
             0.3,
             "#f1b6da"
            ],
            [
             0.4,
             "#fde0ef"
            ],
            [
             0.5,
             "#f7f7f7"
            ],
            [
             0.6,
             "#e6f5d0"
            ],
            [
             0.7,
             "#b8e186"
            ],
            [
             0.8,
             "#7fbc41"
            ],
            [
             0.9,
             "#4d9221"
            ],
            [
             1,
             "#276419"
            ]
           ],
           "sequential": [
            [
             0,
             "#0d0887"
            ],
            [
             0.1111111111111111,
             "#46039f"
            ],
            [
             0.2222222222222222,
             "#7201a8"
            ],
            [
             0.3333333333333333,
             "#9c179e"
            ],
            [
             0.4444444444444444,
             "#bd3786"
            ],
            [
             0.5555555555555556,
             "#d8576b"
            ],
            [
             0.6666666666666666,
             "#ed7953"
            ],
            [
             0.7777777777777778,
             "#fb9f3a"
            ],
            [
             0.8888888888888888,
             "#fdca26"
            ],
            [
             1,
             "#f0f921"
            ]
           ],
           "sequentialminus": [
            [
             0,
             "#0d0887"
            ],
            [
             0.1111111111111111,
             "#46039f"
            ],
            [
             0.2222222222222222,
             "#7201a8"
            ],
            [
             0.3333333333333333,
             "#9c179e"
            ],
            [
             0.4444444444444444,
             "#bd3786"
            ],
            [
             0.5555555555555556,
             "#d8576b"
            ],
            [
             0.6666666666666666,
             "#ed7953"
            ],
            [
             0.7777777777777778,
             "#fb9f3a"
            ],
            [
             0.8888888888888888,
             "#fdca26"
            ],
            [
             1,
             "#f0f921"
            ]
           ]
          },
          "colorway": [
           "#636efa",
           "#EF553B",
           "#00cc96",
           "#ab63fa",
           "#FFA15A",
           "#19d3f3",
           "#FF6692",
           "#B6E880",
           "#FF97FF",
           "#FECB52"
          ],
          "font": {
           "color": "#2a3f5f"
          },
          "geo": {
           "bgcolor": "white",
           "lakecolor": "white",
           "landcolor": "#E5ECF6",
           "showlakes": true,
           "showland": true,
           "subunitcolor": "white"
          },
          "hoverlabel": {
           "align": "left"
          },
          "hovermode": "closest",
          "mapbox": {
           "style": "light"
          },
          "paper_bgcolor": "white",
          "plot_bgcolor": "#E5ECF6",
          "polar": {
           "angularaxis": {
            "gridcolor": "white",
            "linecolor": "white",
            "ticks": ""
           },
           "bgcolor": "#E5ECF6",
           "radialaxis": {
            "gridcolor": "white",
            "linecolor": "white",
            "ticks": ""
           }
          },
          "scene": {
           "xaxis": {
            "backgroundcolor": "#E5ECF6",
            "gridcolor": "white",
            "gridwidth": 2,
            "linecolor": "white",
            "showbackground": true,
            "ticks": "",
            "zerolinecolor": "white"
           },
           "yaxis": {
            "backgroundcolor": "#E5ECF6",
            "gridcolor": "white",
            "gridwidth": 2,
            "linecolor": "white",
            "showbackground": true,
            "ticks": "",
            "zerolinecolor": "white"
           },
           "zaxis": {
            "backgroundcolor": "#E5ECF6",
            "gridcolor": "white",
            "gridwidth": 2,
            "linecolor": "white",
            "showbackground": true,
            "ticks": "",
            "zerolinecolor": "white"
           }
          },
          "shapedefaults": {
           "line": {
            "color": "#2a3f5f"
           }
          },
          "ternary": {
           "aaxis": {
            "gridcolor": "white",
            "linecolor": "white",
            "ticks": ""
           },
           "baxis": {
            "gridcolor": "white",
            "linecolor": "white",
            "ticks": ""
           },
           "bgcolor": "#E5ECF6",
           "caxis": {
            "gridcolor": "white",
            "linecolor": "white",
            "ticks": ""
           }
          },
          "title": {
           "x": 0.05
          },
          "xaxis": {
           "automargin": true,
           "gridcolor": "white",
           "linecolor": "white",
           "ticks": "",
           "title": {
            "standoff": 15
           },
           "zerolinecolor": "white",
           "zerolinewidth": 2
          },
          "yaxis": {
           "automargin": true,
           "gridcolor": "white",
           "linecolor": "white",
           "ticks": "",
           "title": {
            "standoff": 15
           },
           "zerolinecolor": "white",
           "zerolinewidth": 2
          }
         }
        },
        "xaxis": {
         "anchor": "y2",
         "autorange": true,
         "domain": [
          0,
          1
         ],
         "range": [
          16.997803806734993,
          91.00219619326501
         ],
         "type": "linear",
         "zeroline": false
        },
        "yaxis": {
         "anchor": "free",
         "autorange": true,
         "domain": [
          0.35,
          1
         ],
         "position": 0,
         "range": [
          -0.00360168846335669,
          0.06854226248235029
         ],
         "type": "linear"
        },
        "yaxis2": {
         "anchor": "x",
         "autorange": true,
         "domain": [
          0,
          0.25
         ],
         "dtick": 1,
         "range": [
          -1,
          1
         ],
         "showticklabels": false,
         "type": "category"
        }
       }
      },
      "image/png": "[encoded data removed]",
      "text/html": [
       "<div>                            <div id=\"f427c5d4-35d4-472d-8046-fe7b131db78a\" class=\"plotly-graph-div\" style=\"height:525px; width:100%;\"></div>            <script type=\"text/javascript\">                require([\"plotly\"], function(Plotly) {                    window.PLOTLYENV=window.PLOTLYENV || {};                                    if (document.getElementById(\"f427c5d4-35d4-472d-8046-fe7b131db78a\")) {                    Plotly.newPlot(                        \"f427c5d4-35d4-472d-8046-fe7b131db78a\",                        [{\"autobinx\":false,\"histnorm\":\"probability density\",\"legendgroup\":\"AGE\",\"marker\":{\"color\":\"rgb(31, 119, 180)\"},\"name\":\"AGE\",\"opacity\":0.7,\"x\":[69,74,59,63,63,75,52,51,68,53,61,72,60,58,69,48,75,57,68,61,44,64,21,60,72,65,61,69,53,55,57,62,56,67,59,59,60,56,56,60,68,63,77,52,70,72,62,64,70,60,56,63,54,49,57,52,63,73,47,69,70,60,70,68,74,71,56,66,76,78,68,66,67,60,61,58,76,56,67,73,58,54,62,81,56,60,66,62,62,55,62,71,52,59,48,60,61,59,64,56,58,81,64,62,72,60,61,60,49,53,58,61,68,60,72,72,57,51,54,56,77,64,57,66,70,53,51,58,58,63,51,61,61,76,71,69,56,67,54,63,47,62,65,63,64,65,51,56,70,58,67,62,74,69,64,75,47,57,56,68,55,62,73,68,75,63,61,62,44,56,54,57,56,69,72,59,70,64,61,72,63,74,71,71,72,77,72,55,65,67,69,55,51,64,63,69,64,59,73,55,63,60,74,65,79,62,71,63,67,55,54,77,58,64,61,62,67,56,70,70,57,61,77,63,62,59,70,71,56,57,78,64,62,49,77,64,63,54,38,75,70,59,77,61,64,59,71,67,64,68,69,64,59,67,74,77,60,64,70,58,59,39,67,71,70,60,55,60,55,55,70,63,64,59,56,64,62,87,77,59,59,55,46,60,58,58,63,51,61,61,76,71,69,56,67,54,63,47,62,65,63,64,65,51,56,70,58,67,62],\"xaxis\":\"x\",\"xbins\":{\"end\":87.0,\"size\":1.0,\"start\":21.0},\"yaxis\":\"y\",\"type\":\"histogram\"},{\"legendgroup\":\"AGE\",\"marker\":{\"color\":\"rgb(31, 119, 180)\"},\"mode\":\"lines\",\"name\":\"AGE\",\"showlegend\":false,\"x\":[21.0,21.132,21.264,21.396,21.528,21.66,21.792,21.924,22.056,22.188,22.32,22.451999999999998,22.584,22.716,22.848,22.98,23.112000000000002,23.244,23.376,23.508,23.64,23.772,23.904,24.036,24.168,24.3,24.432,24.564,24.696,24.828,24.96,25.092,25.224,25.356,25.488,25.62,25.752,25.884,26.016,26.148,26.28,26.412,26.544,26.676000000000002,26.808,26.94,27.072,27.204,27.336,27.468,27.6,27.732,27.864,27.996000000000002,28.128,28.259999999999998,28.392,28.524,28.656,28.788,28.92,29.052,29.183999999999997,29.316000000000003,29.448,29.58,29.712,29.844,29.976,30.108,30.240000000000002,30.372,30.503999999999998,30.636,30.768,30.9,31.032,31.164,31.296,31.428,31.560000000000002,31.692,31.823999999999998,31.956,32.088,32.22,32.352000000000004,32.484,32.616,32.748,32.88,33.012,33.144,33.275999999999996,33.408,33.54,33.672,33.804,33.936,34.068,34.2,34.332,34.464,34.596000000000004,34.728,34.86,34.992000000000004,35.124,35.256,35.388,35.519999999999996,35.652,35.784,35.916,36.048,36.18,36.312,36.444,36.576,36.708,36.84,36.972,37.104,37.236000000000004,37.367999999999995,37.5,37.632000000000005,37.763999999999996,37.896,38.028,38.16,38.292,38.424,38.556,38.688,38.82,38.952,39.084,39.216,39.348,39.480000000000004,39.611999999999995,39.744,39.876000000000005,40.007999999999996,40.14,40.272,40.403999999999996,40.536,40.668,40.8,40.932,41.064,41.196,41.328,41.46,41.592,41.724000000000004,41.856,41.988,42.120000000000005,42.251999999999995,42.384,42.516,42.647999999999996,42.78,42.912,43.044,43.176,43.308,43.44,43.572,43.704,43.836,43.968,44.1,44.232,44.364000000000004,44.495999999999995,44.628,44.760000000000005,44.891999999999996,45.024,45.156,45.288,45.42,45.552,45.684,45.816,45.948,46.08,46.212,46.344,46.476,46.608000000000004,46.739999999999995,46.872,47.004000000000005,47.135999999999996,47.268,47.4,47.532,47.664,47.796,47.928,48.06,48.192,48.324,48.456,48.588,48.72,48.852000000000004,48.984,49.116,49.248000000000005,49.379999999999995,49.512,49.644,49.775999999999996,49.908,50.04,50.172,50.304,50.436,50.568,50.7,50.832,50.964,51.096000000000004,51.228,51.36,51.492000000000004,51.623999999999995,51.756,51.888000000000005,52.019999999999996,52.152,52.284,52.416,52.548,52.68,52.812,52.944,53.076,53.208,53.34,53.472,53.604,53.736,53.868,54.0,54.132,54.264,54.396,54.528,54.66,54.792,54.924,55.056,55.188,55.32,55.452,55.584,55.716,55.848,55.98,56.112,56.244,56.376,56.508,56.64,56.772,56.904,57.036,57.168,57.3,57.432,57.564,57.696,57.828,57.96,58.092,58.224,58.356,58.488,58.62,58.752,58.884,59.016,59.148,59.28,59.412,59.544,59.676,59.808,59.94,60.072,60.204,60.336,60.468,60.6,60.732,60.864,60.996,61.128,61.26,61.392,61.524,61.656,61.788,61.92,62.052,62.184,62.316,62.448,62.58,62.712,62.844,62.976,63.108,63.24,63.372,63.504,63.636,63.768,63.9,64.032,64.164,64.29599999999999,64.428,64.56,64.69200000000001,64.824,64.956,65.088,65.22,65.352,65.48400000000001,65.616,65.74799999999999,65.88,66.012,66.144,66.27600000000001,66.408,66.53999999999999,66.672,66.804,66.936,67.068,67.2,67.332,67.464,67.596,67.72800000000001,67.86,67.99199999999999,68.124,68.256,68.388,68.52000000000001,68.652,68.78399999999999,68.916,69.048,69.18,69.312,69.444,69.576,69.708,69.84,69.97200000000001,70.104,70.23599999999999,70.368,70.5,70.632,70.76400000000001,70.896,71.02799999999999,71.16,71.292,71.424,71.556,71.688,71.82,71.952,72.084,72.21600000000001,72.348,72.47999999999999,72.612,72.744,72.876,73.00800000000001,73.14,73.27199999999999,73.404,73.536,73.668,73.8,73.932,74.064,74.196,74.328,74.46000000000001,74.592,74.72399999999999,74.856,74.988,75.12,75.25200000000001,75.384,75.51599999999999,75.648,75.78,75.912,76.044,76.176,76.30799999999999,76.44,76.572,76.70400000000001,76.836,76.968,77.1,77.232,77.364,77.49600000000001,77.628,77.75999999999999,77.892,78.024,78.156,78.288,78.42,78.55199999999999,78.684,78.816,78.94800000000001,79.08,79.212,79.344,79.476,79.608,79.74000000000001,79.872,80.00399999999999,80.136,80.268,80.4,80.532,80.664,80.79599999999999,80.928,81.06,81.19200000000001,81.324,81.456,81.588,81.72,81.852,81.98400000000001,82.116,82.24799999999999,82.38,82.512,82.644,82.77600000000001,82.908,83.03999999999999,83.172,83.304,83.436,83.568,83.7,83.832,83.964,84.096,84.22800000000001,84.36,84.49199999999999,84.624,84.756,84.888,85.02,85.152,85.284,85.416,85.548,85.68,85.812,85.944,86.076,86.208,86.34,86.472,86.604,86.736,86.868],\"xaxis\":\"x\",\"y\":[0.000494976046872567,0.0004943426307304882,0.000492447241416391,0.0004893043948106229,0.0004849380782237058,0.00047938144552859787,0.0004726763979691261,0.0004648730580585554,0.0004560291458076198,0.00044620926813831356,0.0004354841337140735,0.0004239297065211204,0.0004116263123492722,0.0003986577128309925,0.00038511016190001724,0.00037107145942890366,0.0003566300164089659,0.00034187394536418724,0.000326890188767058,0.00031176369707857737,0.0002965766667010652,0.00028140784664858903,0.0002663319211454196,0.000251418973698889,0.0002367340364999393,0.00022233672732201659,0.0002082809744538831,0.00019461482864852216,0.00018138035962862232,0.0001686136333848242,0.0001563447653566949,0.00014459804361375786,0.00013339211536508673,0.00012274022952606917,0.00011265052765996524,0.00010312637538535662,9.416672628975423e-05,8.576651050220205e-05,7.791704033840894e-05,7.060642582302697e-05,6.381999339590394e-05,5.754070170199646e-05,5.17495490274137e-05,4.64259676560775e-05,4.1548201162806264e-05,3.7093661410431814e-05,3.303926276350578e-05,2.9361731753688035e-05,2.603789111849049e-05,2.304491777416783e-05,2.0360574865914116e-05,1.7963418556906735e-05,1.5832980666976925e-05,1.3949928648511711e-05,1.2296204690057273e-05,1.0855145967000841e-05,9.611588214958775e-06,8.55195488751294e-06,7.664334178998711e-06,6.938546149144529e-06,6.366202083966808e-06,5.940758071268111e-06,5.6575645644191674e-06,5.513913460007646e-06,5.50908392865923e-06,5.644387919174644e-06,5.9232159094196924e-06,6.3510831085676715e-06,6.935675929864586e-06,7.686898156794144e-06,8.616915824351778e-06,9.740199437425948e-06,1.1073561756763538e-05,1.2636189006866189e-05,1.4449663007119992e-05,1.6537971405702738e-05,1.8927502914013812e-05,2.1647024206614728e-05,2.4727634977338094e-05,2.8202697535831147e-05,3.210773729981777e-05,3.648031059593026e-05,4.135983633464097e-05,4.678738838022913e-05,5.280544580120207e-05,5.945759866484915e-05,6.678820763428586e-05,7.484201633769506e-05,8.36637163049982e-05,9.329746520123052e-05,0.0001037863601195959,0.00011517186881796448,0.00012749322297440972,0.00014078677878039716,0.0001550853514612084,0.0001704175315853971,0.00018680699226901262,0.00020427179756388013,0.00022282372340860361,0.00024246760348114844,0.00026320071308763804,0.00028501220481902287,0.00030788261007275327,0.0003317834206406093,0.00035667676438058834,0.000382515188499138,0.00040924156315503765,0.0004367891169500032,0.00046508161439309304,0.0004940336836242099,0.0005235513005733687,0.0005535324333422861,0.0005838678479580812,0.0006144420738084743,0.0006451345240747925,0.0006758207633917414,0.0007063739118451875,0.0007366661713397324,0.0007665704573984472,0.0007959621166703792,0.0008247207078892982,0.0008527318218192035,0.0008798889139026409,0.0009060951219548117,0.0009312650403692412,0.0009553264219582404,0.0009782217787708703,0.0009999098540272157,0.0010203669386807327,0.001039588008056889,0.0010575876564883353,0.0010744008108320247,0.0010900832071572923,0.0011047116186681351,0.001118383826989894,0.0011312183332237427,0.0011433538095583567,0.001154948296629797,0.0011661781561392876,0.001177236792376514,0.0011883331601599174,0.0011996900802082686,0.0012115423860215501,0.0012241349289075646,0.0012377204697904785,0.0012525574878404135,0.001268907936747059,0.0012870349796197556,0.0013072007330427481,0.001329664049775606,0.0013546783680085646,0.0013824896530186287,0.001413334454595079,0.0014474381007928677,0.0014850130455169074,0.0015262573842324712,0.0015713535488303884,0.0016204671894430413,0.001673746247896308,0.00173132022457348,0.0017932996378296079,0.0018597756727859623,0.0019308200143969612,0.00200648485814182,0.002086803090561592,0.002171788631130178,0.0022614369265934746,0.0023557255888942766,0.002454615168069412,0.002558050051997123,0.002665959485514007,0.0027782587021351083,0.0028948501623190766,0.0030156248928456817,0.003140463922343226,0.003269239808256199,0.003401818250528571,0.0035380597869571627,0.0036778215645262204,0.0038209591800647605,0.003967328582290229,0.004116788025753751,0.004269200065433415,0.004424433578804884,0.004582365800234039,0.004742884350574699,0.0049058892430154715,0.00507129484459988,0.005239031771539112,0.005409048695535412,0.005581314037910504,0.005755817528445728,0.005932571606530687,0.006111612643497396,0.006293001966882527,0.006476826669776198,0.006663200191324354,0.006852262657769838,0.007044180977045423,0.007239148683745695,0.0074373855351751415,0.007639136862956746,0.007844672688244517,0.008054286611785113,0.008268294492786135,0.008487032932673678,0.008710857581266725,0.00894014128361458,0.009175272085706149,0.009416651116482558,0.009664690362110826,0.00991981034639325,0.010182437728607092,0.01045300282714072,0.010731937074185127,0.011019670403644315,0.01131662857154053,0.01162323040571984,0.011939884979795666,0.012266988705190707,0.012604922335000258,0.012954047874323811,0.01331470539377822,0.013687209746145812,0.014071847190508144,0.014468871933694708,0.014878502605312987,0.015300918689839384,0.01573625694700949,0.016184607859787953,0.01664601215720374,0.017120457466992516,0.017607875159935622,0.018108137453694367,0.018621054848466306,0.019146373969643787,0.01968377589355623,0.020232875031115927,0.020793218640610924,0.021364287034900724,0.021945494539875966,0.022536191250303733,0.023135665616251157,0.023743147878397788,0.02435781435401648,0.02497879255760066,0.025605167121481,0.026235986462786673,0.026870270124271452,0.027507016698385716,0.028145212227047453,0.0287838389543657,0.029421884296572595,0.03005834988305698,0.030692260515016827,0.03132267288415342,0.0319486838932076,0.03256943842310226,0.0331841363979907,0.033792039009552716,0.034392473975203786,0.03498483972123321,0.03556860840088035,0.03614332767855802,0.036708621234347594,0.0372641879669731,0.03780979989814727,0.038345298805891014,0.03887059163859653,0.039385644784675496,0.03989047729411584,0.040385153167702116,0.04086977284665092,0.04134446404966722,0.04180937211570168,0.04226465001883927,0.04271044822671594,0.04314690457565247,0.04357413433442546,0.04399222062440385,0.044401205356916065,0.044801080839428346,0.04519178219072466,0.04557318069210326,0.04594507818699341,0.04630720262566954,0.04665920483522595,0.04700065657796816,0.047331049944142875,0.04764979810769513,0.047956237456692134,0.04824963109334451,0.04852917368228742,0.04879399761003216,0.04904318040330318,0.049275753339362356,0.04949071116739059,0.04968702284654235,0.04986364319343481,0.0500195253195656,0.05015363372753764,0.05026495792403478,0.050352526397370485,0.05041542079820006,0.050452790153852005,0.0504638649398456,0.05044797082676391,0.05040454191696831,0.05033313328391776,0.05023343262735685,0.05010527086057523,0.04994863145156304,0.049763658348337146,0.0495506623301475,0.04931012564075371,0.04904270477747976,0.048749231330254356,0.04843071078814624,0.04808831925677332,0.04772339805807891,0.04733744621389902,0.04693211084602689,0.04650917555755392,0.04607054689253201,0.045618239002823725,0.04515435668172205,0.0446810769528754,0.04420062942959489,0.043715275683142096,0.04322728787854599,0.04273892695238135,0.04225242061836131,0.041769941493254345,0.041293585637319434,0.0408253518000938,0.0403671216539808,0.039920641284832484,0.03948750419084092,0.03906913601892135,0.03866678124182895,0.03828149195003153,0.03791411890047008,0.03756530493040151,0.03723548080922754,0.03692486356523472,0.036633457288201256,0.03636105637350583,0.036107251139330304,0.03587143571634813,0.03565281807942983,0.03545043206381866,0.03526315118427981,0.03508970405517892,0.034928691192501346,0.03477860296557819,0.034637838456784045,0.03450472498167375,0.03437753801983428,0.03425452130797894,0.03413390685131501,0.034013934616722356,0.03389287168153375,0.033769030624410425,0.03364078695967985,0.033506595433228197,0.03336500501634441,0.03321467245348282,0.03305437424049604,0.032883016931204385,0.0326996456919749,0.03250345104605357,0.032293773771493686,0.032070107938468706,0.03183210209333983,0.031579558617893216,0.03131243131249895,0.031030821271398265,0.03073497113675254,0.03042525783531586,0.030102183917493044,0.029766367632958052,0.029418531889806622,0.02905949225526939,0.028690144165202502,0.028311449516792195,0.02792442282406338,0.027530117118806475,0.027129609780362204,0.02672398847630612,0.02631433739244911,0.025901723924724472,0.025487185997524957,0.025071720162953906,0.024656270623372285,0.02424171930569395,0.02382887710026733,0.023418476360081736,0.023011164737661998,0.022607500417614217,0.022207948782619304,0.02181288053002036,0.021422571235304628,0.021037202338053368,0.020656863505616466,0.02028155631018368,0.01991119913636429,0.01954563321914707,0.01918462969646693,0.018827897546812557,0.01847509227059491,0.018125825164564995,0.017779673031587288,0.017436188163657454,0.017094908434301028,0.01675536733742647,0.016417103813334225,0.016079671708838016,0.01574264872723711,0.015405644735027977,0.015068309305564161,0.014730338395117754,0.014391480063680552,0.014051539171049822,0.013710380997922256,0.0133679337615023,0.013024190015132366,0.012679206941280776,0.012333105566495887,0.011986068945266716,0.011638339376777376,0.011290214733964965,0.010942043997811228,0.01059422210115634,0.010247184195336947,0.009901399459466277,0.009557364576114485,0.009215596998487063,0.008876628132975179,0.008540996557259584,0.0082092413881403,0.007881895905144421,0.0075594815259764445,0.007242502218314709,0.006931439419633989,0.006626747522993019,0.006328849972413509,0.00603813599695122,0.005754957998163783,0.005479629591747386,0.005212424290951301,0.004953574807258507,0.004703272932984993,0.004461669961086385,0.004228877589723741,0.004004969253121998,0.0037899818160126715,0.0035839175664789725,0.0033867464412794574,0.003198408418621348,0.0030188160157646037,0.0028478568325987336,0.0026853960872657455,0.0025312790957907516,0.0023853336543138023,0.002247372289660346,0.0021171943514210687,0.001994587926211757,0.0018793315621449447,0.0017711957985756443,0.0016699445027145217,0.0015753360205892123,0.001487124154961315,0.0014050589870839225,0.0013288875625535456,0.0012583544639413159,0.0011932022943782331,0.001133172096843098,0.0010780037336062017,0.0010274362491871725,0.000981208238375743,0.0009390582384424082,0.0009007251617410652,0.0008659487815972068,0.0008344702808028764,0.0008060328683255794,0.0007803824660996807,0.00075726846411699,0.0007364445385713916,0.0007176695246316726,0.0007007083325970292,0.000685332893795715,0.0006713231206697653,0.0006584678640827035,0.0006465658500125055,0.0006354265774535337,0.000624871159539364,0.0006147330905901514,0.0006048589229486345,0.0005951088390520819,0.0005853571061386903],\"yaxis\":\"y\",\"type\":\"scatter\"},{\"legendgroup\":\"AGE\",\"marker\":{\"color\":\"rgb(31, 119, 180)\",\"symbol\":\"line-ns-open\"},\"mode\":\"markers\",\"name\":\"AGE\",\"showlegend\":false,\"x\":[69,74,59,63,63,75,52,51,68,53,61,72,60,58,69,48,75,57,68,61,44,64,21,60,72,65,61,69,53,55,57,62,56,67,59,59,60,56,56,60,68,63,77,52,70,72,62,64,70,60,56,63,54,49,57,52,63,73,47,69,70,60,70,68,74,71,56,66,76,78,68,66,67,60,61,58,76,56,67,73,58,54,62,81,56,60,66,62,62,55,62,71,52,59,48,60,61,59,64,56,58,81,64,62,72,60,61,60,49,53,58,61,68,60,72,72,57,51,54,56,77,64,57,66,70,53,51,58,58,63,51,61,61,76,71,69,56,67,54,63,47,62,65,63,64,65,51,56,70,58,67,62,74,69,64,75,47,57,56,68,55,62,73,68,75,63,61,62,44,56,54,57,56,69,72,59,70,64,61,72,63,74,71,71,72,77,72,55,65,67,69,55,51,64,63,69,64,59,73,55,63,60,74,65,79,62,71,63,67,55,54,77,58,64,61,62,67,56,70,70,57,61,77,63,62,59,70,71,56,57,78,64,62,49,77,64,63,54,38,75,70,59,77,61,64,59,71,67,64,68,69,64,59,67,74,77,60,64,70,58,59,39,67,71,70,60,55,60,55,55,70,63,64,59,56,64,62,87,77,59,59,55,46,60,58,58,63,51,61,61,76,71,69,56,67,54,63,47,62,65,63,64,65,51,56,70,58,67,62],\"xaxis\":\"x\",\"y\":[\"AGE\",\"AGE\",\"AGE\",\"AGE\",\"AGE\",\"AGE\",\"AGE\",\"AGE\",\"AGE\",\"AGE\",\"AGE\",\"AGE\",\"AGE\",\"AGE\",\"AGE\",\"AGE\",\"AGE\",\"AGE\",\"AGE\",\"AGE\",\"AGE\",\"AGE\",\"AGE\",\"AGE\",\"AGE\",\"AGE\",\"AGE\",\"AGE\",\"AGE\",\"AGE\",\"AGE\",\"AGE\",\"AGE\",\"AGE\",\"AGE\",\"AGE\",\"AGE\",\"AGE\",\"AGE\",\"AGE\",\"AGE\",\"AGE\",\"AGE\",\"AGE\",\"AGE\",\"AGE\",\"AGE\",\"AGE\",\"AGE\",\"AGE\",\"AGE\",\"AGE\",\"AGE\",\"AGE\",\"AGE\",\"AGE\",\"AGE\",\"AGE\",\"AGE\",\"AGE\",\"AGE\",\"AGE\",\"AGE\",\"AGE\",\"AGE\",\"AGE\",\"AGE\",\"AGE\",\"AGE\",\"AGE\",\"AGE\",\"AGE\",\"AGE\",\"AGE\",\"AGE\",\"AGE\",\"AGE\",\"AGE\",\"AGE\",\"AGE\",\"AGE\",\"AGE\",\"AGE\",\"AGE\",\"AGE\",\"AGE\",\"AGE\",\"AGE\",\"AGE\",\"AGE\",\"AGE\",\"AGE\",\"AGE\",\"AGE\",\"AGE\",\"AGE\",\"AGE\",\"AGE\",\"AGE\",\"AGE\",\"AGE\",\"AGE\",\"AGE\",\"AGE\",\"AGE\",\"AGE\",\"AGE\",\"AGE\",\"AGE\",\"AGE\",\"AGE\",\"AGE\",\"AGE\",\"AGE\",\"AGE\",\"AGE\",\"AGE\",\"AGE\",\"AGE\",\"AGE\",\"AGE\",\"AGE\",\"AGE\",\"AGE\",\"AGE\",\"AGE\",\"AGE\",\"AGE\",\"AGE\",\"AGE\",\"AGE\",\"AGE\",\"AGE\",\"AGE\",\"AGE\",\"AGE\",\"AGE\",\"AGE\",\"AGE\",\"AGE\",\"AGE\",\"AGE\",\"AGE\",\"AGE\",\"AGE\",\"AGE\",\"AGE\",\"AGE\",\"AGE\",\"AGE\",\"AGE\",\"AGE\",\"AGE\",\"AGE\",\"AGE\",\"AGE\",\"AGE\",\"AGE\",\"AGE\",\"AGE\",\"AGE\",\"AGE\",\"AGE\",\"AGE\",\"AGE\",\"AGE\",\"AGE\",\"AGE\",\"AGE\",\"AGE\",\"AGE\",\"AGE\",\"AGE\",\"AGE\",\"AGE\",\"AGE\",\"AGE\",\"AGE\",\"AGE\",\"AGE\",\"AGE\",\"AGE\",\"AGE\",\"AGE\",\"AGE\",\"AGE\",\"AGE\",\"AGE\",\"AGE\",\"AGE\",\"AGE\",\"AGE\",\"AGE\",\"AGE\",\"AGE\",\"AGE\",\"AGE\",\"AGE\",\"AGE\",\"AGE\",\"AGE\",\"AGE\",\"AGE\",\"AGE\",\"AGE\",\"AGE\",\"AGE\",\"AGE\",\"AGE\",\"AGE\",\"AGE\",\"AGE\",\"AGE\",\"AGE\",\"AGE\",\"AGE\",\"AGE\",\"AGE\",\"AGE\",\"AGE\",\"AGE\",\"AGE\",\"AGE\",\"AGE\",\"AGE\",\"AGE\",\"AGE\",\"AGE\",\"AGE\",\"AGE\",\"AGE\",\"AGE\",\"AGE\",\"AGE\",\"AGE\",\"AGE\",\"AGE\",\"AGE\",\"AGE\",\"AGE\",\"AGE\",\"AGE\",\"AGE\",\"AGE\",\"AGE\",\"AGE\",\"AGE\",\"AGE\",\"AGE\",\"AGE\",\"AGE\",\"AGE\",\"AGE\",\"AGE\",\"AGE\",\"AGE\",\"AGE\",\"AGE\",\"AGE\",\"AGE\",\"AGE\",\"AGE\",\"AGE\",\"AGE\",\"AGE\",\"AGE\",\"AGE\",\"AGE\",\"AGE\",\"AGE\",\"AGE\",\"AGE\",\"AGE\",\"AGE\",\"AGE\",\"AGE\",\"AGE\",\"AGE\",\"AGE\",\"AGE\",\"AGE\",\"AGE\",\"AGE\",\"AGE\",\"AGE\",\"AGE\",\"AGE\",\"AGE\",\"AGE\",\"AGE\",\"AGE\",\"AGE\",\"AGE\",\"AGE\",\"AGE\",\"AGE\",\"AGE\",\"AGE\",\"AGE\",\"AGE\",\"AGE\",\"AGE\",\"AGE\",\"AGE\",\"AGE\",\"AGE\",\"AGE\",\"AGE\",\"AGE\"],\"yaxis\":\"y2\",\"type\":\"scatter\"}],                        {\"barmode\":\"overlay\",\"hovermode\":\"closest\",\"legend\":{\"traceorder\":\"reversed\"},\"xaxis\":{\"anchor\":\"y2\",\"domain\":[0.0,1.0],\"zeroline\":false},\"yaxis\":{\"anchor\":\"free\",\"domain\":[0.35,1],\"position\":0.0},\"yaxis2\":{\"anchor\":\"x\",\"domain\":[0,0.25],\"dtick\":1,\"showticklabels\":false},\"template\":{\"data\":{\"histogram2dcontour\":[{\"type\":\"histogram2dcontour\",\"colorbar\":{\"outlinewidth\":0,\"ticks\":\"\"},\"colorscale\":[[0.0,\"#0d0887\"],[0.1111111111111111,\"#46039f\"],[0.2222222222222222,\"#7201a8\"],[0.3333333333333333,\"#9c179e\"],[0.4444444444444444,\"#bd3786\"],[0.5555555555555556,\"#d8576b\"],[0.6666666666666666,\"#ed7953\"],[0.7777777777777778,\"#fb9f3a\"],[0.8888888888888888,\"#fdca26\"],[1.0,\"#f0f921\"]]}],\"choropleth\":[{\"type\":\"choropleth\",\"colorbar\":{\"outlinewidth\":0,\"ticks\":\"\"}}],\"histogram2d\":[{\"type\":\"histogram2d\",\"colorbar\":{\"outlinewidth\":0,\"ticks\":\"\"},\"colorscale\":[[0.0,\"#0d0887\"],[0.1111111111111111,\"#46039f\"],[0.2222222222222222,\"#7201a8\"],[0.3333333333333333,\"#9c179e\"],[0.4444444444444444,\"#bd3786\"],[0.5555555555555556,\"#d8576b\"],[0.6666666666666666,\"#ed7953\"],[0.7777777777777778,\"#fb9f3a\"],[0.8888888888888888,\"#fdca26\"],[1.0,\"#f0f921\"]]}],\"heatmap\":[{\"type\":\"heatmap\",\"colorbar\":{\"outlinewidth\":0,\"ticks\":\"\"},\"colorscale\":[[0.0,\"#0d0887\"],[0.1111111111111111,\"#46039f\"],[0.2222222222222222,\"#7201a8\"],[0.3333333333333333,\"#9c179e\"],[0.4444444444444444,\"#bd3786\"],[0.5555555555555556,\"#d8576b\"],[0.6666666666666666,\"#ed7953\"],[0.7777777777777778,\"#fb9f3a\"],[0.8888888888888888,\"#fdca26\"],[1.0,\"#f0f921\"]]}],\"heatmapgl\":[{\"type\":\"heatmapgl\",\"colorbar\":{\"outlinewidth\":0,\"ticks\":\"\"},\"colorscale\":[[0.0,\"#0d0887\"],[0.1111111111111111,\"#46039f\"],[0.2222222222222222,\"#7201a8\"],[0.3333333333333333,\"#9c179e\"],[0.4444444444444444,\"#bd3786\"],[0.5555555555555556,\"#d8576b\"],[0.6666666666666666,\"#ed7953\"],[0.7777777777777778,\"#fb9f3a\"],[0.8888888888888888,\"#fdca26\"],[1.0,\"#f0f921\"]]}],\"contourcarpet\":[{\"type\":\"contourcarpet\",\"colorbar\":{\"outlinewidth\":0,\"ticks\":\"\"}}],\"contour\":[{\"type\":\"contour\",\"colorbar\":{\"outlinewidth\":0,\"ticks\":\"\"},\"colorscale\":[[0.0,\"#0d0887\"],[0.1111111111111111,\"#46039f\"],[0.2222222222222222,\"#7201a8\"],[0.3333333333333333,\"#9c179e\"],[0.4444444444444444,\"#bd3786\"],[0.5555555555555556,\"#d8576b\"],[0.6666666666666666,\"#ed7953\"],[0.7777777777777778,\"#fb9f3a\"],[0.8888888888888888,\"#fdca26\"],[1.0,\"#f0f921\"]]}],\"surface\":[{\"type\":\"surface\",\"colorbar\":{\"outlinewidth\":0,\"ticks\":\"\"},\"colorscale\":[[0.0,\"#0d0887\"],[0.1111111111111111,\"#46039f\"],[0.2222222222222222,\"#7201a8\"],[0.3333333333333333,\"#9c179e\"],[0.4444444444444444,\"#bd3786\"],[0.5555555555555556,\"#d8576b\"],[0.6666666666666666,\"#ed7953\"],[0.7777777777777778,\"#fb9f3a\"],[0.8888888888888888,\"#fdca26\"],[1.0,\"#f0f921\"]]}],\"mesh3d\":[{\"type\":\"mesh3d\",\"colorbar\":{\"outlinewidth\":0,\"ticks\":\"\"}}],\"scatter\":[{\"fillpattern\":{\"fillmode\":\"overlay\",\"size\":10,\"solidity\":0.2},\"type\":\"scatter\"}],\"parcoords\":[{\"type\":\"parcoords\",\"line\":{\"colorbar\":{\"outlinewidth\":0,\"ticks\":\"\"}}}],\"scatterpolargl\":[{\"type\":\"scatterpolargl\",\"marker\":{\"colorbar\":{\"outlinewidth\":0,\"ticks\":\"\"}}}],\"bar\":[{\"error_x\":{\"color\":\"#2a3f5f\"},\"error_y\":{\"color\":\"#2a3f5f\"},\"marker\":{\"line\":{\"color\":\"#E5ECF6\",\"width\":0.5},\"pattern\":{\"fillmode\":\"overlay\",\"size\":10,\"solidity\":0.2}},\"type\":\"bar\"}],\"scattergeo\":[{\"type\":\"scattergeo\",\"marker\":{\"colorbar\":{\"outlinewidth\":0,\"ticks\":\"\"}}}],\"scatterpolar\":[{\"type\":\"scatterpolar\",\"marker\":{\"colorbar\":{\"outlinewidth\":0,\"ticks\":\"\"}}}],\"histogram\":[{\"marker\":{\"pattern\":{\"fillmode\":\"overlay\",\"size\":10,\"solidity\":0.2}},\"type\":\"histogram\"}],\"scattergl\":[{\"type\":\"scattergl\",\"marker\":{\"colorbar\":{\"outlinewidth\":0,\"ticks\":\"\"}}}],\"scatter3d\":[{\"type\":\"scatter3d\",\"line\":{\"colorbar\":{\"outlinewidth\":0,\"ticks\":\"\"}},\"marker\":{\"colorbar\":{\"outlinewidth\":0,\"ticks\":\"\"}}}],\"scattermapbox\":[{\"type\":\"scattermapbox\",\"marker\":{\"colorbar\":{\"outlinewidth\":0,\"ticks\":\"\"}}}],\"scatterternary\":[{\"type\":\"scatterternary\",\"marker\":{\"colorbar\":{\"outlinewidth\":0,\"ticks\":\"\"}}}],\"scattercarpet\":[{\"type\":\"scattercarpet\",\"marker\":{\"colorbar\":{\"outlinewidth\":0,\"ticks\":\"\"}}}],\"carpet\":[{\"aaxis\":{\"endlinecolor\":\"#2a3f5f\",\"gridcolor\":\"white\",\"linecolor\":\"white\",\"minorgridcolor\":\"white\",\"startlinecolor\":\"#2a3f5f\"},\"baxis\":{\"endlinecolor\":\"#2a3f5f\",\"gridcolor\":\"white\",\"linecolor\":\"white\",\"minorgridcolor\":\"white\",\"startlinecolor\":\"#2a3f5f\"},\"type\":\"carpet\"}],\"table\":[{\"cells\":{\"fill\":{\"color\":\"#EBF0F8\"},\"line\":{\"color\":\"white\"}},\"header\":{\"fill\":{\"color\":\"#C8D4E3\"},\"line\":{\"color\":\"white\"}},\"type\":\"table\"}],\"barpolar\":[{\"marker\":{\"line\":{\"color\":\"#E5ECF6\",\"width\":0.5},\"pattern\":{\"fillmode\":\"overlay\",\"size\":10,\"solidity\":0.2}},\"type\":\"barpolar\"}],\"pie\":[{\"automargin\":true,\"type\":\"pie\"}]},\"layout\":{\"autotypenumbers\":\"strict\",\"colorway\":[\"#636efa\",\"#EF553B\",\"#00cc96\",\"#ab63fa\",\"#FFA15A\",\"#19d3f3\",\"#FF6692\",\"#B6E880\",\"#FF97FF\",\"#FECB52\"],\"font\":{\"color\":\"#2a3f5f\"},\"hovermode\":\"closest\",\"hoverlabel\":{\"align\":\"left\"},\"paper_bgcolor\":\"white\",\"plot_bgcolor\":\"#E5ECF6\",\"polar\":{\"bgcolor\":\"#E5ECF6\",\"angularaxis\":{\"gridcolor\":\"white\",\"linecolor\":\"white\",\"ticks\":\"\"},\"radialaxis\":{\"gridcolor\":\"white\",\"linecolor\":\"white\",\"ticks\":\"\"}},\"ternary\":{\"bgcolor\":\"#E5ECF6\",\"aaxis\":{\"gridcolor\":\"white\",\"linecolor\":\"white\",\"ticks\":\"\"},\"baxis\":{\"gridcolor\":\"white\",\"linecolor\":\"white\",\"ticks\":\"\"},\"caxis\":{\"gridcolor\":\"white\",\"linecolor\":\"white\",\"ticks\":\"\"}},\"coloraxis\":{\"colorbar\":{\"outlinewidth\":0,\"ticks\":\"\"}},\"colorscale\":{\"sequential\":[[0.0,\"#0d0887\"],[0.1111111111111111,\"#46039f\"],[0.2222222222222222,\"#7201a8\"],[0.3333333333333333,\"#9c179e\"],[0.4444444444444444,\"#bd3786\"],[0.5555555555555556,\"#d8576b\"],[0.6666666666666666,\"#ed7953\"],[0.7777777777777778,\"#fb9f3a\"],[0.8888888888888888,\"#fdca26\"],[1.0,\"#f0f921\"]],\"sequentialminus\":[[0.0,\"#0d0887\"],[0.1111111111111111,\"#46039f\"],[0.2222222222222222,\"#7201a8\"],[0.3333333333333333,\"#9c179e\"],[0.4444444444444444,\"#bd3786\"],[0.5555555555555556,\"#d8576b\"],[0.6666666666666666,\"#ed7953\"],[0.7777777777777778,\"#fb9f3a\"],[0.8888888888888888,\"#fdca26\"],[1.0,\"#f0f921\"]],\"diverging\":[[0,\"#8e0152\"],[0.1,\"#c51b7d\"],[0.2,\"#de77ae\"],[0.3,\"#f1b6da\"],[0.4,\"#fde0ef\"],[0.5,\"#f7f7f7\"],[0.6,\"#e6f5d0\"],[0.7,\"#b8e186\"],[0.8,\"#7fbc41\"],[0.9,\"#4d9221\"],[1,\"#276419\"]]},\"xaxis\":{\"gridcolor\":\"white\",\"linecolor\":\"white\",\"ticks\":\"\",\"title\":{\"standoff\":15},\"zerolinecolor\":\"white\",\"automargin\":true,\"zerolinewidth\":2},\"yaxis\":{\"gridcolor\":\"white\",\"linecolor\":\"white\",\"ticks\":\"\",\"title\":{\"standoff\":15},\"zerolinecolor\":\"white\",\"automargin\":true,\"zerolinewidth\":2},\"scene\":{\"xaxis\":{\"backgroundcolor\":\"#E5ECF6\",\"gridcolor\":\"white\",\"linecolor\":\"white\",\"showbackground\":true,\"ticks\":\"\",\"zerolinecolor\":\"white\",\"gridwidth\":2},\"yaxis\":{\"backgroundcolor\":\"#E5ECF6\",\"gridcolor\":\"white\",\"linecolor\":\"white\",\"showbackground\":true,\"ticks\":\"\",\"zerolinecolor\":\"white\",\"gridwidth\":2},\"zaxis\":{\"backgroundcolor\":\"#E5ECF6\",\"gridcolor\":\"white\",\"linecolor\":\"white\",\"showbackground\":true,\"ticks\":\"\",\"zerolinecolor\":\"white\",\"gridwidth\":2}},\"shapedefaults\":{\"line\":{\"color\":\"#2a3f5f\"}},\"annotationdefaults\":{\"arrowcolor\":\"#2a3f5f\",\"arrowhead\":0,\"arrowwidth\":1},\"geo\":{\"bgcolor\":\"white\",\"landcolor\":\"#E5ECF6\",\"subunitcolor\":\"white\",\"showland\":true,\"showlakes\":true,\"lakecolor\":\"white\"},\"title\":{\"x\":0.05},\"mapbox\":{\"style\":\"light\"}}}},                        {\"responsive\": true}                    ).then(function(){\n",
       "                            \n",
       "var gd = document.getElementById('f427c5d4-35d4-472d-8046-fe7b131db78a');\n",
       "var x = new MutationObserver(function (mutations, observer) {{\n",
       "        var display = window.getComputedStyle(gd).display;\n",
       "        if (!display || display === 'none') {{\n",
       "            console.log([gd, 'removed!']);\n",
       "            Plotly.purge(gd);\n",
       "            observer.disconnect();\n",
       "        }}\n",
       "}});\n",
       "\n",
       "// Listen for the removal of the full notebook cells\n",
       "var notebookContainer = gd.closest('#notebook-container');\n",
       "if (notebookContainer) {{\n",
       "    x.observe(notebookContainer, {childList: true});\n",
       "}}\n",
       "\n",
       "// Listen for the clearing of the current output cell\n",
       "var outputEl = gd.closest('.output');\n",
       "if (outputEl) {{\n",
       "    x.observe(outputEl, {childList: true});\n",
       "}}\n",
       "\n",
       "                        })                };                });            </script>        </div>"
      ]
     },
     "metadata": {},
     "output_type": "display_data"
    }
   ],
   "source": [
    "hist_data =[df[\"AGE\"].values]\n",
    "group_labels = ['AGE'] \n",
    "ax=ff.create_distplot(hist_data, group_labels)\n",
    "\n",
    "ax.show()"
   ]
  },
  {
   "cell_type": "code",
   "execution_count": 36,
   "id": "bcfc21a5-ca72-4b0c-adb6-b0eac2d0a7ec",
   "metadata": {},
   "outputs": [
    {
     "data": {
      "image/png": "[encoded data removed]",
      "text/plain": [
       "<Figure size 1800x1800 with 2 Axes>"
      ]
     },
     "metadata": {},
     "output_type": "display_data"
    }
   ],
   "source": [
    "corrmat = df.corr()\n",
    "plt.subplots(figsize=(18,18))\n",
    "sns.heatmap(corrmat,annot=True, square=True, vmin=0, vmax=1,cmap=\"YlGnBu\");"
   ]
  },
  {
   "cell_type": "code",
   "execution_count": 37,
   "id": "2a19b506-16dd-4210-9a58-23e63f5f7292",
   "metadata": {},
   "outputs": [
    {
     "data": {
      "text/plain": [
       "<Axes: xlabel='LUNG_CANCER', ylabel='count'>"
      ]
     },
     "execution_count": 37,
     "metadata": {},
     "output_type": "execute_result"
    },
    {
     "data": {
      "image/png": "[encoded data removed]",
      "text/plain": [
       "<Figure size 640x480 with 1 Axes>"
      ]
     },
     "metadata": {},
     "output_type": "display_data"
    }
   ],
   "source": [
    "sns.countplot(x = 'LUNG_CANCER',data = df)"
   ]
  },
  {
   "cell_type": "code",
   "execution_count": 38,
   "id": "46f5f43a-df9a-496a-b0ed-afd5bc6e9118",
   "metadata": {},
   "outputs": [
    {
     "data": {
      "text/plain": [
       "<Axes: xlabel='YELLOW_FINGERS', ylabel='count'>"
      ]
     },
     "execution_count": 38,
     "metadata": {},
     "output_type": "execute_result"
    },
    {
     "data": {
      "image/png": "[encoded data removed]",
      "text/plain": [
       "<Figure size 640x480 with 1 Axes>"
      ]
     },
     "metadata": {},
     "output_type": "display_data"
    }
   ],
   "source": [
    "sns.countplot(x = 'YELLOW_FINGERS',data = df)"
   ]
  },
  {
   "cell_type": "code",
   "execution_count": 39,
   "id": "d37fbb24-87b6-4b0d-9cf8-bff74cc9d271",
   "metadata": {},
   "outputs": [
    {
     "data": {
      "text/plain": [
       "array([2, 1], dtype=int64)"
      ]
     },
     "execution_count": 39,
     "metadata": {},
     "output_type": "execute_result"
    }
   ],
   "source": [
    "df['ANXIETY'].unique()"
   ]
  },
  {
   "cell_type": "code",
   "execution_count": 40,
   "id": "d92c4c50-681b-43d2-8efe-0189549c37c2",
   "metadata": {},
   "outputs": [
    {
     "data": {
      "text/plain": [
       "array([1, 2], dtype=int64)"
      ]
     },
     "execution_count": 40,
     "metadata": {},
     "output_type": "execute_result"
    }
   ],
   "source": [
    "df['PEER_PRESSURE'].unique()"
   ]
  },
  {
   "cell_type": "code",
   "execution_count": 41,
   "id": "b0f5baba-99e9-47eb-9a3c-1f63e0a59396",
   "metadata": {},
   "outputs": [
    {
     "data": {
      "text/plain": [
       "<Axes: xlabel='CHRONIC DISEASE', ylabel='count'>"
      ]
     },
     "execution_count": 41,
     "metadata": {},
     "output_type": "execute_result"
    },
    {
     "data": {
      "image/png": "[encoded data removed]",
      "text/plain": [
       "<Figure size 640x480 with 1 Axes>"
      ]
     },
     "metadata": {},
     "output_type": "display_data"
    }
   ],
   "source": [
    "sns.countplot(x = 'CHRONIC DISEASE',data = df)"
   ]
  },
  {
   "cell_type": "code",
   "execution_count": 42,
   "id": "dd422a03-2a89-44c9-a6f6-4d881cd8e1f3",
   "metadata": {},
   "outputs": [
    {
     "data": {
      "text/plain": [
       "array([2, 1], dtype=int64)"
      ]
     },
     "execution_count": 42,
     "metadata": {},
     "output_type": "execute_result"
    }
   ],
   "source": [
    "df['YELLOW_FINGERS'].unique()"
   ]
  },
  {
   "cell_type": "code",
   "execution_count": 43,
   "id": "6d2c0ec7-7b6e-4c70-b731-84f4926b268f",
   "metadata": {},
   "outputs": [
    {
     "data": {
      "application/vnd.plotly.v1+json": {
       "config": {
        "plotlyServerURL": "https://plot.ly"
       },
       "data": [
        {
         "domain": {
          "x": [
           0,
           1
          ],
          "y": [
           0,
           1
          ]
         },
         "hole": 0.5,
         "hovertemplate": "label=%{label}<br>value=%{value}<extra></extra>",
         "labels": [
          1,
          0
         ],
         "legendgroup": "",
         "name": "",
         "showlegend": true,
         "type": "pie",
         "values": [
          270,
          39
         ]
        }
       ],
       "layout": {
        "autosize": true,
        "legend": {
         "tracegroupgap": 0
        },
        "margin": {
         "t": 60
        },
        "piecolorway": [
         "firebrick",
         "green"
        ],
        "template": {
         "data": {
          "bar": [
           {
            "error_x": {
             "color": "#2a3f5f"
            },
            "error_y": {
             "color": "#2a3f5f"
            },
            "marker": {
             "line": {
              "color": "#E5ECF6",
              "width": 0.5
             },
             "pattern": {
              "fillmode": "overlay",
              "size": 10,
              "solidity": 0.2
             }
            },
            "type": "bar"
           }
          ],
          "barpolar": [
           {
            "marker": {
             "line": {
              "color": "#E5ECF6",
              "width": 0.5
             },
             "pattern": {
              "fillmode": "overlay",
              "size": 10,
              "solidity": 0.2
             }
            },
            "type": "barpolar"
           }
          ],
          "carpet": [
           {
            "aaxis": {
             "endlinecolor": "#2a3f5f",
             "gridcolor": "white",
             "linecolor": "white",
             "minorgridcolor": "white",
             "startlinecolor": "#2a3f5f"
            },
            "baxis": {
             "endlinecolor": "#2a3f5f",
             "gridcolor": "white",
             "linecolor": "white",
             "minorgridcolor": "white",
             "startlinecolor": "#2a3f5f"
            },
            "type": "carpet"
           }
          ],
          "choropleth": [
           {
            "colorbar": {
             "outlinewidth": 0,
             "ticks": ""
            },
            "type": "choropleth"
           }
          ],
          "contour": [
           {
            "colorbar": {
             "outlinewidth": 0,
             "ticks": ""
            },
            "colorscale": [
             [
              0,
              "#0d0887"
             ],
             [
              0.1111111111111111,
              "#46039f"
             ],
             [
              0.2222222222222222,
              "#7201a8"
             ],
             [
              0.3333333333333333,
              "#9c179e"
             ],
             [
              0.4444444444444444,
              "#bd3786"
             ],
             [
              0.5555555555555556,
              "#d8576b"
             ],
             [
              0.6666666666666666,
              "#ed7953"
             ],
             [
              0.7777777777777778,
              "#fb9f3a"
             ],
             [
              0.8888888888888888,
              "#fdca26"
             ],
             [
              1,
              "#f0f921"
             ]
            ],
            "type": "contour"
           }
          ],
          "contourcarpet": [
           {
            "colorbar": {
             "outlinewidth": 0,
             "ticks": ""
            },
            "type": "contourcarpet"
           }
          ],
          "heatmap": [
           {
            "colorbar": {
             "outlinewidth": 0,
             "ticks": ""
            },
            "colorscale": [
             [
              0,
              "#0d0887"
             ],
             [
              0.1111111111111111,
              "#46039f"
             ],
             [
              0.2222222222222222,
              "#7201a8"
             ],
             [
              0.3333333333333333,
              "#9c179e"
             ],
             [
              0.4444444444444444,
              "#bd3786"
             ],
             [
              0.5555555555555556,
              "#d8576b"
             ],
             [
              0.6666666666666666,
              "#ed7953"
             ],
             [
              0.7777777777777778,
              "#fb9f3a"
             ],
             [
              0.8888888888888888,
              "#fdca26"
             ],
             [
              1,
              "#f0f921"
             ]
            ],
            "type": "heatmap"
           }
          ],
          "heatmapgl": [
           {
            "colorbar": {
             "outlinewidth": 0,
             "ticks": ""
            },
            "colorscale": [
             [
              0,
              "#0d0887"
             ],
             [
              0.1111111111111111,
              "#46039f"
             ],
             [
              0.2222222222222222,
              "#7201a8"
             ],
             [
              0.3333333333333333,
              "#9c179e"
             ],
             [
              0.4444444444444444,
              "#bd3786"
             ],
             [
              0.5555555555555556,
              "#d8576b"
             ],
             [
              0.6666666666666666,
              "#ed7953"
             ],
             [
              0.7777777777777778,
              "#fb9f3a"
             ],
             [
              0.8888888888888888,
              "#fdca26"
             ],
             [
              1,
              "#f0f921"
             ]
            ],
            "type": "heatmapgl"
           }
          ],
          "histogram": [
           {
            "marker": {
             "pattern": {
              "fillmode": "overlay",
              "size": 10,
              "solidity": 0.2
             }
            },
            "type": "histogram"
           }
          ],
          "histogram2d": [
           {
            "colorbar": {
             "outlinewidth": 0,
             "ticks": ""
            },
            "colorscale": [
             [
              0,
              "#0d0887"
             ],
             [
              0.1111111111111111,
              "#46039f"
             ],
             [
              0.2222222222222222,
              "#7201a8"
             ],
             [
              0.3333333333333333,
              "#9c179e"
             ],
             [
              0.4444444444444444,
              "#bd3786"
             ],
             [
              0.5555555555555556,
              "#d8576b"
             ],
             [
              0.6666666666666666,
              "#ed7953"
             ],
             [
              0.7777777777777778,
              "#fb9f3a"
             ],
             [
              0.8888888888888888,
              "#fdca26"
             ],
             [
              1,
              "#f0f921"
             ]
            ],
            "type": "histogram2d"
           }
          ],
          "histogram2dcontour": [
           {
            "colorbar": {
             "outlinewidth": 0,
             "ticks": ""
            },
            "colorscale": [
             [
              0,
              "#0d0887"
             ],
             [
              0.1111111111111111,
              "#46039f"
             ],
             [
              0.2222222222222222,
              "#7201a8"
             ],
             [
              0.3333333333333333,
              "#9c179e"
             ],
             [
              0.4444444444444444,
              "#bd3786"
             ],
             [
              0.5555555555555556,
              "#d8576b"
             ],
             [
              0.6666666666666666,
              "#ed7953"
             ],
             [
              0.7777777777777778,
              "#fb9f3a"
             ],
             [
              0.8888888888888888,
              "#fdca26"
             ],
             [
              1,
              "#f0f921"
             ]
            ],
            "type": "histogram2dcontour"
           }
          ],
          "mesh3d": [
           {
            "colorbar": {
             "outlinewidth": 0,
             "ticks": ""
            },
            "type": "mesh3d"
           }
          ],
          "parcoords": [
           {
            "line": {
             "colorbar": {
              "outlinewidth": 0,
              "ticks": ""
             }
            },
            "type": "parcoords"
           }
          ],
          "pie": [
           {
            "automargin": true,
            "type": "pie"
           }
          ],
          "scatter": [
           {
            "fillpattern": {
             "fillmode": "overlay",
             "size": 10,
             "solidity": 0.2
            },
            "type": "scatter"
           }
          ],
          "scatter3d": [
           {
            "line": {
             "colorbar": {
              "outlinewidth": 0,
              "ticks": ""
             }
            },
            "marker": {
             "colorbar": {
              "outlinewidth": 0,
              "ticks": ""
             }
            },
            "type": "scatter3d"
           }
          ],
          "scattercarpet": [
           {
            "marker": {
             "colorbar": {
              "outlinewidth": 0,
              "ticks": ""
             }
            },
            "type": "scattercarpet"
           }
          ],
          "scattergeo": [
           {
            "marker": {
             "colorbar": {
              "outlinewidth": 0,
              "ticks": ""
             }
            },
            "type": "scattergeo"
           }
          ],
          "scattergl": [
           {
            "marker": {
             "colorbar": {
              "outlinewidth": 0,
              "ticks": ""
             }
            },
            "type": "scattergl"
           }
          ],
          "scattermapbox": [
           {
            "marker": {
             "colorbar": {
              "outlinewidth": 0,
              "ticks": ""
             }
            },
            "type": "scattermapbox"
           }
          ],
          "scatterpolar": [
           {
            "marker": {
             "colorbar": {
              "outlinewidth": 0,
              "ticks": ""
             }
            },
            "type": "scatterpolar"
           }
          ],
          "scatterpolargl": [
           {
            "marker": {
             "colorbar": {
              "outlinewidth": 0,
              "ticks": ""
             }
            },
            "type": "scatterpolargl"
           }
          ],
          "scatterternary": [
           {
            "marker": {
             "colorbar": {
              "outlinewidth": 0,
              "ticks": ""
             }
            },
            "type": "scatterternary"
           }
          ],
          "surface": [
           {
            "colorbar": {
             "outlinewidth": 0,
             "ticks": ""
            },
            "colorscale": [
             [
              0,
              "#0d0887"
             ],
             [
              0.1111111111111111,
              "#46039f"
             ],
             [
              0.2222222222222222,
              "#7201a8"
             ],
             [
              0.3333333333333333,
              "#9c179e"
             ],
             [
              0.4444444444444444,
              "#bd3786"
             ],
             [
              0.5555555555555556,
              "#d8576b"
             ],
             [
              0.6666666666666666,
              "#ed7953"
             ],
             [
              0.7777777777777778,
              "#fb9f3a"
             ],
             [
              0.8888888888888888,
              "#fdca26"
             ],
             [
              1,
              "#f0f921"
             ]
            ],
            "type": "surface"
           }
          ],
          "table": [
           {
            "cells": {
             "fill": {
              "color": "#EBF0F8"
             },
             "line": {
              "color": "white"
             }
            },
            "header": {
             "fill": {
              "color": "#C8D4E3"
             },
             "line": {
              "color": "white"
             }
            },
            "type": "table"
           }
          ]
         },
         "layout": {
          "annotationdefaults": {
           "arrowcolor": "#2a3f5f",
           "arrowhead": 0,
           "arrowwidth": 1
          },
          "autotypenumbers": "strict",
          "coloraxis": {
           "colorbar": {
            "outlinewidth": 0,
            "ticks": ""
           }
          },
          "colorscale": {
           "diverging": [
            [
             0,
             "#8e0152"
            ],
            [
             0.1,
             "#c51b7d"
            ],
            [
             0.2,
             "#de77ae"
            ],
            [
             0.3,
             "#f1b6da"
            ],
            [
             0.4,
             "#fde0ef"
            ],
            [
             0.5,
             "#f7f7f7"
            ],
            [
             0.6,
             "#e6f5d0"
            ],
            [
             0.7,
             "#b8e186"
            ],
            [
             0.8,
             "#7fbc41"
            ],
            [
             0.9,
             "#4d9221"
            ],
            [
             1,
             "#276419"
            ]
           ],
           "sequential": [
            [
             0,
             "#0d0887"
            ],
            [
             0.1111111111111111,
             "#46039f"
            ],
            [
             0.2222222222222222,
             "#7201a8"
            ],
            [
             0.3333333333333333,
             "#9c179e"
            ],
            [
             0.4444444444444444,
             "#bd3786"
            ],
            [
             0.5555555555555556,
             "#d8576b"
            ],
            [
             0.6666666666666666,
             "#ed7953"
            ],
            [
             0.7777777777777778,
             "#fb9f3a"
            ],
            [
             0.8888888888888888,
             "#fdca26"
            ],
            [
             1,
             "#f0f921"
            ]
           ],
           "sequentialminus": [
            [
             0,
             "#0d0887"
            ],
            [
             0.1111111111111111,
             "#46039f"
            ],
            [
             0.2222222222222222,
             "#7201a8"
            ],
            [
             0.3333333333333333,
             "#9c179e"
            ],
            [
             0.4444444444444444,
             "#bd3786"
            ],
            [
             0.5555555555555556,
             "#d8576b"
            ],
            [
             0.6666666666666666,
             "#ed7953"
            ],
            [
             0.7777777777777778,
             "#fb9f3a"
            ],
            [
             0.8888888888888888,
             "#fdca26"
            ],
            [
             1,
             "#f0f921"
            ]
           ]
          },
          "colorway": [
           "#636efa",
           "#EF553B",
           "#00cc96",
           "#ab63fa",
           "#FFA15A",
           "#19d3f3",
           "#FF6692",
           "#B6E880",
           "#FF97FF",
           "#FECB52"
          ],
          "font": {
           "color": "#2a3f5f"
          },
          "geo": {
           "bgcolor": "white",
           "lakecolor": "white",
           "landcolor": "#E5ECF6",
           "showlakes": true,
           "showland": true,
           "subunitcolor": "white"
          },
          "hoverlabel": {
           "align": "left"
          },
          "hovermode": "closest",
          "mapbox": {
           "style": "light"
          },
          "paper_bgcolor": "white",
          "plot_bgcolor": "#E5ECF6",
          "polar": {
           "angularaxis": {
            "gridcolor": "white",
            "linecolor": "white",
            "ticks": ""
           },
           "bgcolor": "#E5ECF6",
           "radialaxis": {
            "gridcolor": "white",
            "linecolor": "white",
            "ticks": ""
           }
          },
          "scene": {
           "xaxis": {
            "backgroundcolor": "#E5ECF6",
            "gridcolor": "white",
            "gridwidth": 2,
            "linecolor": "white",
            "showbackground": true,
            "ticks": "",
            "zerolinecolor": "white"
           },
           "yaxis": {
            "backgroundcolor": "#E5ECF6",
            "gridcolor": "white",
            "gridwidth": 2,
            "linecolor": "white",
            "showbackground": true,
            "ticks": "",
            "zerolinecolor": "white"
           },
           "zaxis": {
            "backgroundcolor": "#E5ECF6",
            "gridcolor": "white",
            "gridwidth": 2,
            "linecolor": "white",
            "showbackground": true,
            "ticks": "",
            "zerolinecolor": "white"
           }
          },
          "shapedefaults": {
           "line": {
            "color": "#2a3f5f"
           }
          },
          "ternary": {
           "aaxis": {
            "gridcolor": "white",
            "linecolor": "white",
            "ticks": ""
           },
           "baxis": {
            "gridcolor": "white",
            "linecolor": "white",
            "ticks": ""
           },
           "bgcolor": "#E5ECF6",
           "caxis": {
            "gridcolor": "white",
            "linecolor": "white",
            "ticks": ""
           }
          },
          "title": {
           "x": 0.05
          },
          "xaxis": {
           "automargin": true,
           "gridcolor": "white",
           "linecolor": "white",
           "ticks": "",
           "title": {
            "standoff": 15
           },
           "zerolinecolor": "white",
           "zerolinewidth": 2
          },
          "yaxis": {
           "automargin": true,
           "gridcolor": "white",
           "linecolor": "white",
           "ticks": "",
           "title": {
            "standoff": 15
           },
           "zerolinecolor": "white",
           "zerolinewidth": 2
          }
         }
        }
       }
      },
      "image/png": "[encoded data removed]",
      "text/html": [
       "<div>                            <div id=\"c2b7a29b-7d1d-42b7-ad71-45a41ec0ae36\" class=\"plotly-graph-div\" style=\"height:525px; width:100%;\"></div>            <script type=\"text/javascript\">                require([\"plotly\"], function(Plotly) {                    window.PLOTLYENV=window.PLOTLYENV || {};                                    if (document.getElementById(\"c2b7a29b-7d1d-42b7-ad71-45a41ec0ae36\")) {                    Plotly.newPlot(                        \"c2b7a29b-7d1d-42b7-ad71-45a41ec0ae36\",                        [{\"domain\":{\"x\":[0.0,1.0],\"y\":[0.0,1.0]},\"hole\":0.5,\"hovertemplate\":\"label=%{label}\\u003cbr\\u003evalue=%{value}\\u003cextra\\u003e\\u003c\\u002fextra\\u003e\",\"labels\":[1,0],\"legendgroup\":\"\",\"name\":\"\",\"showlegend\":true,\"values\":[270,39],\"type\":\"pie\"}],                        {\"template\":{\"data\":{\"histogram2dcontour\":[{\"type\":\"histogram2dcontour\",\"colorbar\":{\"outlinewidth\":0,\"ticks\":\"\"},\"colorscale\":[[0.0,\"#0d0887\"],[0.1111111111111111,\"#46039f\"],[0.2222222222222222,\"#7201a8\"],[0.3333333333333333,\"#9c179e\"],[0.4444444444444444,\"#bd3786\"],[0.5555555555555556,\"#d8576b\"],[0.6666666666666666,\"#ed7953\"],[0.7777777777777778,\"#fb9f3a\"],[0.8888888888888888,\"#fdca26\"],[1.0,\"#f0f921\"]]}],\"choropleth\":[{\"type\":\"choropleth\",\"colorbar\":{\"outlinewidth\":0,\"ticks\":\"\"}}],\"histogram2d\":[{\"type\":\"histogram2d\",\"colorbar\":{\"outlinewidth\":0,\"ticks\":\"\"},\"colorscale\":[[0.0,\"#0d0887\"],[0.1111111111111111,\"#46039f\"],[0.2222222222222222,\"#7201a8\"],[0.3333333333333333,\"#9c179e\"],[0.4444444444444444,\"#bd3786\"],[0.5555555555555556,\"#d8576b\"],[0.6666666666666666,\"#ed7953\"],[0.7777777777777778,\"#fb9f3a\"],[0.8888888888888888,\"#fdca26\"],[1.0,\"#f0f921\"]]}],\"heatmap\":[{\"type\":\"heatmap\",\"colorbar\":{\"outlinewidth\":0,\"ticks\":\"\"},\"colorscale\":[[0.0,\"#0d0887\"],[0.1111111111111111,\"#46039f\"],[0.2222222222222222,\"#7201a8\"],[0.3333333333333333,\"#9c179e\"],[0.4444444444444444,\"#bd3786\"],[0.5555555555555556,\"#d8576b\"],[0.6666666666666666,\"#ed7953\"],[0.7777777777777778,\"#fb9f3a\"],[0.8888888888888888,\"#fdca26\"],[1.0,\"#f0f921\"]]}],\"heatmapgl\":[{\"type\":\"heatmapgl\",\"colorbar\":{\"outlinewidth\":0,\"ticks\":\"\"},\"colorscale\":[[0.0,\"#0d0887\"],[0.1111111111111111,\"#46039f\"],[0.2222222222222222,\"#7201a8\"],[0.3333333333333333,\"#9c179e\"],[0.4444444444444444,\"#bd3786\"],[0.5555555555555556,\"#d8576b\"],[0.6666666666666666,\"#ed7953\"],[0.7777777777777778,\"#fb9f3a\"],[0.8888888888888888,\"#fdca26\"],[1.0,\"#f0f921\"]]}],\"contourcarpet\":[{\"type\":\"contourcarpet\",\"colorbar\":{\"outlinewidth\":0,\"ticks\":\"\"}}],\"contour\":[{\"type\":\"contour\",\"colorbar\":{\"outlinewidth\":0,\"ticks\":\"\"},\"colorscale\":[[0.0,\"#0d0887\"],[0.1111111111111111,\"#46039f\"],[0.2222222222222222,\"#7201a8\"],[0.3333333333333333,\"#9c179e\"],[0.4444444444444444,\"#bd3786\"],[0.5555555555555556,\"#d8576b\"],[0.6666666666666666,\"#ed7953\"],[0.7777777777777778,\"#fb9f3a\"],[0.8888888888888888,\"#fdca26\"],[1.0,\"#f0f921\"]]}],\"surface\":[{\"type\":\"surface\",\"colorbar\":{\"outlinewidth\":0,\"ticks\":\"\"},\"colorscale\":[[0.0,\"#0d0887\"],[0.1111111111111111,\"#46039f\"],[0.2222222222222222,\"#7201a8\"],[0.3333333333333333,\"#9c179e\"],[0.4444444444444444,\"#bd3786\"],[0.5555555555555556,\"#d8576b\"],[0.6666666666666666,\"#ed7953\"],[0.7777777777777778,\"#fb9f3a\"],[0.8888888888888888,\"#fdca26\"],[1.0,\"#f0f921\"]]}],\"mesh3d\":[{\"type\":\"mesh3d\",\"colorbar\":{\"outlinewidth\":0,\"ticks\":\"\"}}],\"scatter\":[{\"fillpattern\":{\"fillmode\":\"overlay\",\"size\":10,\"solidity\":0.2},\"type\":\"scatter\"}],\"parcoords\":[{\"type\":\"parcoords\",\"line\":{\"colorbar\":{\"outlinewidth\":0,\"ticks\":\"\"}}}],\"scatterpolargl\":[{\"type\":\"scatterpolargl\",\"marker\":{\"colorbar\":{\"outlinewidth\":0,\"ticks\":\"\"}}}],\"bar\":[{\"error_x\":{\"color\":\"#2a3f5f\"},\"error_y\":{\"color\":\"#2a3f5f\"},\"marker\":{\"line\":{\"color\":\"#E5ECF6\",\"width\":0.5},\"pattern\":{\"fillmode\":\"overlay\",\"size\":10,\"solidity\":0.2}},\"type\":\"bar\"}],\"scattergeo\":[{\"type\":\"scattergeo\",\"marker\":{\"colorbar\":{\"outlinewidth\":0,\"ticks\":\"\"}}}],\"scatterpolar\":[{\"type\":\"scatterpolar\",\"marker\":{\"colorbar\":{\"outlinewidth\":0,\"ticks\":\"\"}}}],\"histogram\":[{\"marker\":{\"pattern\":{\"fillmode\":\"overlay\",\"size\":10,\"solidity\":0.2}},\"type\":\"histogram\"}],\"scattergl\":[{\"type\":\"scattergl\",\"marker\":{\"colorbar\":{\"outlinewidth\":0,\"ticks\":\"\"}}}],\"scatter3d\":[{\"type\":\"scatter3d\",\"line\":{\"colorbar\":{\"outlinewidth\":0,\"ticks\":\"\"}},\"marker\":{\"colorbar\":{\"outlinewidth\":0,\"ticks\":\"\"}}}],\"scattermapbox\":[{\"type\":\"scattermapbox\",\"marker\":{\"colorbar\":{\"outlinewidth\":0,\"ticks\":\"\"}}}],\"scatterternary\":[{\"type\":\"scatterternary\",\"marker\":{\"colorbar\":{\"outlinewidth\":0,\"ticks\":\"\"}}}],\"scattercarpet\":[{\"type\":\"scattercarpet\",\"marker\":{\"colorbar\":{\"outlinewidth\":0,\"ticks\":\"\"}}}],\"carpet\":[{\"aaxis\":{\"endlinecolor\":\"#2a3f5f\",\"gridcolor\":\"white\",\"linecolor\":\"white\",\"minorgridcolor\":\"white\",\"startlinecolor\":\"#2a3f5f\"},\"baxis\":{\"endlinecolor\":\"#2a3f5f\",\"gridcolor\":\"white\",\"linecolor\":\"white\",\"minorgridcolor\":\"white\",\"startlinecolor\":\"#2a3f5f\"},\"type\":\"carpet\"}],\"table\":[{\"cells\":{\"fill\":{\"color\":\"#EBF0F8\"},\"line\":{\"color\":\"white\"}},\"header\":{\"fill\":{\"color\":\"#C8D4E3\"},\"line\":{\"color\":\"white\"}},\"type\":\"table\"}],\"barpolar\":[{\"marker\":{\"line\":{\"color\":\"#E5ECF6\",\"width\":0.5},\"pattern\":{\"fillmode\":\"overlay\",\"size\":10,\"solidity\":0.2}},\"type\":\"barpolar\"}],\"pie\":[{\"automargin\":true,\"type\":\"pie\"}]},\"layout\":{\"autotypenumbers\":\"strict\",\"colorway\":[\"#636efa\",\"#EF553B\",\"#00cc96\",\"#ab63fa\",\"#FFA15A\",\"#19d3f3\",\"#FF6692\",\"#B6E880\",\"#FF97FF\",\"#FECB52\"],\"font\":{\"color\":\"#2a3f5f\"},\"hovermode\":\"closest\",\"hoverlabel\":{\"align\":\"left\"},\"paper_bgcolor\":\"white\",\"plot_bgcolor\":\"#E5ECF6\",\"polar\":{\"bgcolor\":\"#E5ECF6\",\"angularaxis\":{\"gridcolor\":\"white\",\"linecolor\":\"white\",\"ticks\":\"\"},\"radialaxis\":{\"gridcolor\":\"white\",\"linecolor\":\"white\",\"ticks\":\"\"}},\"ternary\":{\"bgcolor\":\"#E5ECF6\",\"aaxis\":{\"gridcolor\":\"white\",\"linecolor\":\"white\",\"ticks\":\"\"},\"baxis\":{\"gridcolor\":\"white\",\"linecolor\":\"white\",\"ticks\":\"\"},\"caxis\":{\"gridcolor\":\"white\",\"linecolor\":\"white\",\"ticks\":\"\"}},\"coloraxis\":{\"colorbar\":{\"outlinewidth\":0,\"ticks\":\"\"}},\"colorscale\":{\"sequential\":[[0.0,\"#0d0887\"],[0.1111111111111111,\"#46039f\"],[0.2222222222222222,\"#7201a8\"],[0.3333333333333333,\"#9c179e\"],[0.4444444444444444,\"#bd3786\"],[0.5555555555555556,\"#d8576b\"],[0.6666666666666666,\"#ed7953\"],[0.7777777777777778,\"#fb9f3a\"],[0.8888888888888888,\"#fdca26\"],[1.0,\"#f0f921\"]],\"sequentialminus\":[[0.0,\"#0d0887\"],[0.1111111111111111,\"#46039f\"],[0.2222222222222222,\"#7201a8\"],[0.3333333333333333,\"#9c179e\"],[0.4444444444444444,\"#bd3786\"],[0.5555555555555556,\"#d8576b\"],[0.6666666666666666,\"#ed7953\"],[0.7777777777777778,\"#fb9f3a\"],[0.8888888888888888,\"#fdca26\"],[1.0,\"#f0f921\"]],\"diverging\":[[0,\"#8e0152\"],[0.1,\"#c51b7d\"],[0.2,\"#de77ae\"],[0.3,\"#f1b6da\"],[0.4,\"#fde0ef\"],[0.5,\"#f7f7f7\"],[0.6,\"#e6f5d0\"],[0.7,\"#b8e186\"],[0.8,\"#7fbc41\"],[0.9,\"#4d9221\"],[1,\"#276419\"]]},\"xaxis\":{\"gridcolor\":\"white\",\"linecolor\":\"white\",\"ticks\":\"\",\"title\":{\"standoff\":15},\"zerolinecolor\":\"white\",\"automargin\":true,\"zerolinewidth\":2},\"yaxis\":{\"gridcolor\":\"white\",\"linecolor\":\"white\",\"ticks\":\"\",\"title\":{\"standoff\":15},\"zerolinecolor\":\"white\",\"automargin\":true,\"zerolinewidth\":2},\"scene\":{\"xaxis\":{\"backgroundcolor\":\"#E5ECF6\",\"gridcolor\":\"white\",\"linecolor\":\"white\",\"showbackground\":true,\"ticks\":\"\",\"zerolinecolor\":\"white\",\"gridwidth\":2},\"yaxis\":{\"backgroundcolor\":\"#E5ECF6\",\"gridcolor\":\"white\",\"linecolor\":\"white\",\"showbackground\":true,\"ticks\":\"\",\"zerolinecolor\":\"white\",\"gridwidth\":2},\"zaxis\":{\"backgroundcolor\":\"#E5ECF6\",\"gridcolor\":\"white\",\"linecolor\":\"white\",\"showbackground\":true,\"ticks\":\"\",\"zerolinecolor\":\"white\",\"gridwidth\":2}},\"shapedefaults\":{\"line\":{\"color\":\"#2a3f5f\"}},\"annotationdefaults\":{\"arrowcolor\":\"#2a3f5f\",\"arrowhead\":0,\"arrowwidth\":1},\"geo\":{\"bgcolor\":\"white\",\"landcolor\":\"#E5ECF6\",\"subunitcolor\":\"white\",\"showland\":true,\"showlakes\":true,\"lakecolor\":\"white\"},\"title\":{\"x\":0.05},\"mapbox\":{\"style\":\"light\"}}},\"legend\":{\"tracegroupgap\":0},\"margin\":{\"t\":60},\"piecolorway\":[\"firebrick\",\"green\"]},                        {\"responsive\": true}                    ).then(function(){\n",
       "                            \n",
       "var gd = document.getElementById('c2b7a29b-7d1d-42b7-ad71-45a41ec0ae36');\n",
       "var x = new MutationObserver(function (mutations, observer) {{\n",
       "        var display = window.getComputedStyle(gd).display;\n",
       "        if (!display || display === 'none') {{\n",
       "            console.log([gd, 'removed!']);\n",
       "            Plotly.purge(gd);\n",
       "            observer.disconnect();\n",
       "        }}\n",
       "}});\n",
       "\n",
       "// Listen for the removal of the full notebook cells\n",
       "var notebookContainer = gd.closest('#notebook-container');\n",
       "if (notebookContainer) {{\n",
       "    x.observe(notebookContainer, {childList: true});\n",
       "}}\n",
       "\n",
       "// Listen for the clearing of the current output cell\n",
       "var outputEl = gd.closest('.output');\n",
       "if (outputEl) {{\n",
       "    x.observe(outputEl, {childList: true});\n",
       "}}\n",
       "\n",
       "                        })                };                });            </script>        </div>"
      ]
     },
     "metadata": {},
     "output_type": "display_data"
    }
   ],
   "source": [
    "values = df['LUNG_CANCER'].value_counts().tolist()\n",
    "names = list(dict(df['LUNG_CANCER'].value_counts()).keys())\n",
    "px.pie(df, values=values, names=names, hole = 0.5,\n",
    "       color_discrete_sequence=[\"firebrick\", \"green\"])\n"
   ]
  },
  {
   "cell_type": "code",
   "execution_count": 44,
   "id": "5feb05ef-e73a-4903-a9ce-c5a8e9222e22",
   "metadata": {},
   "outputs": [
    {
     "name": "stdout",
     "output_type": "stream",
     "text": [
      "LUNG_CANCER              1.000000\n",
      "ALLERGY                  0.327766\n",
      "ALCOHOL CONSUMING        0.288533\n",
      "SWALLOWING DIFFICULTY    0.259730\n",
      "WHEEZING                 0.249300\n",
      "COUGHING                 0.248570\n",
      "CHEST PAIN               0.190451\n",
      "PEER_PRESSURE            0.186388\n",
      "YELLOW_FINGERS           0.181339\n",
      "FATIGUE                  0.150673\n",
      "ANXIETY                  0.144947\n",
      "CHRONIC DISEASE          0.110891\n",
      "AGE                      0.089465\n",
      "GENDER                   0.067254\n",
      "SHORTNESS OF BREATH      0.060738\n",
      "SMOKING                  0.058179\n",
      "Name: LUNG_CANCER, dtype: float64\n"
     ]
    }
   ],
   "source": [
    "print(df.corr()[\"LUNG_CANCER\"].abs().sort_values(ascending=False))"
   ]
  },
  {
   "cell_type": "markdown",
   "id": "be943252-4259-4ce3-96f2-085fd92be926",
   "metadata": {},
   "source": [
    "# Feature Selection based on correlation"
   ]
  },
  {
   "cell_type": "code",
   "execution_count": 52,
   "id": "fcde9a7d-215b-402c-ae42-0f0fc9526cac",
   "metadata": {},
   "outputs": [],
   "source": [
    "X = df.drop(['AGE','GENDER','SHORTNESS OF BREATH','SMOKING','LUNG_CANCER'],axis=1)"
   ]
  },
  {
   "cell_type": "code",
   "execution_count": 53,
   "id": "e4f6be13-1bda-454d-8f80-c4c5fd0b2358",
   "metadata": {},
   "outputs": [
    {
     "data": {
      "text/html": [
       "<div>\n",
       "<style scoped>\n",
       "    .dataframe tbody tr th:only-of-type {\n",
       "        vertical-align: middle;\n",
       "    }\n",
       "\n",
       "    .dataframe tbody tr th {\n",
       "        vertical-align: top;\n",
       "    }\n",
       "\n",
       "    .dataframe thead th {\n",
       "        text-align: right;\n",
       "    }\n",
       "</style>\n",
       "<table border=\"1\" class=\"dataframe\">\n",
       "  <thead>\n",
       "    <tr style=\"text-align: right;\">\n",
       "      <th></th>\n",
       "      <th>YELLOW_FINGERS</th>\n",
       "      <th>ANXIETY</th>\n",
       "      <th>PEER_PRESSURE</th>\n",
       "      <th>CHRONIC DISEASE</th>\n",
       "      <th>FATIGUE</th>\n",
       "      <th>ALLERGY</th>\n",
       "      <th>WHEEZING</th>\n",
       "      <th>ALCOHOL CONSUMING</th>\n",
       "      <th>COUGHING</th>\n",
       "      <th>SWALLOWING DIFFICULTY</th>\n",
       "      <th>CHEST PAIN</th>\n",
       "    </tr>\n",
       "  </thead>\n",
       "  <tbody>\n",
       "    <tr>\n",
       "      <th>0</th>\n",
       "      <td>2</td>\n",
       "      <td>2</td>\n",
       "      <td>1</td>\n",
       "      <td>1</td>\n",
       "      <td>2</td>\n",
       "      <td>1</td>\n",
       "      <td>2</td>\n",
       "      <td>2</td>\n",
       "      <td>2</td>\n",
       "      <td>2</td>\n",
       "      <td>2</td>\n",
       "    </tr>\n",
       "    <tr>\n",
       "      <th>1</th>\n",
       "      <td>1</td>\n",
       "      <td>1</td>\n",
       "      <td>1</td>\n",
       "      <td>2</td>\n",
       "      <td>2</td>\n",
       "      <td>2</td>\n",
       "      <td>1</td>\n",
       "      <td>1</td>\n",
       "      <td>1</td>\n",
       "      <td>2</td>\n",
       "      <td>2</td>\n",
       "    </tr>\n",
       "    <tr>\n",
       "      <th>2</th>\n",
       "      <td>1</td>\n",
       "      <td>1</td>\n",
       "      <td>2</td>\n",
       "      <td>1</td>\n",
       "      <td>2</td>\n",
       "      <td>1</td>\n",
       "      <td>2</td>\n",
       "      <td>1</td>\n",
       "      <td>2</td>\n",
       "      <td>1</td>\n",
       "      <td>2</td>\n",
       "    </tr>\n",
       "    <tr>\n",
       "      <th>3</th>\n",
       "      <td>2</td>\n",
       "      <td>2</td>\n",
       "      <td>1</td>\n",
       "      <td>1</td>\n",
       "      <td>1</td>\n",
       "      <td>1</td>\n",
       "      <td>1</td>\n",
       "      <td>2</td>\n",
       "      <td>1</td>\n",
       "      <td>2</td>\n",
       "      <td>2</td>\n",
       "    </tr>\n",
       "    <tr>\n",
       "      <th>4</th>\n",
       "      <td>2</td>\n",
       "      <td>1</td>\n",
       "      <td>1</td>\n",
       "      <td>1</td>\n",
       "      <td>1</td>\n",
       "      <td>1</td>\n",
       "      <td>2</td>\n",
       "      <td>1</td>\n",
       "      <td>2</td>\n",
       "      <td>1</td>\n",
       "      <td>1</td>\n",
       "    </tr>\n",
       "    <tr>\n",
       "      <th>...</th>\n",
       "      <td>...</td>\n",
       "      <td>...</td>\n",
       "      <td>...</td>\n",
       "      <td>...</td>\n",
       "      <td>...</td>\n",
       "      <td>...</td>\n",
       "      <td>...</td>\n",
       "      <td>...</td>\n",
       "      <td>...</td>\n",
       "      <td>...</td>\n",
       "      <td>...</td>\n",
       "    </tr>\n",
       "    <tr>\n",
       "      <th>304</th>\n",
       "      <td>1</td>\n",
       "      <td>1</td>\n",
       "      <td>2</td>\n",
       "      <td>2</td>\n",
       "      <td>2</td>\n",
       "      <td>1</td>\n",
       "      <td>1</td>\n",
       "      <td>2</td>\n",
       "      <td>2</td>\n",
       "      <td>2</td>\n",
       "      <td>1</td>\n",
       "    </tr>\n",
       "    <tr>\n",
       "      <th>305</th>\n",
       "      <td>1</td>\n",
       "      <td>1</td>\n",
       "      <td>1</td>\n",
       "      <td>1</td>\n",
       "      <td>2</td>\n",
       "      <td>2</td>\n",
       "      <td>2</td>\n",
       "      <td>2</td>\n",
       "      <td>2</td>\n",
       "      <td>1</td>\n",
       "      <td>2</td>\n",
       "    </tr>\n",
       "    <tr>\n",
       "      <th>306</th>\n",
       "      <td>1</td>\n",
       "      <td>1</td>\n",
       "      <td>1</td>\n",
       "      <td>1</td>\n",
       "      <td>1</td>\n",
       "      <td>2</td>\n",
       "      <td>2</td>\n",
       "      <td>2</td>\n",
       "      <td>2</td>\n",
       "      <td>1</td>\n",
       "      <td>2</td>\n",
       "    </tr>\n",
       "    <tr>\n",
       "      <th>307</th>\n",
       "      <td>1</td>\n",
       "      <td>2</td>\n",
       "      <td>1</td>\n",
       "      <td>1</td>\n",
       "      <td>2</td>\n",
       "      <td>2</td>\n",
       "      <td>1</td>\n",
       "      <td>2</td>\n",
       "      <td>2</td>\n",
       "      <td>1</td>\n",
       "      <td>2</td>\n",
       "    </tr>\n",
       "    <tr>\n",
       "      <th>308</th>\n",
       "      <td>1</td>\n",
       "      <td>1</td>\n",
       "      <td>2</td>\n",
       "      <td>1</td>\n",
       "      <td>2</td>\n",
       "      <td>2</td>\n",
       "      <td>2</td>\n",
       "      <td>2</td>\n",
       "      <td>1</td>\n",
       "      <td>2</td>\n",
       "      <td>1</td>\n",
       "    </tr>\n",
       "  </tbody>\n",
       "</table>\n",
       "<p>309 rows × 11 columns</p>\n",
       "</div>"
      ],
      "text/plain": [
       "     YELLOW_FINGERS  ANXIETY  PEER_PRESSURE  CHRONIC DISEASE  FATIGUE   \\\n",
       "0                 2        2              1                1         2   \n",
       "1                 1        1              1                2         2   \n",
       "2                 1        1              2                1         2   \n",
       "3                 2        2              1                1         1   \n",
       "4                 2        1              1                1         1   \n",
       "..              ...      ...            ...              ...       ...   \n",
       "304               1        1              2                2         2   \n",
       "305               1        1              1                1         2   \n",
       "306               1        1              1                1         1   \n",
       "307               1        2              1                1         2   \n",
       "308               1        1              2                1         2   \n",
       "\n",
       "     ALLERGY   WHEEZING  ALCOHOL CONSUMING  COUGHING  SWALLOWING DIFFICULTY  \\\n",
       "0           1         2                  2         2                      2   \n",
       "1           2         1                  1         1                      2   \n",
       "2           1         2                  1         2                      1   \n",
       "3           1         1                  2         1                      2   \n",
       "4           1         2                  1         2                      1   \n",
       "..        ...       ...                ...       ...                    ...   \n",
       "304         1         1                  2         2                      2   \n",
       "305         2         2                  2         2                      1   \n",
       "306         2         2                  2         2                      1   \n",
       "307         2         1                  2         2                      1   \n",
       "308         2         2                  2         1                      2   \n",
       "\n",
       "     CHEST PAIN  \n",
       "0             2  \n",
       "1             2  \n",
       "2             2  \n",
       "3             2  \n",
       "4             1  \n",
       "..          ...  \n",
       "304           1  \n",
       "305           2  \n",
       "306           2  \n",
       "307           2  \n",
       "308           1  \n",
       "\n",
       "[309 rows x 11 columns]"
      ]
     },
     "execution_count": 53,
     "metadata": {},
     "output_type": "execute_result"
    }
   ],
   "source": [
    "X"
   ]
  },
  {
   "cell_type": "code",
   "execution_count": 47,
   "id": "95ca302d-7ecc-4f86-816d-ba499feba228",
   "metadata": {},
   "outputs": [],
   "source": [
    "y = df['LUNG_CANCER']"
   ]
  },
  {
   "cell_type": "code",
   "execution_count": 48,
   "id": "14255c2c-a922-49af-86bf-0e21e67498cb",
   "metadata": {},
   "outputs": [
    {
     "data": {
      "text/plain": [
       "0      1\n",
       "1      1\n",
       "2      0\n",
       "3      0\n",
       "4      0\n",
       "      ..\n",
       "304    1\n",
       "305    1\n",
       "306    1\n",
       "307    1\n",
       "308    1\n",
       "Name: LUNG_CANCER, Length: 309, dtype: int32"
      ]
     },
     "execution_count": 48,
     "metadata": {},
     "output_type": "execute_result"
    }
   ],
   "source": [
    "y"
   ]
  },
  {
   "cell_type": "markdown",
   "id": "04e0194b-78ef-42c6-956a-7c4550525243",
   "metadata": {},
   "source": [
    "# Model Building"
   ]
  },
  {
   "cell_type": "code",
   "execution_count": 54,
   "id": "3f827963-6a00-4aaa-baf4-146080e2ecc2",
   "metadata": {},
   "outputs": [],
   "source": [
    "X_train, X_test, y_train, y_test = train_test_split(X, y, test_size=0.2, random_state=0)"
   ]
  },
  {
   "cell_type": "markdown",
   "id": "73384b8e-ff78-46bb-bbd8-566e9de463c7",
   "metadata": {},
   "source": [
    "# Support Vector Machine"
   ]
  },
  {
   "cell_type": "code",
   "execution_count": 55,
   "id": "66696e44-93fc-411c-84b7-dee9f65090b3",
   "metadata": {},
   "outputs": [
    {
     "name": "stdout",
     "output_type": "stream",
     "text": [
      "*Accuracy score for SVM:  96.7741935483871 \n",
      "\n",
      "*Confusion Matrix for SVM: \n",
      "[[ 9  1]\n",
      " [ 1 51]]\n",
      "*Classification Report for SVM: \n",
      "              precision    recall  f1-score   support\n",
      "\n",
      "           0       0.90      0.90      0.90        10\n",
      "           1       0.98      0.98      0.98        52\n",
      "\n",
      "    accuracy                           0.97        62\n",
      "   macro avg       0.94      0.94      0.94        62\n",
      "weighted avg       0.97      0.97      0.97        62\n",
      "\n"
     ]
    }
   ],
   "source": [
    "from sklearn.svm import SVC\n",
    "SVM = SVC()\n",
    "SVM.fit(X, y)\n",
    "predictions = SVM.predict(X_test)\n",
    "val1 = (accuracy_score(y_test, predictions)*100)\n",
    "print(\"*Accuracy score for SVM: \", val1, \"\\n\")\n",
    "print(\"*Confusion Matrix for SVM: \")\n",
    "print(confusion_matrix(y_test, predictions))\n",
    "print(\"*Classification Report for SVM: \")\n",
    "print(classification_report(y_test, predictions))"
   ]
  },
  {
   "cell_type": "code",
   "execution_count": 56,
   "id": "d1b917dc-87bc-4138-b6b6-7c8aafb5d8b5",
   "metadata": {},
   "outputs": [
    {
     "name": "stdout",
     "output_type": "stream",
     "text": [
      "Accuracy : 0.967741935483871\n"
     ]
    },
    {
     "data": {
      "text/plain": [
       "(0.9, 0.15)"
      ]
     },
     "execution_count": 56,
     "metadata": {},
     "output_type": "execute_result"
    }
   ],
   "source": [
    "y_pred_svm = SVM.predict(X_test)\n",
    "from sklearn.metrics import confusion_matrix\n",
    "cm = confusion_matrix(y_test, y_pred_svm)\n",
    "cm\n",
    "svm_result = accuracy_score(y_test,y_pred_svm)\n",
    "print(\"Accuracy :\",svm_result)\n",
    "recall_svm = cm[0][0]/(cm[0][0] + cm[0][1])\n",
    "precision_svm = cm[0][0]/(cm[0][0]+cm[1][1])\n",
    "recall_svm,precision_svm"
   ]
  },
  {
   "cell_type": "markdown",
   "id": "e3417e6a-6eec-401c-a070-f69f5ccae26f",
   "metadata": {},
   "source": [
    "# Random Forest Classifier"
   ]
  },
  {
   "cell_type": "code",
   "execution_count": 59,
   "id": "24709881-563f-45b5-894b-622d598c2ced",
   "metadata": {},
   "outputs": [
    {
     "name": "stdout",
     "output_type": "stream",
     "text": [
      "*Accuracy score for RF:  96.7741935483871 \n",
      "\n",
      "*Confusion Matrix for RF: \n",
      "[[ 9  1]\n",
      " [ 1 51]]\n",
      "*Classification Report for RF: \n",
      "              precision    recall  f1-score   support\n",
      "\n",
      "           0       0.90      0.90      0.90        10\n",
      "           1       0.98      0.98      0.98        52\n",
      "\n",
      "    accuracy                           0.97        62\n",
      "   macro avg       0.94      0.94      0.94        62\n",
      "weighted avg       0.97      0.97      0.97        62\n",
      "\n"
     ]
    }
   ],
   "source": [
    "from sklearn.ensemble import RandomForestClassifier\n",
    "RF = RandomForestClassifier(n_estimators=100, random_state=42)\n",
    "RF.fit(X, y)\n",
    "predictions = RF.predict(X_test)\n",
    "val2 = (accuracy_score(y_test, predictions)*100)\n",
    "print(\"*Accuracy score for RF: \", val2, \"\\n\")\n",
    "print(\"*Confusion Matrix for RF: \")\n",
    "print(confusion_matrix(y_test, predictions))\n",
    "print(\"*Classification Report for RF: \")\n",
    "print(classification_report(y_test, predictions))"
   ]
  },
  {
   "cell_type": "code",
   "execution_count": 60,
   "id": "4943adab-6b29-492c-865a-fbe24b3f3881",
   "metadata": {},
   "outputs": [
    {
     "name": "stdout",
     "output_type": "stream",
     "text": [
      "Accuracy : 0.967741935483871\n"
     ]
    },
    {
     "data": {
      "text/plain": [
       "(0.9, 0.15)"
      ]
     },
     "execution_count": 60,
     "metadata": {},
     "output_type": "execute_result"
    }
   ],
   "source": [
    "y_pred_rf = RF.predict(X_test)\n",
    "cm = confusion_matrix(y_test, y_pred_rf)\n",
    "cm\n",
    "rf_result = accuracy_score(y_test,y_pred_rf)\n",
    "print(\"Accuracy :\",rf_result)\n",
    "recall_rf = cm[0][0]/(cm[0][0] + cm[0][1])\n",
    "precision_rf = cm[0][0]/(cm[0][0]+cm[1][1])\n",
    "recall_rf,precision_rf"
   ]
  },
  {
   "cell_type": "markdown",
   "id": "00aa99f3-0fb7-4fc4-8541-b12e78d68312",
   "metadata": {},
   "source": [
    "# KNeighborsClassifier"
   ]
  },
  {
   "cell_type": "code",
   "execution_count": 58,
   "id": "6c4dd1cd-2792-4616-8ffe-04adc5e301ad",
   "metadata": {},
   "outputs": [
    {
     "name": "stdout",
     "output_type": "stream",
     "text": [
      "*Accuracy score for KNN:  93.54838709677419 \n",
      "\n",
      "*Confusion Matrix for KNN: \n",
      "[[ 8  2]\n",
      " [ 2 50]]\n",
      "*Classification Report for KNN: \n",
      "              precision    recall  f1-score   support\n",
      "\n",
      "           0       0.80      0.80      0.80        10\n",
      "           1       0.96      0.96      0.96        52\n",
      "\n",
      "    accuracy                           0.94        62\n",
      "   macro avg       0.88      0.88      0.88        62\n",
      "weighted avg       0.94      0.94      0.94        62\n",
      "\n"
     ]
    }
   ],
   "source": [
    "from sklearn.neighbors import KNeighborsClassifier\n",
    "KNN = KNeighborsClassifier()\n",
    "KNN.fit(X, y)\n",
    "predictions = KNN.predict(X_test)\n",
    "val3 = (accuracy_score(y_test, predictions)*100)\n",
    "print(\"*Accuracy score for KNN: \", val3, \"\\n\")\n",
    "print(\"*Confusion Matrix for KNN: \")\n",
    "print(confusion_matrix(y_test, predictions))\n",
    "print(\"*Classification Report for KNN: \")\n",
    "print(classification_report(y_test, predictions))"
   ]
  },
  {
   "cell_type": "code",
   "execution_count": 62,
   "id": "ed97a875-c6bf-4a45-946a-de89185d810a",
   "metadata": {},
   "outputs": [
    {
     "name": "stdout",
     "output_type": "stream",
     "text": [
      "Accuracy : 0.9354838709677419\n"
     ]
    },
    {
     "data": {
      "text/plain": [
       "(0.8, 0.13793103448275862)"
      ]
     },
     "execution_count": 62,
     "metadata": {},
     "output_type": "execute_result"
    }
   ],
   "source": [
    "y_pred_knn = KNN.predict(X_test)\n",
    "cm = confusion_matrix(y_test, y_pred_knn)\n",
    "cm\n",
    "knn_result = accuracy_score(y_test,y_pred_knn)\n",
    "print(\"Accuracy :\",knn_result)\n",
    "recall_knn = cm[0][0]/(cm[0][0] + cm[0][1])\n",
    "precision_knn = cm[0][0]/(cm[0][0]+cm[1][1])\n",
    "recall_knn,precision_knn"
   ]
  },
  {
   "cell_type": "markdown",
   "id": "a6ccefd7-e59c-4fa1-94aa-e90d557fca5e",
   "metadata": {},
   "source": [
    "# ANN"
   ]
  },
  {
   "cell_type": "code",
   "execution_count": 63,
   "id": "8d6130ae-241c-45b1-80ba-d7096a0a77ce",
   "metadata": {},
   "outputs": [
    {
     "name": "stdout",
     "output_type": "stream",
     "text": [
      "*Accuracy score for ANN:  93.54838709677419 \n",
      "\n",
      "*Confusion Matrix for ANN: \n",
      "[[ 7  3]\n",
      " [ 1 51]]\n",
      "*Classification Report for ANN: \n",
      "              precision    recall  f1-score   support\n",
      "\n",
      "           0       0.88      0.70      0.78        10\n",
      "           1       0.94      0.98      0.96        52\n",
      "\n",
      "    accuracy                           0.94        62\n",
      "   macro avg       0.91      0.84      0.87        62\n",
      "weighted avg       0.93      0.94      0.93        62\n",
      "\n"
     ]
    }
   ],
   "source": [
    "from sklearn.neural_network import MLPClassifier\n",
    "ANN = MLPClassifier(solver='lbfgs', alpha=1e-5, hidden_layer_sizes=(5, 2), random_state=1)\n",
    "ANN.fit(X, y)\n",
    "predictions = ANN.predict(X_test)\n",
    "val4 = (accuracy_score(y_test, predictions)*100)\n",
    "print(\"*Accuracy score for ANN: \", val4, \"\\n\")\n",
    "print(\"*Confusion Matrix for ANN: \")\n",
    "print(confusion_matrix(y_test, predictions))\n",
    "print(\"*Classification Report for ANN: \")\n",
    "print(classification_report(y_test, predictions))"
   ]
  },
  {
   "cell_type": "code",
   "execution_count": 64,
   "id": "b9929ffa-77b4-48a3-ae9b-e5ef91ce45c4",
   "metadata": {},
   "outputs": [
    {
     "name": "stdout",
     "output_type": "stream",
     "text": [
      "Accuracy : 0.9354838709677419\n"
     ]
    },
    {
     "data": {
      "text/plain": [
       "(0.7, 0.1206896551724138)"
      ]
     },
     "execution_count": 64,
     "metadata": {},
     "output_type": "execute_result"
    }
   ],
   "source": [
    "y_pred_ann = ANN.predict(X_test)\n",
    "cm = confusion_matrix(y_test, y_pred_ann)\n",
    "cm\n",
    "ann_result = accuracy_score(y_test,y_pred_ann)\n",
    "print(\"Accuracy :\",ann_result)\n",
    "recall_ann = cm[0][0]/(cm[0][0] + cm[0][1])\n",
    "precision_ann = cm[0][0]/(cm[0][0]+cm[1][1])\n",
    "recall_ann,precision_ann"
   ]
  },
  {
   "cell_type": "markdown",
   "id": "09bd484e-2285-4930-8670-f273fc081664",
   "metadata": {},
   "source": [
    "# Voting classifier"
   ]
  },
  {
   "cell_type": "code",
   "execution_count": 74,
   "id": "d80a6725-0514-4e09-98f3-7da44b67724c",
   "metadata": {},
   "outputs": [
    {
     "name": "stdout",
     "output_type": "stream",
     "text": [
      "*Accuracy score for Voting Classifier:  96.7741935483871 \n",
      "\n",
      "*Confusion Matrix for Voting Classifier: \n",
      "[[ 9  1]\n",
      " [ 1 51]]\n",
      "*Classification Report for Voting Classifier: \n",
      "              precision    recall  f1-score   support\n",
      "\n",
      "           0       0.90      0.90      0.90        10\n",
      "           1       0.98      0.98      0.98        52\n",
      "\n",
      "    accuracy                           0.97        62\n",
      "   macro avg       0.94      0.94      0.94        62\n",
      "weighted avg       0.97      0.97      0.97        62\n",
      "\n"
     ]
    }
   ],
   "source": [
    "from sklearn.ensemble import RandomForestClassifier, VotingClassifier\n",
    "clf1 = SVC()\n",
    "clf2 = KNeighborsClassifier()\n",
    "clf3 = RandomForestClassifier(n_estimators=100, random_state=42)\n",
    "eclf = VotingClassifier(estimators=[('lr', clf1), ('rf', clf2), ('gnb', clf3)], voting='hard')\n",
    "eclf.fit(X, y)\n",
    "predictions = eclf.predict(X_test)\n",
    "val5 = (accuracy_score(y_test, predictions)*100)\n",
    "print(\"*Accuracy score for Voting Classifier: \", val5, \"\\n\")\n",
    "print(\"*Confusion Matrix for Voting Classifier: \")\n",
    "print(confusion_matrix(y_test, predictions))\n",
    "print(\"*Classification Report for Voting Classifier: \")\n",
    "print(classification_report(y_test, predictions))"
   ]
  },
  {
   "cell_type": "code",
   "execution_count": 75,
   "id": "2de73b9d-9b0a-4c8b-bfd7-7382ce875b5d",
   "metadata": {},
   "outputs": [
    {
     "name": "stdout",
     "output_type": "stream",
     "text": [
      "Accuracy : 0.967741935483871\n"
     ]
    },
    {
     "data": {
      "text/plain": [
       "(0.9, 0.15)"
      ]
     },
     "execution_count": 75,
     "metadata": {},
     "output_type": "execute_result"
    }
   ],
   "source": [
    "y_pred_eclf = eclf.predict(X_test)\n",
    "cm = confusion_matrix(y_test, y_pred_eclf)\n",
    "cm\n",
    "eclf_result = accuracy_score(y_test,y_pred_eclf)\n",
    "print(\"Accuracy :\",eclf_result)\n",
    "recall_eclf = cm[0][0]/(cm[0][0] + cm[0][1])\n",
    "precision_eclf = cm[0][0]/(cm[0][0]+cm[1][1])\n",
    "recall_eclf,precision_eclf"
   ]
  },
  {
   "cell_type": "markdown",
   "id": "c06f829c-a7b8-4ca6-9475-92eb7d809d7e",
   "metadata": {},
   "source": [
    "# Stacking Classifier"
   ]
  },
  {
   "cell_type": "code",
   "execution_count": 76,
   "id": "820f7104-6f10-4a09-ab78-51126b995b49",
   "metadata": {},
   "outputs": [
    {
     "name": "stdout",
     "output_type": "stream",
     "text": [
      "*Accuracy score for Stacking Classifier:  91.93548387096774 \n",
      "\n",
      "*Confusion Matrix for Stacking Classifier: \n",
      "[[ 6  4]\n",
      " [ 1 51]]\n",
      "*Classification Report for Stacking Classifier: \n",
      "              precision    recall  f1-score   support\n",
      "\n",
      "           0       0.86      0.60      0.71        10\n",
      "           1       0.93      0.98      0.95        52\n",
      "\n",
      "    accuracy                           0.92        62\n",
      "   macro avg       0.89      0.79      0.83        62\n",
      "weighted avg       0.92      0.92      0.91        62\n",
      "\n"
     ]
    }
   ],
   "source": [
    "from sklearn.ensemble import StackingClassifier\n",
    "from sklearn.linear_model import LogisticRegression\n",
    "from sklearn.preprocessing import StandardScaler\n",
    "from sklearn.pipeline import make_pipeline\n",
    "from sklearn.svm import LinearSVC\n",
    "\n",
    "estimators = [('rf', RandomForestClassifier(n_estimators=10, random_state=42)),('svr', make_pipeline(StandardScaler(),LinearSVC(random_state=42)))]\n",
    "clf = StackingClassifier(estimators=estimators, final_estimator=LogisticRegression())\n",
    "clf.fit(X, y)\n",
    "predictions = clf.predict(X_test)\n",
    "val6 = (accuracy_score(y_test, predictions)*100)\n",
    "print(\"*Accuracy score for Stacking Classifier: \", val6, \"\\n\")\n",
    "print(\"*Confusion Matrix for Stacking Classifier: \")\n",
    "print(confusion_matrix(y_test, predictions))\n",
    "print(\"*Classification Report for Stacking Classifier: \")\n",
    "print(classification_report(y_test, predictions))"
   ]
  },
  {
   "cell_type": "code",
   "execution_count": 77,
   "id": "1a58791f-f8cc-46db-bf30-7d04e8fb4834",
   "metadata": {},
   "outputs": [
    {
     "name": "stdout",
     "output_type": "stream",
     "text": [
      "Accuracy : 0.9193548387096774\n"
     ]
    },
    {
     "data": {
      "text/plain": [
       "(0.6, 0.10526315789473684)"
      ]
     },
     "execution_count": 77,
     "metadata": {},
     "output_type": "execute_result"
    }
   ],
   "source": [
    "y_pred_sc = clf.predict(X_test)\n",
    "cm = confusion_matrix(y_test, y_pred_sc)\n",
    "cm\n",
    "sc_result = accuracy_score(y_test,y_pred_sc)\n",
    "print(\"Accuracy :\",sc_result)\n",
    "recall_sc = cm[0][0]/(cm[0][0] + cm[0][1])\n",
    "precision_sc = cm[0][0]/(cm[0][0]+cm[1][1])\n",
    "recall_sc,precision_sc"
   ]
  },
  {
   "cell_type": "markdown",
   "id": "15ce9776-d41f-4d70-8b44-1c636f620e1e",
   "metadata": {},
   "source": [
    "# Logistic Regression"
   ]
  },
  {
   "cell_type": "code",
   "execution_count": 65,
   "id": "5fdfc751-e19e-4fe3-be7b-f16e880c1a23",
   "metadata": {},
   "outputs": [
    {
     "name": "stdout",
     "output_type": "stream",
     "text": [
      "*Accuracy score for Logistic Regression:  91.93548387096774 \n",
      "\n",
      "*Confusion Matrix for Logistic Regression: \n",
      "[[ 6  4]\n",
      " [ 1 51]]\n",
      "*Classification Report for Logistic Regression: \n",
      "              precision    recall  f1-score   support\n",
      "\n",
      "           0       0.86      0.60      0.71        10\n",
      "           1       0.93      0.98      0.95        52\n",
      "\n",
      "    accuracy                           0.92        62\n",
      "   macro avg       0.89      0.79      0.83        62\n",
      "weighted avg       0.92      0.92      0.91        62\n",
      "\n"
     ]
    }
   ],
   "source": [
    "from sklearn.linear_model import LogisticRegression\n",
    "log = LogisticRegression(random_state=0)\n",
    "log.fit(X, y)\n",
    "predictions = log.predict(X_test)\n",
    "val7 = (accuracy_score(y_test, predictions)*100)\n",
    "print(\"*Accuracy score for Logistic Regression: \", val7, \"\\n\")\n",
    "print(\"*Confusion Matrix for Logistic Regression: \")\n",
    "print(confusion_matrix(y_test, predictions))\n",
    "print(\"*Classification Report for Logistic Regression: \")\n",
    "print(classification_report(y_test, predictions))"
   ]
  },
  {
   "cell_type": "code",
   "execution_count": 66,
   "id": "e921d66c-c172-4c9c-a8d9-b1fb8135ea40",
   "metadata": {},
   "outputs": [
    {
     "name": "stdout",
     "output_type": "stream",
     "text": [
      "Accuracy : 0.9193548387096774\n"
     ]
    },
    {
     "data": {
      "text/plain": [
       "(0.6, 0.10526315789473684)"
      ]
     },
     "execution_count": 66,
     "metadata": {},
     "output_type": "execute_result"
    }
   ],
   "source": [
    "y_pred_log = log.predict(X_test)\n",
    "cm = confusion_matrix(y_test, y_pred_log)\n",
    "cm\n",
    "log_result = accuracy_score(y_test,y_pred_log)\n",
    "print(\"Accuracy :\",log_result)\n",
    "recall_log = cm[0][0]/(cm[0][0] + cm[0][1])\n",
    "precision_log = cm[0][0]/(cm[0][0]+cm[1][1])\n",
    "recall_log,precision_log"
   ]
  },
  {
   "cell_type": "markdown",
   "id": "50a6102b-200a-44f6-8379-22a487e17d4a",
   "metadata": {},
   "source": [
    "# Decision Tree"
   ]
  },
  {
   "cell_type": "code",
   "execution_count": 67,
   "id": "9d8a76a5-0f88-42a3-8ddb-8a9ae0090447",
   "metadata": {},
   "outputs": [
    {
     "name": "stdout",
     "output_type": "stream",
     "text": [
      "*Accuracy score for Decision Tree:  98.38709677419355 \n",
      "\n",
      "*Confusion Matrix for Decision Tree: \n",
      "[[10  0]\n",
      " [ 1 51]]\n",
      "*Classification Report for Decision Tree: \n",
      "              precision    recall  f1-score   support\n",
      "\n",
      "           0       0.91      1.00      0.95        10\n",
      "           1       1.00      0.98      0.99        52\n",
      "\n",
      "    accuracy                           0.98        62\n",
      "   macro avg       0.95      0.99      0.97        62\n",
      "weighted avg       0.99      0.98      0.98        62\n",
      "\n"
     ]
    }
   ],
   "source": [
    "from sklearn.tree import DecisionTreeClassifier\n",
    "log = DecisionTreeClassifier(random_state=0)\n",
    "log.fit(X, y)\n",
    "predictions = log.predict(X_test)\n",
    "val8 = (accuracy_score(y_test, predictions)*100)\n",
    "print(\"*Accuracy score for Decision Tree: \", val8, \"\\n\")\n",
    "print(\"*Confusion Matrix for Decision Tree: \")\n",
    "print(confusion_matrix(y_test, predictions))\n",
    "print(\"*Classification Report for Decision Tree: \")\n",
    "print(classification_report(y_test, predictions))"
   ]
  },
  {
   "cell_type": "code",
   "execution_count": 68,
   "id": "dff7ab28-7fca-401e-8f6e-94562a858d72",
   "metadata": {},
   "outputs": [
    {
     "name": "stdout",
     "output_type": "stream",
     "text": [
      "Accuracy : 0.9838709677419355\n"
     ]
    },
    {
     "data": {
      "text/plain": [
       "(1.0, 0.16393442622950818)"
      ]
     },
     "execution_count": 68,
     "metadata": {},
     "output_type": "execute_result"
    }
   ],
   "source": [
    "y_pred_dc = log.predict(X_test)\n",
    "cm = confusion_matrix(y_test, y_pred_dc)\n",
    "cm\n",
    "dc_result = accuracy_score(y_test,y_pred_dc)\n",
    "print(\"Accuracy :\",dc_result)\n",
    "recall_dc = cm[0][0]/(cm[0][0] + cm[0][1])\n",
    "precision_dc = cm[0][0]/(cm[0][0]+cm[1][1])\n",
    "recall_dc,precision_dc"
   ]
  },
  {
   "cell_type": "markdown",
   "id": "01749016-aefe-44bd-aa3e-addb623ea8a6",
   "metadata": {},
   "source": [
    "# Accuracy Comparison"
   ]
  },
  {
   "cell_type": "code",
   "execution_count": 78,
   "id": "be23b521-56b4-4c06-816b-b2d4ef7d30ee",
   "metadata": {},
   "outputs": [
    {
     "name": "stdout",
     "output_type": "stream",
     "text": [
      "[0 1 2 3 4 5 6 7]\n",
      "[96.7741935483871, 96.7741935483871, 93.54838709677419, 93.54838709677419, 96.7741935483871, 91.93548387096774, 91.93548387096774, 98.38709677419355]\n"
     ]
    }
   ],
   "source": [
    "score = [val1,val2,val3,val4,val5,val6,val7,val8]\n",
    "#make variabel for save the result and to show it\n",
    "classifier = ('SVM','Random Forest','KNN','ANN','Voting Classifier','Stacking Classifier','Logistic Regression','Decision Tree')\n",
    "y_pos = np.arange(len(classifier))\n",
    "print(y_pos)\n",
    "print(score)"
   ]
  },
  {
   "cell_type": "code",
   "execution_count": 79,
   "id": "8f6b19a0-8d57-47f0-9b23-56d0ebc8f906",
   "metadata": {},
   "outputs": [
    {
     "data": {
      "image/png": "[encoded data removed]",
      "text/plain": [
       "<Figure size 640x480 with 1 Axes>"
      ]
     },
     "metadata": {},
     "output_type": "display_data"
    }
   ],
   "source": [
    "import matplotlib.pyplot as plt2\n",
    "plt2.barh(y_pos, score, align='center', alpha=0.5,color='blue')\n",
    "plt2.yticks(y_pos, classifier)\n",
    "plt2.xlabel('Score')\n",
    "plt2.title('Accuracy Comparison')\n",
    "plt2.show()"
   ]
  },
  {
   "cell_type": "code",
   "execution_count": 80,
   "id": "0523a663-44b2-416f-84c5-26517718bf75",
   "metadata": {},
   "outputs": [],
   "source": [
    "results ={'Accuracy': [svm_result*100,rf_result*100,knn_result*100,ann_result*100,eclf_result*100,sc_result*100,log_result*100,dc_result*100],\n",
    " 'Recall':[recall_svm*100,recall_rf*100,recall_knn*100,recall_ann*100,recall_eclf*100,recall_sc*100,recall_log*100,recall_dc*100],\n",
    " 'Precision': [precision_svm*100,precision_rf*100,precision_knn*100,precision_ann*100,precision_eclf*100,precision_sc*100,precision_log*100,precision_dc*100]}\n",
    "index = ['SVM','Random Forest','KNN','ANN','Voting Classifier','Stacking Classifier','Logistic Regression','Decision Tree']\n"
   ]
  },
  {
   "cell_type": "code",
   "execution_count": 81,
   "id": "07a95cf0-7857-4bd8-8a63-0c9be108a067",
   "metadata": {},
   "outputs": [],
   "source": [
    "results =pd.DataFrame(results,index=index)"
   ]
  },
  {
   "cell_type": "code",
   "execution_count": 85,
   "id": "c8519f69-a2d2-4957-9ce4-3aa4e426cec5",
   "metadata": {},
   "outputs": [
    {
     "data": {
      "image/png": "[encoded data removed]",
      "text/plain": [
       "<Figure size 1000x1000 with 1 Axes>"
      ]
     },
     "metadata": {},
     "output_type": "display_data"
    }
   ],
   "source": [
    "fig =results.plot(kind='bar',title='Comaprison of models',figsize =(10,10)).get_figure()\n",
    "fig.savefig('acc.png')"
   ]
  },
  {
   "cell_type": "code",
   "execution_count": null,
   "id": "6d84c59e-4edb-4121-a549-80286f08c9b2",
   "metadata": {},
   "outputs": [],
   "source": []
  }
 ],
 "metadata": {
  "kernelspec": {
   "display_name": "Python 3 (ipykernel)",
   "language": "python",
   "name": "python3"
  },
  "language_info": {
   "codemirror_mode": {
    "name": "ipython",
    "version": 3
   },
   "file_extension": ".py",
   "mimetype": "text/x-python",
   "name": "python",
   "nbconvert_exporter": "python",
   "pygments_lexer": "ipython3",
   "version": "3.12.4"
  }
 },
 "nbformat": 4,
 "nbformat_minor": 5
}
