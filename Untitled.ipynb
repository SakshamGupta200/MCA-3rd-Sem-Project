{
 "cells": [
  {
   "cell_type": "code",
   "execution_count": 3,
   "id": "eea38fe9-0142-4ad5-80aa-be1f25285b06",
   "metadata": {},
   "outputs": [
    {
     "data": {
      "text/plain": [
       "{'SVC': 0.967741935483871,\n",
       " 'RandomForestClassifier': 0.9516129032258065,\n",
       " 'KNeighborsClassifier': 0.9354838709677419,\n",
       " 'MLPClassifier': 0.967741935483871,\n",
       " 'VotingClassifier': 0.9354838709677419,\n",
       " 'StackingClassifier': 0.967741935483871,\n",
       " 'LogisticRegression': 0.967741935483871,\n",
       " 'DecisionTreeClassifier': 0.9193548387096774}"
      ]
     },
     "execution_count": 3,
     "metadata": {},
     "output_type": "execute_result"
    }
   ],
   "source": [
    "# Now, let's load the dataset and compute the accuracy results based on the models trained in the notebook.\n",
    "import pandas as pd\n",
    "from sklearn import preprocessing\n",
    "from sklearn.model_selection import train_test_split\n",
    "from sklearn.svm import SVC\n",
    "from sklearn.ensemble import RandomForestClassifier\n",
    "from sklearn.neighbors import KNeighborsClassifier\n",
    "from sklearn.neural_network import MLPClassifier\n",
    "from sklearn.ensemble import VotingClassifier, StackingClassifier\n",
    "from sklearn.linear_model import LogisticRegression\n",
    "from sklearn.tree import DecisionTreeClassifier\n",
    "from sklearn.metrics import accuracy_score, confusion_matrix\n",
    "\n",
    "# Load dataset\n",
    "\n",
    "df = pd.read_csv(\"survey lung cancer.csv\")\n",
    "\n",
    "# Data Preprocessing: Encode the categorical columns\n",
    "le = preprocessing.LabelEncoder()\n",
    "df['GENDER'] = le.fit_transform(df['GENDER'])\n",
    "df['LUNG_CANCER'] = le.fit_transform(df['LUNG_CANCER'])\n",
    "\n",
    "# Drop unrelated columns for simplicity in this step (as was done in the notebook)\n",
    "X = df.drop(['AGE','GENDER','SHORTNESS OF BREATH','LUNG_CANCER'], axis=1)\n",
    "y = df['LUNG_CANCER']\n",
    "\n",
    "# Splitting the dataset into training and testing sets\n",
    "X_train, X_test, y_train, y_test = train_test_split(X, y, test_size=0.2, random_state=42)\n",
    "\n",
    "# Initializing the classifiers\n",
    "svm = SVC(kernel='linear')\n",
    "rf = RandomForestClassifier(n_estimators=100)\n",
    "knn = KNeighborsClassifier(n_neighbors=5)\n",
    "ann = MLPClassifier(max_iter=500)\n",
    "log = LogisticRegression()\n",
    "dc = DecisionTreeClassifier()\n",
    "\n",
    "# Voting and Stacking Classifiers\n",
    "eclf = VotingClassifier(estimators=[('svm', svm), ('rf', rf), ('knn', knn), ('log', log), ('dc', dc)], voting='hard')\n",
    "sc = StackingClassifier(estimators=[('svm', svm), ('rf', rf), ('knn', knn), ('log', log)], final_estimator=log)\n",
    "\n",
    "# Training and evaluating models\n",
    "models = [svm, rf, knn, ann, eclf, sc, log, dc]\n",
    "accuracy_results = {}\n",
    "\n",
    "for model in models:\n",
    "    model.fit(X_train, y_train)\n",
    "    y_pred = model.predict(X_test)\n",
    "    accuracy_results[model.__class__.__name__] = accuracy_score(y_test, y_pred)\n",
    "\n",
    "accuracy_results\n"
   ]
  },
  {
   "cell_type": "code",
   "execution_count": null,
   "id": "ff64f5db-7469-4726-bf0f-2c2607cd6dfc",
   "metadata": {},
   "outputs": [],
   "source": []
  }
 ],
 "metadata": {
  "kernelspec": {
   "display_name": "Python 3 (ipykernel)",
   "language": "python",
   "name": "python3"
  },
  "language_info": {
   "codemirror_mode": {
    "name": "ipython",
    "version": 3
   },
   "file_extension": ".py",
   "mimetype": "text/x-python",
   "name": "python",
   "nbconvert_exporter": "python",
   "pygments_lexer": "ipython3",
   "version": "3.12.4"
  }
 },
 "nbformat": 4,
 "nbformat_minor": 5
}
